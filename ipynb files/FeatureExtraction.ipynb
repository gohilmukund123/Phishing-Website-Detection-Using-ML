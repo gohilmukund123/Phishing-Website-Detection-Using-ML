{
  "cells": [
    {
      "cell_type": "markdown",
      "metadata": {
        "id": "INQw7NcYZ1cC"
      },
      "source": [
        "**Extracting features from phishing and benign urls.**"
      ]
    },
    {
      "cell_type": "markdown",
      "metadata": {
        "id": "oZsLCJPmXHoZ"
      },
      "source": [
        "> # **Intro**"
      ]
    },
    {
      "cell_type": "markdown",
      "metadata": {
        "id": "QjGcqHC4aMKi"
      },
      "source": [
        "From URLs we have to extract some features which will help us classify between phishing websites and legitimate one. \n",
        "The features can be classified into three types: \n",
        "1.   Address Bar Based Features\n",
        "2.   Abnormal Based Features\n",
        "3.   HTML and JavaScript based Features\n",
        "4.   Domain based Features\n",
        "\n",
        "\n",
        "Some of the featuers of phishing websites are: \n",
        "\n",
        "Using the IP Address\n",
        "\n",
        "> Using IP address in place of domain name in the URL such as `“http://125.98.3.123/fake.html”` and sometimes and IP address is used hex code: \n",
        "\n",
        "```\n",
        "“http://0x58.0xCC.0xCA.0x62/2/paypal.ca/index.html”\n",
        "```\n",
        "\n",
        "Other features are\n",
        "\n",
        "*   Long URLs. More than 52 char length are usually phishing urls. \n",
        "*   Using tiny url services. \n",
        "* Having *@* symbol in the in URL. \n",
        "* Using `-` hypthens in the url. \n",
        "\n",
        "The list is long and the features extracted are based on this paper:\n",
        "http://eprints.hud.ac.uk/id/eprint/24330/6/MohammadPhishing14July2015.pdf\n",
        "\n",
        "\n",
        " \n",
        "\n"
      ]
    },
    {
      "cell_type": "markdown",
      "metadata": {
        "id": "tgGC5ypZUp_-"
      },
      "source": []
    },
    {
      "cell_type": "code",
      "execution_count": 1,
      "metadata": {
        "id": "yOJeQz-0Zf2u"
      },
      "outputs": [],
      "source": [
        "import pandas as pd"
      ]
    },
    {
      "cell_type": "markdown",
      "metadata": {
        "id": "GVZqy1BMfdNe"
      },
      "source": [
        "Extracting phishing URLs"
      ]
    },
    {
      "cell_type": "code",
      "execution_count": 2,
      "metadata": {
        "id": "2FRDWEP9cIlg"
      },
      "outputs": [],
      "source": [
        "data0 = pd.read_csv('C:/Users/Liberty/OneDrive/Desktop/CYBER/PROJECTS/Phishing-website-detection-using-ML/Datasets/verified_online.csv')\n",
        "#http://data.phishtank.com/data/online-valid.csv\n"
      ]
    },
    {
      "cell_type": "code",
      "execution_count": 3,
      "metadata": {
        "colab": {
          "base_uri": "https://localhost:8080/",
          "height": 0
        },
        "id": "9wIH-5xccn9H",
        "outputId": "691bbd31-f2d6-4d62-dfae-8f8cc26b1c10"
      },
      "outputs": [
        {
          "data": {
            "text/html": [
              "<div>\n",
              "<style scoped>\n",
              "    .dataframe tbody tr th:only-of-type {\n",
              "        vertical-align: middle;\n",
              "    }\n",
              "\n",
              "    .dataframe tbody tr th {\n",
              "        vertical-align: top;\n",
              "    }\n",
              "\n",
              "    .dataframe thead th {\n",
              "        text-align: right;\n",
              "    }\n",
              "</style>\n",
              "<table border=\"1\" class=\"dataframe\">\n",
              "  <thead>\n",
              "    <tr style=\"text-align: right;\">\n",
              "      <th></th>\n",
              "      <th>phish_id</th>\n",
              "      <th>url</th>\n",
              "      <th>phish_detail_url</th>\n",
              "      <th>submission_time</th>\n",
              "      <th>verified</th>\n",
              "      <th>verification_time</th>\n",
              "      <th>online</th>\n",
              "      <th>target</th>\n",
              "    </tr>\n",
              "  </thead>\n",
              "  <tbody>\n",
              "    <tr>\n",
              "      <th>0</th>\n",
              "      <td>7265251</td>\n",
              "      <td>https://anazom.co.ip.lhpoct.shop/dR3snx1C.php?...</td>\n",
              "      <td>http://www.phishtank.com/phish_detail.php?phis...</td>\n",
              "      <td>2021-08-16T02:11:56+00:00</td>\n",
              "      <td>yes</td>\n",
              "      <td>2021-08-16T02:18:16+00:00</td>\n",
              "      <td>yes</td>\n",
              "      <td>Amazon.com</td>\n",
              "    </tr>\n",
              "    <tr>\n",
              "      <th>1</th>\n",
              "      <td>7265249</td>\n",
              "      <td>https://www.sprintage.it/images/login/bizmail.php</td>\n",
              "      <td>http://www.phishtank.com/phish_detail.php?phis...</td>\n",
              "      <td>2021-08-16T02:07:20+00:00</td>\n",
              "      <td>yes</td>\n",
              "      <td>2021-08-16T02:14:31+00:00</td>\n",
              "      <td>yes</td>\n",
              "      <td>Other</td>\n",
              "    </tr>\n",
              "    <tr>\n",
              "      <th>2</th>\n",
              "      <td>7265245</td>\n",
              "      <td>http://confirm-unverified-pplaccount.com/custo...</td>\n",
              "      <td>http://www.phishtank.com/phish_detail.php?phis...</td>\n",
              "      <td>2021-08-16T02:05:41+00:00</td>\n",
              "      <td>yes</td>\n",
              "      <td>2021-08-16T02:14:31+00:00</td>\n",
              "      <td>yes</td>\n",
              "      <td>Other</td>\n",
              "    </tr>\n",
              "    <tr>\n",
              "      <th>3</th>\n",
              "      <td>7265244</td>\n",
              "      <td>http://confirm-unverified-pplaccount.com/custo...</td>\n",
              "      <td>http://www.phishtank.com/phish_detail.php?phis...</td>\n",
              "      <td>2021-08-16T02:05:40+00:00</td>\n",
              "      <td>yes</td>\n",
              "      <td>2021-08-16T02:14:31+00:00</td>\n",
              "      <td>yes</td>\n",
              "      <td>Other</td>\n",
              "    </tr>\n",
              "    <tr>\n",
              "      <th>4</th>\n",
              "      <td>7265242</td>\n",
              "      <td>http://mail.confirm-unverified-pplaccount.com/...</td>\n",
              "      <td>http://www.phishtank.com/phish_detail.php?phis...</td>\n",
              "      <td>2021-08-16T02:05:36+00:00</td>\n",
              "      <td>yes</td>\n",
              "      <td>2021-08-16T02:14:31+00:00</td>\n",
              "      <td>yes</td>\n",
              "      <td>Other</td>\n",
              "    </tr>\n",
              "  </tbody>\n",
              "</table>\n",
              "</div>"
            ],
            "text/plain": [
              "   phish_id                                                url  \\\n",
              "0   7265251  https://anazom.co.ip.lhpoct.shop/dR3snx1C.php?...   \n",
              "1   7265249  https://www.sprintage.it/images/login/bizmail.php   \n",
              "2   7265245  http://confirm-unverified-pplaccount.com/custo...   \n",
              "3   7265244  http://confirm-unverified-pplaccount.com/custo...   \n",
              "4   7265242  http://mail.confirm-unverified-pplaccount.com/...   \n",
              "\n",
              "                                    phish_detail_url  \\\n",
              "0  http://www.phishtank.com/phish_detail.php?phis...   \n",
              "1  http://www.phishtank.com/phish_detail.php?phis...   \n",
              "2  http://www.phishtank.com/phish_detail.php?phis...   \n",
              "3  http://www.phishtank.com/phish_detail.php?phis...   \n",
              "4  http://www.phishtank.com/phish_detail.php?phis...   \n",
              "\n",
              "             submission_time verified          verification_time online  \\\n",
              "0  2021-08-16T02:11:56+00:00      yes  2021-08-16T02:18:16+00:00    yes   \n",
              "1  2021-08-16T02:07:20+00:00      yes  2021-08-16T02:14:31+00:00    yes   \n",
              "2  2021-08-16T02:05:41+00:00      yes  2021-08-16T02:14:31+00:00    yes   \n",
              "3  2021-08-16T02:05:40+00:00      yes  2021-08-16T02:14:31+00:00    yes   \n",
              "4  2021-08-16T02:05:36+00:00      yes  2021-08-16T02:14:31+00:00    yes   \n",
              "\n",
              "       target  \n",
              "0  Amazon.com  \n",
              "1       Other  \n",
              "2       Other  \n",
              "3       Other  \n",
              "4       Other  "
            ]
          },
          "execution_count": 3,
          "metadata": {},
          "output_type": "execute_result"
        }
      ],
      "source": [
        "data0.head()"
      ]
    },
    {
      "cell_type": "code",
      "execution_count": 4,
      "metadata": {
        "colab": {
          "base_uri": "https://localhost:8080/"
        },
        "id": "ylO-jLH-cpII",
        "outputId": "5bf403f1-13f6-4064-b634-28e846f68e64"
      },
      "outputs": [
        {
          "data": {
            "text/plain": [
              "(10784, 8)"
            ]
          },
          "execution_count": 4,
          "metadata": {},
          "output_type": "execute_result"
        }
      ],
      "source": [
        "data0.shape"
      ]
    },
    {
      "cell_type": "code",
      "execution_count": 5,
      "metadata": {
        "colab": {
          "base_uri": "https://localhost:8080/",
          "height": 0
        },
        "id": "-uFGxRaz9z5Y",
        "outputId": "c2ca48cd-d10c-4228-da21-d1d0a1a09565"
      },
      "outputs": [
        {
          "data": {
            "text/html": [
              "<div>\n",
              "<style scoped>\n",
              "    .dataframe tbody tr th:only-of-type {\n",
              "        vertical-align: middle;\n",
              "    }\n",
              "\n",
              "    .dataframe tbody tr th {\n",
              "        vertical-align: top;\n",
              "    }\n",
              "\n",
              "    .dataframe thead th {\n",
              "        text-align: right;\n",
              "    }\n",
              "</style>\n",
              "<table border=\"1\" class=\"dataframe\">\n",
              "  <thead>\n",
              "    <tr style=\"text-align: right;\">\n",
              "      <th></th>\n",
              "      <th>phish_id</th>\n",
              "      <th>url</th>\n",
              "      <th>phish_detail_url</th>\n",
              "      <th>submission_time</th>\n",
              "      <th>verified</th>\n",
              "      <th>verification_time</th>\n",
              "      <th>online</th>\n",
              "      <th>target</th>\n",
              "    </tr>\n",
              "  </thead>\n",
              "  <tbody>\n",
              "    <tr>\n",
              "      <th>0</th>\n",
              "      <td>7260589</td>\n",
              "      <td>https://hzibupigbnrtqezn-dot-sunlit-center-322...</td>\n",
              "      <td>http://www.phishtank.com/phish_detail.php?phis...</td>\n",
              "      <td>2021-08-10T15:26:24+00:00</td>\n",
              "      <td>yes</td>\n",
              "      <td>2021-08-10T15:49:26+00:00</td>\n",
              "      <td>yes</td>\n",
              "      <td>Other</td>\n",
              "    </tr>\n",
              "    <tr>\n",
              "      <th>1</th>\n",
              "      <td>7251242</td>\n",
              "      <td>http://netttxnet.byethost3.com/</td>\n",
              "      <td>http://www.phishtank.com/phish_detail.php?phis...</td>\n",
              "      <td>2021-07-31T23:57:53+00:00</td>\n",
              "      <td>yes</td>\n",
              "      <td>2021-08-01T00:08:16+00:00</td>\n",
              "      <td>yes</td>\n",
              "      <td>Other</td>\n",
              "    </tr>\n",
              "    <tr>\n",
              "      <th>2</th>\n",
              "      <td>7257550</td>\n",
              "      <td>https://phx.chromeproxy.net/direct/aHR0cHM6Ly9...</td>\n",
              "      <td>http://www.phishtank.com/phish_detail.php?phis...</td>\n",
              "      <td>2021-08-07T02:08:44+00:00</td>\n",
              "      <td>yes</td>\n",
              "      <td>2021-08-07T02:19:40+00:00</td>\n",
              "      <td>yes</td>\n",
              "      <td>Other</td>\n",
              "    </tr>\n",
              "    <tr>\n",
              "      <th>3</th>\n",
              "      <td>6887460</td>\n",
              "      <td>https://midnightluna1.typeform.com/to/bSFSrH4T</td>\n",
              "      <td>http://www.phishtank.com/phish_detail.php?phis...</td>\n",
              "      <td>2020-12-11T23:36:32+00:00</td>\n",
              "      <td>yes</td>\n",
              "      <td>2021-01-02T06:10:46+00:00</td>\n",
              "      <td>yes</td>\n",
              "      <td>Other</td>\n",
              "    </tr>\n",
              "    <tr>\n",
              "      <th>4</th>\n",
              "      <td>6772545</td>\n",
              "      <td>http://caracasmateriais.blogspot.com/</td>\n",
              "      <td>http://www.phishtank.com/phish_detail.php?phis...</td>\n",
              "      <td>2020-09-16T14:49:55+00:00</td>\n",
              "      <td>yes</td>\n",
              "      <td>2020-09-16T17:09:06+00:00</td>\n",
              "      <td>yes</td>\n",
              "      <td>Other</td>\n",
              "    </tr>\n",
              "  </tbody>\n",
              "</table>\n",
              "</div>"
            ],
            "text/plain": [
              "   phish_id                                                url  \\\n",
              "0   7260589  https://hzibupigbnrtqezn-dot-sunlit-center-322...   \n",
              "1   7251242                    http://netttxnet.byethost3.com/   \n",
              "2   7257550  https://phx.chromeproxy.net/direct/aHR0cHM6Ly9...   \n",
              "3   6887460     https://midnightluna1.typeform.com/to/bSFSrH4T   \n",
              "4   6772545              http://caracasmateriais.blogspot.com/   \n",
              "\n",
              "                                    phish_detail_url  \\\n",
              "0  http://www.phishtank.com/phish_detail.php?phis...   \n",
              "1  http://www.phishtank.com/phish_detail.php?phis...   \n",
              "2  http://www.phishtank.com/phish_detail.php?phis...   \n",
              "3  http://www.phishtank.com/phish_detail.php?phis...   \n",
              "4  http://www.phishtank.com/phish_detail.php?phis...   \n",
              "\n",
              "             submission_time verified          verification_time online target  \n",
              "0  2021-08-10T15:26:24+00:00      yes  2021-08-10T15:49:26+00:00    yes  Other  \n",
              "1  2021-07-31T23:57:53+00:00      yes  2021-08-01T00:08:16+00:00    yes  Other  \n",
              "2  2021-08-07T02:08:44+00:00      yes  2021-08-07T02:19:40+00:00    yes  Other  \n",
              "3  2020-12-11T23:36:32+00:00      yes  2021-01-02T06:10:46+00:00    yes  Other  \n",
              "4  2020-09-16T14:49:55+00:00      yes  2020-09-16T17:09:06+00:00    yes  Other  "
            ]
          },
          "execution_count": 5,
          "metadata": {},
          "output_type": "execute_result"
        }
      ],
      "source": [
        "#Collecting 5,000 Phishing URLs randomly\n",
        "phis_url = data0.sample(n = 5000, random_state = 12).copy()\n",
        "phis_url = phis_url.reset_index(drop=True)\n",
        "phis_url.head()\n"
      ]
    },
    {
      "cell_type": "markdown",
      "metadata": {
        "id": "wV3wx4M4Urqy"
      },
      "source": [
        "> # **Address Bar Based Features**\n",
        "\n",
        "\n",
        "\n"
      ]
    },
    {
      "cell_type": "markdown",
      "metadata": {
        "id": "Vt-Y1gY9d141"
      },
      "source": [
        "> **1.1 Extracting Legitimate URLs:**"
      ]
    },
    {
      "cell_type": "code",
      "execution_count": 6,
      "metadata": {
        "id": "Xw0ciCxKfqv3"
      },
      "outputs": [],
      "source": [
        "data1 = pd.read_csv('C:/Users/Liberty/OneDrive/Desktop/CYBER/PROJECTS/Phishing-website-detection-using-ML/Datasets/Benign_list.csv')"
      ]
    },
    {
      "cell_type": "code",
      "execution_count": 7,
      "metadata": {
        "colab": {
          "base_uri": "https://localhost:8080/",
          "height": 0
        },
        "id": "Utwg_t185A5T",
        "outputId": "f103a089-3e87-4f7b-ecbc-942e85fcb173"
      },
      "outputs": [
        {
          "data": {
            "text/html": [
              "<div>\n",
              "<style scoped>\n",
              "    .dataframe tbody tr th:only-of-type {\n",
              "        vertical-align: middle;\n",
              "    }\n",
              "\n",
              "    .dataframe tbody tr th {\n",
              "        vertical-align: top;\n",
              "    }\n",
              "\n",
              "    .dataframe thead th {\n",
              "        text-align: right;\n",
              "    }\n",
              "</style>\n",
              "<table border=\"1\" class=\"dataframe\">\n",
              "  <thead>\n",
              "    <tr style=\"text-align: right;\">\n",
              "      <th></th>\n",
              "      <th>URLs</th>\n",
              "    </tr>\n",
              "  </thead>\n",
              "  <tbody>\n",
              "    <tr>\n",
              "      <th>0</th>\n",
              "      <td>http://1337x.to/torrent/1110018/Blackhat-2015-...</td>\n",
              "    </tr>\n",
              "    <tr>\n",
              "      <th>1</th>\n",
              "      <td>http://1337x.to/torrent/1122940/Blackhat-2015-...</td>\n",
              "    </tr>\n",
              "    <tr>\n",
              "      <th>2</th>\n",
              "      <td>http://1337x.to/torrent/1124395/Fast-and-Furio...</td>\n",
              "    </tr>\n",
              "    <tr>\n",
              "      <th>3</th>\n",
              "      <td>http://1337x.to/torrent/1145504/Avengers-Age-o...</td>\n",
              "    </tr>\n",
              "    <tr>\n",
              "      <th>4</th>\n",
              "      <td>http://1337x.to/torrent/1160078/Avengers-age-o...</td>\n",
              "    </tr>\n",
              "  </tbody>\n",
              "</table>\n",
              "</div>"
            ],
            "text/plain": [
              "                                                URLs\n",
              "0  http://1337x.to/torrent/1110018/Blackhat-2015-...\n",
              "1  http://1337x.to/torrent/1122940/Blackhat-2015-...\n",
              "2  http://1337x.to/torrent/1124395/Fast-and-Furio...\n",
              "3  http://1337x.to/torrent/1145504/Avengers-Age-o...\n",
              "4  http://1337x.to/torrent/1160078/Avengers-age-o..."
            ]
          },
          "execution_count": 7,
          "metadata": {},
          "output_type": "execute_result"
        }
      ],
      "source": [
        "data1.columns = ['URLs']\n",
        "\n",
        "data1.head()"
      ]
    },
    {
      "cell_type": "code",
      "execution_count": 8,
      "metadata": {
        "colab": {
          "base_uri": "https://localhost:8080/"
        },
        "id": "66oenxaJf3W1",
        "outputId": "f15a908f-fe7b-43c6-a40b-46ffece2739d"
      },
      "outputs": [
        {
          "data": {
            "text/plain": [
              "(35377, 1)"
            ]
          },
          "execution_count": 8,
          "metadata": {},
          "output_type": "execute_result"
        }
      ],
      "source": [
        "data1.shape"
      ]
    },
    {
      "cell_type": "code",
      "execution_count": 9,
      "metadata": {
        "colab": {
          "base_uri": "https://localhost:8080/",
          "height": 0
        },
        "id": "cc-l7rQg-AMo",
        "outputId": "41e191a2-99ea-4007-cb46-b49084fbe4dd"
      },
      "outputs": [
        {
          "data": {
            "text/html": [
              "<div>\n",
              "<style scoped>\n",
              "    .dataframe tbody tr th:only-of-type {\n",
              "        vertical-align: middle;\n",
              "    }\n",
              "\n",
              "    .dataframe tbody tr th {\n",
              "        vertical-align: top;\n",
              "    }\n",
              "\n",
              "    .dataframe thead th {\n",
              "        text-align: right;\n",
              "    }\n",
              "</style>\n",
              "<table border=\"1\" class=\"dataframe\">\n",
              "  <thead>\n",
              "    <tr style=\"text-align: right;\">\n",
              "      <th></th>\n",
              "      <th>URLs</th>\n",
              "    </tr>\n",
              "  </thead>\n",
              "  <tbody>\n",
              "    <tr>\n",
              "      <th>0</th>\n",
              "      <td>http://graphicriver.net/search?date=this-month...</td>\n",
              "    </tr>\n",
              "    <tr>\n",
              "      <th>1</th>\n",
              "      <td>http://ecnavi.jp/redirect/?url=http://www.cros...</td>\n",
              "    </tr>\n",
              "    <tr>\n",
              "      <th>2</th>\n",
              "      <td>https://hubpages.com/signin?explain=follow+Hub...</td>\n",
              "    </tr>\n",
              "    <tr>\n",
              "      <th>3</th>\n",
              "      <td>http://extratorrent.cc/torrent/4190536/AOMEI+B...</td>\n",
              "    </tr>\n",
              "    <tr>\n",
              "      <th>4</th>\n",
              "      <td>http://icicibank.com/Personal-Banking/offers/o...</td>\n",
              "    </tr>\n",
              "  </tbody>\n",
              "</table>\n",
              "</div>"
            ],
            "text/plain": [
              "                                                URLs\n",
              "0  http://graphicriver.net/search?date=this-month...\n",
              "1  http://ecnavi.jp/redirect/?url=http://www.cros...\n",
              "2  https://hubpages.com/signin?explain=follow+Hub...\n",
              "3  http://extratorrent.cc/torrent/4190536/AOMEI+B...\n",
              "4  http://icicibank.com/Personal-Banking/offers/o..."
            ]
          },
          "execution_count": 9,
          "metadata": {},
          "output_type": "execute_result"
        }
      ],
      "source": [
        "#Collecting 5,000 Legitimate URLs randomly\n",
        "legi_url = data1.sample(n = 5000, random_state = 12).copy()\n",
        "legi_url = legi_url.reset_index(drop=True)\n",
        "legi_url.head()\n"
      ]
    },
    {
      "cell_type": "code",
      "execution_count": 10,
      "metadata": {
        "colab": {
          "base_uri": "https://localhost:8080/"
        },
        "id": "5AZi5ouZhocH",
        "outputId": "310a9335-9892-45e3-9f58-23793d207b4b"
      },
      "outputs": [
        {
          "name": "stdout",
          "output_type": "stream",
          "text": [
            "Requirement already satisfied: bs4 in c:\\users\\liberty\\appdata\\local\\programs\\python\\python311\\lib\\site-packages (0.0.2)Note: you may need to restart the kernel to use updated packages.\n",
            "\n",
            "Requirement already satisfied: beautifulsoup4 in c:\\users\\liberty\\appdata\\local\\programs\\python\\python311\\lib\\site-packages (from bs4) (4.12.2)\n",
            "Requirement already satisfied: soupsieve>1.2 in c:\\users\\liberty\\appdata\\local\\programs\\python\\python311\\lib\\site-packages (from beautifulsoup4->bs4) (2.4.1)\n"
          ]
        }
      ],
      "source": [
        "%pip install bs4\n"
      ]
    },
    {
      "cell_type": "markdown",
      "metadata": {
        "id": "NOc-mTNLhCEh"
      },
      "source": [
        "> **1.1 Extracting Domain of the url**"
      ]
    },
    {
      "cell_type": "code",
      "execution_count": 11,
      "metadata": {
        "id": "Dj7hIzCkhGL5"
      },
      "outputs": [],
      "source": [
        "import requests\n",
        "import re"
      ]
    },
    {
      "cell_type": "code",
      "execution_count": 12,
      "metadata": {
        "colab": {
          "base_uri": "https://localhost:8080/"
        },
        "id": "iB87CjQWjKDt",
        "outputId": "16c8335e-d20b-4f22-9378-24136e546053"
      },
      "outputs": [
        {
          "name": "stdout",
          "output_type": "stream",
          "text": [
            "Requirement already satisfied: bs4 in c:\\users\\liberty\\appdata\\local\\programs\\python\\python311\\lib\\site-packages (0.0.2)Note: you may need to restart the kernel to use updated packages.\n",
            "\n",
            "Requirement already satisfied: beautifulsoup4 in c:\\users\\liberty\\appdata\\local\\programs\\python\\python311\\lib\\site-packages (from bs4) (4.12.2)\n",
            "Requirement already satisfied: soupsieve>1.2 in c:\\users\\liberty\\appdata\\local\\programs\\python\\python311\\lib\\site-packages (from beautifulsoup4->bs4) (2.4.1)\n"
          ]
        }
      ],
      "source": [
        "%pip install bs4"
      ]
    },
    {
      "cell_type": "code",
      "execution_count": 13,
      "metadata": {
        "colab": {
          "base_uri": "https://localhost:8080/"
        },
        "id": "16EofFJUkUKL",
        "outputId": "808d1482-eea7-4073-ad10-0caf95534060"
      },
      "outputs": [
        {
          "data": {
            "text/plain": [
              "'c:\\\\Users\\\\Liberty\\\\OneDrive\\\\Desktop\\\\CYBER\\\\PROJECTS\\\\Phishing-website-detection-using-ML\\\\ipynb files'"
            ]
          },
          "execution_count": 13,
          "metadata": {},
          "output_type": "execute_result"
        }
      ],
      "source": [
        "%pwd"
      ]
    },
    {
      "cell_type": "code",
      "execution_count": 14,
      "metadata": {
        "id": "-pBERy5sk-xh"
      },
      "outputs": [],
      "source": [
        "from bs4 import BeautifulSoup\n",
        "from urllib.parse import urlparse\n"
      ]
    },
    {
      "cell_type": "code",
      "execution_count": 15,
      "metadata": {
        "id": "3xP1_GTSlg9V"
      },
      "outputs": [],
      "source": [
        "def getDomain(url):\n",
        "  domain = urlparse(url).netloc\n",
        "  if re.match(r\"^www.\",domain):\n",
        "    domain = domain.replace(\"www.\",\"\")\n",
        "  return domain\n"
      ]
    },
    {
      "cell_type": "code",
      "execution_count": 16,
      "metadata": {
        "colab": {
          "base_uri": "https://localhost:8080/",
          "height": 0
        },
        "id": "y1z1WCmcmH1-",
        "outputId": "c86002ae-f777-4b2b-ca93-d6762734c0d5"
      },
      "outputs": [
        {
          "data": {
            "text/plain": [
              "'youtube.com'"
            ]
          },
          "execution_count": 16,
          "metadata": {},
          "output_type": "execute_result"
        }
      ],
      "source": [
        "#checking if getDomain works\n",
        "getDomain('https://www.youtube.com/results?search_query=extracting+url+information')"
      ]
    },
    {
      "cell_type": "code",
      "execution_count": 17,
      "metadata": {
        "colab": {
          "base_uri": "https://localhost:8080/"
        },
        "id": "Lk8a0nwpp5rX",
        "outputId": "ab8a6386-a3ce-4089-e08e-eb030c410514"
      },
      "outputs": [
        {
          "name": "stdout",
          "output_type": "stream",
          "text": [
            "Requirement already satisfied: ipaddress in c:\\users\\liberty\\appdata\\local\\programs\\python\\python311\\lib\\site-packages (1.0.23)Note: you may need to restart the kernel to use updated packages.\n",
            "\n"
          ]
        }
      ],
      "source": [
        "%pip install ipaddress"
      ]
    },
    {
      "cell_type": "markdown",
      "metadata": {
        "id": "EBfEsPZ6_YsT"
      },
      "source": [
        "> **1.2 Extracting ipaddress from the url**"
      ]
    },
    {
      "cell_type": "code",
      "execution_count": 18,
      "metadata": {
        "id": "JAoIkeekmTaz"
      },
      "outputs": [],
      "source": [
        "#checking if url contains an IP address\n",
        "import ipaddress\n",
        "def haveIP(url):\n",
        "  try:\n",
        "    ipaddress.ip_address(url)\n",
        "    ip = 1\n",
        "  except:\n",
        "    ip = 0\n",
        "  return ip"
      ]
    },
    {
      "cell_type": "code",
      "execution_count": 19,
      "metadata": {
        "colab": {
          "base_uri": "https://localhost:8080/"
        },
        "id": "Xp_9ZZKAoL6l",
        "outputId": "32d5e0a6-3760-456e-9eca-635eb4b25aa3"
      },
      "outputs": [
        {
          "name": "stdout",
          "output_type": "stream",
          "text": [
            "1\n",
            "0\n"
          ]
        }
      ],
      "source": [
        "#checking the haveIP fun\n",
        "x = '127.0.0.1'\n",
        "print( haveIP(x) ) \n",
        "x = 'www.google.com'\n",
        "print ( haveIP(x) ) "
      ]
    },
    {
      "cell_type": "markdown",
      "metadata": {
        "id": "uKmubJo0_aNs"
      },
      "source": [
        "> **1.3 Extracting *@* symbol from the url**\n",
        "\n",
        "\n"
      ]
    },
    {
      "cell_type": "code",
      "execution_count": 20,
      "metadata": {
        "id": "w71G209MrOoS"
      },
      "outputs": [],
      "source": [
        "#Checking for @ symbol in the URL\n",
        "def haveAt(url): \n",
        "  if '@' in url: \n",
        "    return 1\n",
        "  else:\n",
        "    return 0"
      ]
    },
    {
      "cell_type": "code",
      "execution_count": 21,
      "metadata": {
        "colab": {
          "base_uri": "https://localhost:8080/"
        },
        "id": "iTBYaRjYsveK",
        "outputId": "25ab674a-38bd-4d92-80c6-033f85826160"
      },
      "outputs": [
        {
          "name": "stdout",
          "output_type": "stream",
          "text": [
            "0\n",
            "1\n"
          ]
        }
      ],
      "source": [
        "#checking the have_at fun\n",
        "x = 'www.google.com'\n",
        "y = 'www.yahoo@gmail.com'\n",
        "print( haveAt(x) ) \n",
        "print( haveAt(y) ) "
      ]
    },
    {
      "cell_type": "markdown",
      "metadata": {
        "id": "NETylubl_hOO"
      },
      "source": [
        "> **1.4 Extracting the length of url**"
      ]
    },
    {
      "cell_type": "code",
      "execution_count": 22,
      "metadata": {
        "id": "hT5f3RbntZGm"
      },
      "outputs": [],
      "source": [
        "#Checking the length of the URL\n",
        "def urlLength(url): \n",
        "  if len(url) < 54: \n",
        "    return 0\n",
        "  else: \n",
        "    return 1"
      ]
    },
    {
      "cell_type": "markdown",
      "metadata": {
        "id": "wjVqmAus_lua"
      },
      "source": [
        "> **1.5 Extracting the tiny URL shotners from the url**"
      ]
    },
    {
      "cell_type": "code",
      "execution_count": 23,
      "metadata": {
        "id": "nvSlwjS0xj4i"
      },
      "outputs": [],
      "source": [
        "#Checking if the url uses tinyUrl services\n",
        "\n",
        "short_url_services =  r\"bit\\.ly|goo\\.gl|shorte\\.st|go2l\\.ink|x\\.co|ow\\.ly|t\\.co|tinyurl|tr\\.im|is\\.gd|cli\\.gs|\" \\\n",
        "                      r\"yfrog\\.com|migre\\.me|ff\\.im|tiny\\.cc|url4\\.eu|twit\\.ac|su\\.pr|twurl\\.nl|snipurl\\.com|\" \\\n",
        "                      r\"short\\.to|BudURL\\.com|ping\\.fm|post\\.ly|Just\\.as|bkite\\.com|snipr\\.com|fic\\.kr|loopt\\.us|\" \\\n",
        "                      r\"doiop\\.com|short\\.ie|kl\\.am|wp\\.me|rubyurl\\.com|om\\.ly|to\\.ly|bit\\.do|t\\.co|lnkd\\.in|db\\.tt|\" \\\n",
        "                      r\"qr\\.ae|adf\\.ly|goo\\.gl|bitly\\.com|cur\\.lv|tinyurl\\.com|ow\\.ly|bit\\.ly|ity\\.im|q\\.gs|is\\.gd|\" \\\n",
        "                      r\"po\\.st|bc\\.vc|twitthis\\.com|u\\.to|j\\.mp|buzurl\\.com|cutt\\.us|u\\.bb|yourls\\.org|x\\.co|\" \\\n",
        "                      r\"prettylinkpro\\.com|scrnch\\.me|filoops\\.info|vzturl\\.com|qr\\.net|1url\\.com|tweez\\.me|v\\.gd|\" \\\n",
        "                      r\"tr\\.im|link\\.zip\\.net\""
      ]
    },
    {
      "cell_type": "code",
      "execution_count": 24,
      "metadata": {
        "id": "YboKZ0t68x7H"
      },
      "outputs": [],
      "source": [
        "def usesTinyUrl(url):      \n",
        "  temp = re.search(short_url_services, url)\n",
        "  if(temp):\n",
        "    return 1\n",
        "  else: \n",
        "    return 0"
      ]
    },
    {
      "cell_type": "code",
      "execution_count": 25,
      "metadata": {
        "colab": {
          "base_uri": "https://localhost:8080/"
        },
        "id": "Djx_AHiczZRB",
        "outputId": "f1a5b616-4cdc-4f36-fe8b-a5979f16457b"
      },
      "outputs": [
        {
          "name": "stdout",
          "output_type": "stream",
          "text": [
            "1\n",
            "0\n"
          ]
        }
      ],
      "source": [
        "#checking UsesTinyUrl fun\n",
        "x = 'bit.ly/19DXSk4'\n",
        "y = 'www.yahoo.com'\n",
        "print( usesTinyUrl(x) ) \n",
        "print( usesTinyUrl(y) ) "
      ]
    },
    {
      "cell_type": "markdown",
      "metadata": {
        "id": "KjQZAUqU_vya"
      },
      "source": [
        "> **1.6 Extracting the hyphens from the url**"
      ]
    },
    {
      "cell_type": "code",
      "execution_count": 26,
      "metadata": {
        "id": "X68VmCNjzn5U"
      },
      "outputs": [],
      "source": [
        "#Checking if URL contains '-'. \n",
        "def haveHyphen(url): \n",
        "  if '-' in urlparse(url).netloc:\n",
        "    return 1            # phishing\n",
        "  else:\n",
        "    return 0            # legitimate\n"
      ]
    },
    {
      "cell_type": "code",
      "execution_count": 27,
      "metadata": {
        "colab": {
          "base_uri": "https://localhost:8080/"
        },
        "id": "jGmmQ_B20bsW",
        "outputId": "3b919fd8-1e11-4d51-a593-9a737fa1beaa"
      },
      "outputs": [
        {
          "name": "stdout",
          "output_type": "stream",
          "text": [
            "0\n",
            "0\n"
          ]
        }
      ],
      "source": [
        "#checking the haveHypen\n",
        "print( haveHyphen('www.pay-tm.com') ) \n",
        "print( haveHyphen('www.google--pay-1.com'))"
      ]
    },
    {
      "cell_type": "code",
      "execution_count": 28,
      "metadata": {
        "colab": {
          "base_uri": "https://localhost:8080/"
        },
        "id": "aaoxKKKH3SS4",
        "outputId": "40b2ab86-3475-4b7e-f331-4f82174fc8da"
      },
      "outputs": [
        {
          "name": "stdout",
          "output_type": "stream",
          "text": [
            "Requirement already satisfied: tldextract in c:\\users\\liberty\\appdata\\local\\programs\\python\\python311\\lib\\site-packages (5.1.2)\n",
            "Requirement already satisfied: idna in c:\\users\\liberty\\appdata\\local\\programs\\python\\python311\\lib\\site-packages (from tldextract) (3.4)\n",
            "Requirement already satisfied: requests>=2.1.0 in c:\\users\\liberty\\appdata\\local\\programs\\python\\python311\\lib\\site-packages (from tldextract) (2.31.0)\n",
            "Requirement already satisfied: requests-file>=1.4 in c:\\users\\liberty\\appdata\\local\\programs\\python\\python311\\lib\\site-packages (from tldextract) (2.1.0)\n",
            "Requirement already satisfied: filelock>=3.0.8 in c:\\users\\liberty\\appdata\\local\\programs\\python\\python311\\lib\\site-packages (from tldextract) (3.14.0)\n",
            "Requirement already satisfied: charset-normalizer<4,>=2 in c:\\users\\liberty\\appdata\\local\\programs\\python\\python311\\lib\\site-packages (from requests>=2.1.0->tldextract) (3.2.0)\n",
            "Requirement already satisfied: urllib3<3,>=1.21.1 in c:\\users\\liberty\\appdata\\local\\programs\\python\\python311\\lib\\site-packages (from requests>=2.1.0->tldextract) (2.0.4)\n",
            "Requirement already satisfied: certifi>=2017.4.17 in c:\\users\\liberty\\appdata\\local\\programs\\python\\python311\\lib\\site-packages (from requests>=2.1.0->tldextract) (2023.7.22)\n",
            "Note: you may need to restart the kernel to use updated packages.\n"
          ]
        }
      ],
      "source": [
        "%pip install tldextract"
      ]
    },
    {
      "cell_type": "markdown",
      "metadata": {
        "id": "XXp4UhwsA2xg"
      },
      "source": [
        "> **1.7Extracting subdomains from the url.**"
      ]
    },
    {
      "cell_type": "code",
      "execution_count": 29,
      "metadata": {
        "id": "TubLpWYP0lQQ"
      },
      "outputs": [],
      "source": [
        "#checking if the Url have multi sub domain\n",
        "#Not working currently\n",
        "import tldextract\n",
        "def multiSubDomain(url):   \n",
        "  x = tldextract.extract(url)\n",
        "  print(x)\n",
        "\n"
      ]
    },
    {
      "cell_type": "code",
      "execution_count": 30,
      "metadata": {
        "colab": {
          "base_uri": "https://localhost:8080/"
        },
        "id": "bVkR7T091pIy",
        "outputId": "4beed88c-1fa2-4e8c-c29c-19123dd16fb7"
      },
      "outputs": [
        {
          "name": "stdout",
          "output_type": "stream",
          "text": [
            "ExtractResult(subdomain='www1.eposcard-co-jp-mcmbresreviec.s20r084.abc.def', domain='ghi', suffix='cn', is_private=False)\n",
            "None\n",
            "ExtractResult(subdomain='www', domain='hud', suffix='ac.uk', is_private=False)\n",
            "None\n"
          ]
        }
      ],
      "source": [
        "#checking multi sub domain \n",
        "x = 'https://www1.eposcard-co-jp-mcmbresreviec.s20r084.abc.def.ghi.cn/'\n",
        "y = 'http://www.hud.ac.uk/students/page1.html'\n",
        "print ( multiSubDomain(x) )\n",
        "print ( multiSubDomain(y) ) "
      ]
    },
    {
      "cell_type": "code",
      "execution_count": 31,
      "metadata": {},
      "outputs": [
        {
          "name": "stdout",
          "output_type": "stream",
          "text": [
            "Requirement already satisfied: scikit-learn in c:\\users\\liberty\\appdata\\local\\programs\\python\\python311\\lib\\site-packages (1.4.0)\n",
            "Requirement already satisfied: numpy<2.0,>=1.19.5 in c:\\users\\liberty\\appdata\\local\\programs\\python\\python311\\lib\\site-packages (from scikit-learn) (1.25.2)\n",
            "Requirement already satisfied: scipy>=1.6.0 in c:\\users\\liberty\\appdata\\local\\programs\\python\\python311\\lib\\site-packages (from scikit-learn) (1.12.0)\n",
            "Requirement already satisfied: joblib>=1.2.0 in c:\\users\\liberty\\appdata\\local\\programs\\python\\python311\\lib\\site-packages (from scikit-learn) (1.3.2)\n",
            "Requirement already satisfied: threadpoolctl>=2.0.0 in c:\\users\\liberty\\appdata\\local\\programs\\python\\python311\\lib\\site-packages (from scikit-learn) (3.2.0)\n",
            "Note: you may need to restart the kernel to use updated packages.\n"
          ]
        }
      ],
      "source": [
        "%pip install scikit-learn"
      ]
    },
    {
      "cell_type": "markdown",
      "metadata": {
        "id": "VQJ9IZOx4Vcd"
      },
      "source": [
        "> **1.8 Extracting `//` from the url**"
      ]
    },
    {
      "cell_type": "code",
      "execution_count": 32,
      "metadata": {
        "id": "KCs2pEdbBRTK"
      },
      "outputs": [],
      "source": [
        "#finding the depth of // from the url\n",
        "def redirection(url):\n",
        "  pos = url.rfind('//')\n",
        "  if pos > 6:\n",
        "    if pos > 7:\n",
        "      return 1\n",
        "    else:\n",
        "      return 0\n",
        "  else:\n",
        "    return 0"
      ]
    },
    {
      "cell_type": "code",
      "execution_count": 33,
      "metadata": {
        "colab": {
          "base_uri": "https://localhost:8080/"
        },
        "id": "5WjeqsfpCpJA",
        "outputId": "4751e2e9-6925-4a38-a041-48b4b4eaa8ce"
      },
      "outputs": [
        {
          "name": "stdout",
          "output_type": "stream",
          "text": [
            "0\n"
          ]
        }
      ],
      "source": [
        "#checking the redirection \n",
        "x = 'http://eprints.hud.ac.uk/id/eprint/24330/6/MohammadPhishing14July2015.pdf'\n",
        "print( redirection(x) )"
      ]
    },
    {
      "cell_type": "markdown",
      "metadata": {
        "id": "HycSvzLeCy90"
      },
      "source": [
        "> **1.9 Extracting the HTTPs certificate age and issuer**"
      ]
    },
    {
      "cell_type": "code",
      "execution_count": 34,
      "metadata": {
        "colab": {
          "base_uri": "https://localhost:8080/"
        },
        "id": "6lkPR5e7FHaE",
        "outputId": "14debac3-cc90-44d9-bcec-90d8f91ef41b"
      },
      "outputs": [
        {
          "name": "stdout",
          "output_type": "stream",
          "text": [
            "<Response [200]>\n"
          ]
        }
      ],
      "source": [
        "import requests\n",
        "#not working correctly\n",
        "\n",
        "response = requests.get('https://stackoverflow.com/questions/29773003/check-whether-domain-is-registered')\n",
        "print(response)"
      ]
    },
    {
      "cell_type": "markdown",
      "metadata": {
        "id": "gyo0tegXFV3R"
      },
      "source": [
        "> **1.10 Extracting domain registration length**"
      ]
    },
    {
      "cell_type": "code",
      "execution_count": 35,
      "metadata": {
        "colab": {
          "base_uri": "https://localhost:8080/"
        },
        "id": "dJ6UVm4XHvBz",
        "outputId": "e61ff0d9-c5e5-4dc8-8298-2207ba90dd85"
      },
      "outputs": [
        {
          "name": "stdout",
          "output_type": "stream",
          "text": [
            "Requirement already satisfied: python-whois in c:\\users\\liberty\\appdata\\local\\programs\\python\\python311\\lib\\site-packages (0.9.4)\n",
            "Requirement already satisfied: python-dateutil in c:\\users\\liberty\\appdata\\local\\programs\\python\\python311\\lib\\site-packages (from python-whois) (2.8.2)\n",
            "Requirement already satisfied: six>=1.5 in c:\\users\\liberty\\appdata\\local\\programs\\python\\python311\\lib\\site-packages (from python-dateutil->python-whois) (1.16.0)\n",
            "Note: you may need to restart the kernel to use updated packages.\n"
          ]
        }
      ],
      "source": [
        "%pip install python-whois"
      ]
    },
    {
      "cell_type": "code",
      "execution_count": 36,
      "metadata": {
        "id": "S89WM7YCGWOz"
      },
      "outputs": [],
      "source": [
        "#finding the domani registration date from the url\n",
        "import whois \n",
        "from datetime import datetime\n",
        "from dateutil.relativedelta import relativedelta\n",
        "def domainRegLength(url):\n",
        "  try: \n",
        "    temp = whois.whois(url)      \n",
        "    #print(datetime.today(), ' credate ', temp.creation_date[0])  \n",
        "    return relativedelta(datetime.today(), temp.creation_date[0]).years\n",
        "  except: \n",
        "    return 0"
      ]
    },
    {
      "cell_type": "code",
      "execution_count": 37,
      "metadata": {
        "colab": {
          "base_uri": "https://localhost:8080/"
        },
        "id": "STfI6sMSJJ6R",
        "outputId": "5e3a18c8-46dc-4cf2-8a8e-f3e2a075d555"
      },
      "outputs": [
        {
          "name": "stdout",
          "output_type": "stream",
          "text": [
            "26\n",
            "0\n"
          ]
        }
      ],
      "source": [
        "#checking the domdin reg len fun\n",
        "x = 'www.google.com'\n",
        "y = 'http://u1047531.cp.regruhosting.ru/acces-inges-20200104-t452/3facd/'\n",
        "print( domainRegLength(x) )\n",
        "print ( domainRegLength(y) ) \n",
        "\n"
      ]
    },
    {
      "cell_type": "markdown",
      "metadata": {
        "id": "gYJIEfm0Jd1V"
      },
      "source": [
        "> **1.10 Extracting hidden https token in domain**\n"
      ]
    },
    {
      "cell_type": "code",
      "execution_count": 38,
      "metadata": {
        "colab": {
          "base_uri": "https://localhost:8080/"
        },
        "id": "2QiGnCB6SukE",
        "outputId": "3ca4d487-1f2a-4c85-edc0-42176077bdc3"
      },
      "outputs": [
        {
          "name": "stdout",
          "output_type": "stream",
          "text": [
            "http-www-paypal-it-webapps-mpp-home.soft-hair.com\n"
          ]
        },
        {
          "data": {
            "text/plain": [
              "0"
            ]
          },
          "execution_count": 38,
          "metadata": {},
          "output_type": "execute_result"
        }
      ],
      "source": [
        "#checking the existense of hidden http/https\n",
        "def hiddenhttps(url): \n",
        "  domain = urlparse(url).netloc\n",
        "  print(domain)\n",
        "  if 'https' in domain: \n",
        "    return 1\n",
        "  else: \n",
        "    return 0\n",
        "\n",
        "#checking the working of above fun\n",
        "x = 'https://open.spotify.com/playlist/3mHGpdWE9oxUjcNZJvCkBe'\n",
        "y = 'http://https-www-paypal-it-webapps-mpp-home.soft-hair.com/'\n",
        "z = 'https://http-www-paypal-it-webapps-mpp-home.soft-hair.com/'\n",
        "hiddenhttps(z)"
      ]
    },
    {
      "cell_type": "markdown",
      "metadata": {
        "id": "iS4u2CsLz_5O"
      },
      "source": [
        "> **1.11 Extracting Depth of the URL**\n"
      ]
    },
    {
      "cell_type": "code",
      "execution_count": 39,
      "metadata": {
        "id": "-hI8HHnj0Fjj"
      },
      "outputs": [],
      "source": [
        "def getDepth(url):\n",
        "  s = urlparse(url).path.split('/')\n",
        "  depth = 0\n",
        "  for j in range(len(s)):\n",
        "    if len(s[j]) != 0:\n",
        "      depth = depth+1\n",
        "  return depth\n"
      ]
    },
    {
      "cell_type": "markdown",
      "metadata": {
        "id": "M1PaqYikTcWs"
      },
      "source": [
        "> #  **Domain Based Features**\n",
        "\n",
        "\n"
      ]
    },
    {
      "cell_type": "markdown",
      "metadata": {
        "id": "kjllhugXyh5W"
      },
      "source": [
        "> **2.1 Age of Domain**"
      ]
    },
    {
      "cell_type": "code",
      "execution_count": 40,
      "metadata": {
        "id": "0f061bpxyiwp"
      },
      "outputs": [],
      "source": [
        "#If age of domain > 12 months, the vlaue of this feature is 1 (phishing) else 0 (legitimate).\n",
        "def domainAge(domain_name):\n",
        "  creation_date = domain_name.creation_date\n",
        "  expiration_date = domain_name.expiration_date\n",
        "  if (isinstance(creation_date,str) or isinstance(expiration_date,str)):\n",
        "    try:\n",
        "      creation_date = datetime.strptime(creation_date,'%Y-%m-%d')\n",
        "      expiration_date = datetime.strptime(expiration_date,\"%Y-%m-%d\")\n",
        "    except:\n",
        "      return 1\n",
        "  if ((expiration_date is None) or (creation_date is None)):\n",
        "      return 1\n",
        "  elif ((type(expiration_date) is list) or (type(creation_date) is list)):\n",
        "      return 1\n",
        "  else:\n",
        "    ageofdomain = abs((expiration_date - creation_date).days)\n",
        "    if ((ageofdomain/30) < 6):\n",
        "      age = 1\n",
        "    else:\n",
        "      age = 0\n",
        "  return age\n"
      ]
    },
    {
      "cell_type": "markdown",
      "metadata": {
        "id": "BzqArVLzyitn"
      },
      "source": [
        "> **2.2 End Period of Domain**"
      ]
    },
    {
      "cell_type": "code",
      "execution_count": 41,
      "metadata": {
        "id": "ASW3c5kOyiq1"
      },
      "outputs": [],
      "source": [
        "#If end period of domain > 6 months, the vlaue of this feature is 1 (phishing) else 0 (legitimate).\n",
        "def domainEnd(domain_name):\n",
        "  expiration_date = domain_name.expiration_date\n",
        "  if isinstance(expiration_date,str):\n",
        "    try:\n",
        "      expiration_date = datetime.strptime(expiration_date,\"%Y-%m-%d\")\n",
        "    except:\n",
        "      return 1\n",
        "  if (expiration_date is None):\n",
        "      return 1\n",
        "  elif (type(expiration_date) is list):\n",
        "      return 1\n",
        "  else:\n",
        "    today = datetime.now()\n",
        "    end = abs((expiration_date - today).days)\n",
        "    if ((end/30) < 6):\n",
        "      end = 0\n",
        "    else:\n",
        "      end = 1\n",
        "  return end\n"
      ]
    },
    {
      "cell_type": "markdown",
      "metadata": {
        "id": "RaIBvylCWvw6"
      },
      "source": [
        "> # **HTML and Javascript based features**\n"
      ]
    },
    {
      "cell_type": "markdown",
      "metadata": {
        "id": "bSJMxgyyXfYJ"
      },
      "source": [
        "> **3.1 . IFrame Redirection**"
      ]
    },
    {
      "cell_type": "code",
      "execution_count": 42,
      "metadata": {
        "id": "3US4olF1XlQ5"
      },
      "outputs": [],
      "source": [
        "  #If the iframe is empty or repsonse is not found then, the value assigned to this feature is 1 (phishing) or else 0 (legitimate).\n",
        "\n",
        "def iframe(response):\n",
        "    if response == \"\":\n",
        "        return 1\n",
        "    else:           \n",
        "        if re.findall(r\"[<iframe>|<frameBorder>]\", response.text):\n",
        "            return 0\n",
        "        else:\n",
        "            return 1"
      ]
    },
    {
      "cell_type": "markdown",
      "metadata": {
        "id": "_L6RYYEHwyDI"
      },
      "source": [
        "> **3.2 . Status Bar Customization**"
      ]
    },
    {
      "cell_type": "code",
      "execution_count": 43,
      "metadata": {
        "id": "kMz5thcPw_1M"
      },
      "outputs": [],
      "source": [
        "# If the response is empty or onmouseover is found then, the value assigned to this feature is 1 (phishing) or else 0 (legitimate).\n",
        "def mouseOver(response): \n",
        "  if response == \"\" :\n",
        "    return 1\n",
        "  else:    \n",
        "    if re.findall(\"<script>.+onmouseover.+</script>\", response.text):\n",
        "      return 1\n",
        "    else:\n",
        "      return 0"
      ]
    },
    {
      "cell_type": "markdown",
      "metadata": {
        "id": "NUpTR0oGxODj"
      },
      "source": [
        "> **3.3 . Status Bar Customization**"
      ]
    },
    {
      "cell_type": "code",
      "execution_count": 44,
      "metadata": {
        "id": "6z-pFrkPxTiO"
      },
      "outputs": [],
      "source": [
        "# If the response is empty or onmouseover is not found then, the value assigned to this feature is 1 (phishing) or else 0 (legitimate).\n",
        "def rightClick(response):\n",
        "  if response == \"\":\n",
        "    return 1\n",
        "  else:    \n",
        "    if re.findall(r\"event.button ?== ?2\", response.text):\n",
        "      return 0\n",
        "    else:\n",
        "      return 1\n"
      ]
    },
    {
      "cell_type": "markdown",
      "metadata": {
        "id": "5fF50HwmxV-S"
      },
      "source": [
        "> **3.4 . Website Forwarding**"
      ]
    },
    {
      "cell_type": "code",
      "execution_count": 45,
      "metadata": {
        "id": "de728vqkxewd"
      },
      "outputs": [],
      "source": [
        "# legtimate website forwards at maxx one times, phishing websites are forwarded at least 4 times.\n",
        "def forwarding(response):\n",
        "  if response == \"\":\n",
        "    return 1\n",
        "  else:    \n",
        "    if len(response.history) <= 2:\n",
        "      return 0\n",
        "    else:\n",
        "      return 1\n"
      ]
    },
    {
      "cell_type": "code",
      "execution_count": null,
      "metadata": {
        "id": "Ho2Ue64oxx_P"
      },
      "outputs": [],
      "source": []
    },
    {
      "cell_type": "markdown",
      "metadata": {
        "id": "huvHmSAx0oDV"
      },
      "source": [
        "> # **Computing URL Features**"
      ]
    },
    {
      "cell_type": "code",
      "execution_count": 46,
      "metadata": {
        "id": "ni6WQl150uRu"
      },
      "outputs": [],
      "source": [
        "def featureExtraction(url,label, curr):\n",
        "  feature_names = ['Domain', 'Have_IP', 'Have_At', 'URL_Length', 'URL_Depth','Redirection', \n",
        "                      'https_Domain', 'TinyURL', 'Prefix/Suffix', 'DNS_Record',\n",
        "                      'Domain_Age', 'Domain_End', 'iFrame', 'Mouse_Over','Right_Click', 'Web_Forwards', 'Label']\n",
        "  features = []\n",
        "  #Address bar based features  are working correctly    \n",
        "  features.append(getDomain(url))\n",
        "  features.append(haveIP(url))\n",
        "  features.append(haveAt(url))\n",
        "  features.append(urlLength(url))\n",
        "  features.append(getDepth(url))\n",
        "  features.append(redirection(url))\n",
        "  features.append(hiddenhttps(url))\n",
        "  features.append(usesTinyUrl(url))\n",
        "  features.append(haveHyphen(url))\n",
        "  \n",
        "  #Domain based features  working correctly\n",
        "  dns = 0\n",
        "  try:\n",
        "    domain_name = whois.whois(urlparse(url).netloc)\n",
        "  except:\n",
        "    dns = 1\n",
        "\n",
        "  features.append(dns)\n",
        "  # features.append(web_traffic(url))\n",
        "  features.append(1 if dns == 1 else domainAge(domain_name))\n",
        "  features.append(1 if dns == 1 else domainEnd(domain_name))\n",
        "  \n",
        "  # HTML & Javascript based features working correctly\n",
        "  temp = ['1']*4\n",
        "  temp.append(label)\n",
        "\n",
        "  try:   \n",
        "    response = requests.get(url, timeout=5 )        \n",
        "    print('HTTP response code: ', response.status_code)\n",
        "    if response.status_code == 200:       \n",
        "      features.append(iframe(response))      \n",
        "      features.append(mouseOver(response))    \n",
        "      features.append(rightClick(response))    \n",
        "      features.append(forwarding(response))    \n",
        "      features.append(label)          \n",
        "    else: \n",
        "      print('Not reachable - ', url)\n",
        "      features.extend(temp)\n",
        "  except:     \n",
        "    print('Timeout - ', url)\n",
        "    features.extend(temp)\n",
        "    \n",
        "\n",
        "  return features\n"
      ]
    },
    {
      "cell_type": "markdown",
      "metadata": {
        "id": "3mwtE2zT2FoJ"
      },
      "source": [
        ">#  **4.1. Legitimate URLs:**\n"
      ]
    },
    {
      "cell_type": "code",
      "execution_count": 47,
      "metadata": {
        "colab": {
          "base_uri": "https://localhost:8080/"
        },
        "id": "bQZIvl_nTjwI",
        "outputId": "937c8e26-a3c2-4663-a621-edbf03e067f0"
      },
      "outputs": [
        {
          "name": "stdout",
          "output_type": "stream",
          "text": [
            "i is:  0graphicriver.net\n",
            "HTTP response code:  200\n",
            "i is:  1ecnavi.jp\n",
            "HTTP response code:  200\n",
            "i is:  2hubpages.com\n",
            "HTTP response code:  200\n",
            "i is:  3extratorrent.cc\n",
            "Timeout -  http://extratorrent.cc/torrent/4190536/AOMEI+Backupper+Technician+%2B+Server+Edition+2.8.0+%2B+Patch+%2B+Key+%2B+100%25+Working.html\n",
            "i is:  4icicibank.com\n",
            "HTTP response code:  403\n",
            "Not reachable -  http://icicibank.com/Personal-Banking/offers/offer-detail.page?id=offer-ezeego-domestic-airtravel-20141407112611060\n",
            "i is:  5nypost.com\n",
            "HTTP response code:  200\n",
            "i is:  6kienthuc.net.vn\n"
          ]
        },
        {
          "name": "stderr",
          "output_type": "stream",
          "text": [
            "2024-07-26 20:51:10,663 - whois.whois - ERROR - Error trying to connect to socket: closing socket - [Errno 11001] getaddrinfo failed\n"
          ]
        },
        {
          "name": "stdout",
          "output_type": "stream",
          "text": [
            "HTTP response code:  200\n",
            "i is:  7thenextweb.com\n",
            "HTTP response code:  403\n",
            "Not reachable -  http://thenextweb.com/in/2015/04/16/india-wants-a-neutral-web-and-facebooks-internet-org-cant-be-a-part-of-it/gtm.js\n",
            "i is:  8tobogo.net\n",
            "Timeout -  http://tobogo.net/cdsb/board.php?board=greet&bm=view&no=5716&category=&auth=&page=1&search=&keyword=&recom=\n",
            "i is:  9akhbarelyom.com\n",
            "HTTP response code:  403\n",
            "Not reachable -  http://akhbarelyom.com/news/newdetails/411395/1/%D9%85%D8%AD%D8%A7%D9%81%D8%B8-%D8%A7%D9%84%D8%A8%D8%AD%D9%8A%D8%B1.html\n",
            "i is:  10tunein.com\n",
            "HTTP response code:  200\n",
            "i is:  11tune.pk\n",
            "Timeout -  https://tune.pk/video/6046458/canelo-vs-kirkland-highlights-hbo-world-championship-boxing\n",
            "i is:  12sfglobe.com\n",
            "HTTP response code:  404\n",
            "Not reachable -  http://sfglobe.com/2015/05/01/six-baltimore-police-officers-charged-in-freddie-grays-death/?src=home_feed\n",
            "i is:  13mic.com\n",
            "HTTP response code:  200\n",
            "i is:  14thenextweb.com\n",
            "HTTP response code:  403\n",
            "Not reachable -  http://thenextweb.com/apps/2015/05/07/flickr-launches-redesigned-mobile-apps-encourages-you-to-upload-your-entire-camera-roll/gtm.js\n",
            "i is:  15couchtuner.eu.com\n",
            "HTTP response code:  404\n",
            "Not reachable -  http://couchtuner.eu.com/2013/05/anger-management-s2-e17-charlie-lets-kate-take-charge.html\n",
            "i is:  16olx.in\n",
            "Timeout -  http://olx.in/hi/item/nokia-5800-express-music-perfect-working-condition-body-average-cond-IDTIzUp.html\n",
            "i is:  17venturebeat.com\n",
            "HTTP response code:  403\n",
            "Not reachable -  http://venturebeat.com/2015/05/08/yelp-sale-rumor-reminds-us-that-social-is-terrible-as-a-business-even-if-it-did-change-the-web/\n",
            "i is:  18allegro.pl\n",
            "HTTP response code:  403\n",
            "Not reachable -  http://allegro.pl/listing/listing.php?id=122233&order=m&string=%7Bstring%7D&bmatch=seng-ps-mp-p-sm-isqm-2-e-0402\n",
            "i is:  19allegro.pl\n",
            "HTTP response code:  403\n",
            "Not reachable -  http://allegro.pl/listing/listing.php?id=20782&order=m&p=2&string=%7Bstring%7D&bmatch=seng-v10-p-sm-isqm-2-o-0113\n",
            "i is:  20tinnhanh360.net\n",
            "Timeout -  http://tinnhanh360.net/-ong-tay-de-thuong-ban-do-choi-dao-ha-noi-gay-ngac-nhien-thich-thu.html\n",
            "i is:  21metro.co.uk\n",
            "HTTP response code:  200\n",
            "i is:  22atwiki.jp\n",
            "HTTP response code:  200\n",
            "i is:  23emgn.com\n",
            "Timeout -  http://emgn.com/tv/schnauzer-passes-out-with-excitement-when-he-is-reunited-with-his-human-after-2-years/\n",
            "i is:  24nguyentandung.org\n",
            "HTTP response code:  200\n",
            "i is:  25motthegioi.vn\n"
          ]
        },
        {
          "name": "stderr",
          "output_type": "stream",
          "text": [
            "2024-07-26 20:53:16,530 - whois.whois - ERROR - Error trying to connect to socket: closing socket - [Errno 11001] getaddrinfo failed\n"
          ]
        },
        {
          "name": "stdout",
          "output_type": "stream",
          "text": [
            "Timeout -  http://motthegioi.vn/tai-chinh-bat-dong-san/tu-17-nguoi-mua-nha-dat-phai-cong-them-hang-loat-chi-phi-187472.html\n",
            "i is:  26spankbang.com\n",
            "HTTP response code:  403\n",
            "Not reachable -  http://spankbang.com/4ze1/video/brunette+with+big+boobs+fucked+in+a+cellar+public+agent\n",
            "i is:  27torcache.net\n",
            "HTTP response code:  200\n",
            "i is:  28mic.com\n",
            "HTTP response code:  200\n",
            "i is:  29thenextweb.com\n",
            "HTTP response code:  404\n",
            "Not reachable -  http://thenextweb.com/dd/2014/04/08/ux-designers-side-drawer-navigation-costing-half-user-engagement/feed/gtm.start\n",
            "i is:  30emgn.com\n",
            "Timeout -  http://emgn.com/movies/person-of-interest-what-to-expect-from-season-4-release-date/\n",
            "i is:  31depositphotos.com\n",
            "HTTP response code:  200\n",
            "i is:  32serverfault.com\n",
            "HTTP response code:  200\n",
            "i is:  33kakaku.com\n",
            "HTTP response code:  200\n",
            "i is:  34indianexpress.com\n",
            "HTTP response code:  200\n",
            "i is:  35nypost.com\n",
            "HTTP response code:  200\n",
            "i is:  36distractify.com\n",
            "HTTP response code:  404\n",
            "Not reachable -  http://distractify.com/post/related/id/5543af854a0c4b511d7c70a2/skip/30/limit/10/back/0\n",
            "i is:  37sourceforge.net\n",
            "HTTP response code:  404\n",
            "Not reachable -  http://sourceforge.net/directory/communications/add_facet_filter?facet=os&constraint=Mac\n",
            "i is:  38babal.net\n",
            "HTTP response code:  404\n",
            "Not reachable -  http://babal.net/books/view/960/%D8%AE%D9%8A%D8%A7%D9%86%D8%A9-%D8%A7%D9%84%D9%85%D8%AB%D9%82%D9%81%D9%8A%D9%86\n",
            "i is:  39serverfault.com\n",
            "HTTP response code:  200\n",
            "i is:  40cookpad.com\n",
            "HTTP response code:  200\n",
            "i is:  41plarium.com\n",
            "HTTP response code:  410\n",
            "Not reachable -  http://plarium.com/en/strategy-games/stormfall-age-of-war/news/withdraw-to-the-catacombs/\n",
            "i is:  42pikabu.ru\n",
            "HTTP response code:  200\n",
            "i is:  43grantland.com\n",
            "HTTP response code:  200\n",
            "i is:  44allegro.pl\n",
            "Timeout -  http://allegro.pl/listing/user/listing.php?us_id=25662671&order=p&string=B-110+HIT&search_scope=userItems-25662671&bmatch=s0-default-0113&sh_dwh_token=d0b6dd74a8394345128e20d296cb1c5e\n",
            "i is:  45nguyentandung.org\n",
            "HTTP response code:  200\n",
            "i is:  46allegro.pl\n",
            "HTTP response code:  403\n",
            "Not reachable -  http://allegro.pl/listing/listing.php?bmatch=seng-v6-p-sm-isqm-2-ce-0113&id=175&order=m&string=%7Bstring%7D\n",
            "i is:  47europa.eu\n",
            "HTTP response code:  200\n",
            "i is:  48extratorrent.cc\n",
            "Timeout -  http://extratorrent.cc/torrent/4190380/VA-Unusual_Techno_One_LP-WEB-2015-CBR_INT.html\n",
            "i is:  49persianblog.ir\n",
            "Timeout -  http://persianblog.ir/tags/42604/8/%d8%b3%d9%87%d8%b1%d8%a7%d8%a8_%d8%b3%d9%be%d9%87%d8%b1%db%8c/\n",
            "i is:  50distractify.com\n",
            "HTTP response code:  404\n",
            "Not reachable -  http://distractify.com/post/related/id/5537c6314a0c4b89316cdbdf/skip/20/limit/10/back/0\n",
            "i is:  51kenh14.vn\n"
          ]
        },
        {
          "name": "stderr",
          "output_type": "stream",
          "text": [
            "2024-07-26 20:56:07,521 - whois.whois - ERROR - Error trying to connect to socket: closing socket - [Errno 11001] getaddrinfo failed\n"
          ]
        },
        {
          "name": "stdout",
          "output_type": "stream",
          "text": [
            "HTTP response code:  200\n",
            "i is:  52twitter.com\n",
            "HTTP response code:  200\n",
            "i is:  53nesn.com\n",
            "HTTP response code:  200\n",
            "i is:  54fishki.net\n",
            "HTTP response code:  403\n",
            "Not reachable -  http://fishki.net/1526766-kapello-zajavil-o-bezumii-prezidenta-rfs.html?mode=recent\n",
            "i is:  55syosetu.com\n",
            "HTTP response code:  403\n",
            "Not reachable -  http://syosetu.com/searchuser/search/index.php?name1st=%E3%82%80&all=1&all2=1&all3=1&all4=1&p=10\n",
            "i is:  56akhbarelyom.com\n",
            "HTTP response code:  403\n",
            "Not reachable -  http://akhbarelyom.com/news/newdetails/411497/1/%D9%85%D8%B5%D8%B1-%D8%A7%D9%84%D8%B9%D8%B7%D8%A7%D8%A1-%D8%AA.html\n",
            "i is:  57allegro.pl\n",
            "Timeout -  http://allegro.pl/triumph-stringi-precious-essence-string-granat-40-i5035632976.html\n",
            "i is:  58getpocket.com\n",
            "HTTP response code:  200\n",
            "i is:  59mylust.com\n",
            "HTTP response code:  200\n",
            "i is:  60censor.net.ua\n",
            "HTTP response code:  403\n",
            "Not reachable -  http://censor.net.ua/photo_news/335629/v_tsentre_donetska_ural_boevikov_dnr_razdavil_jiguli_2_pogibshih_narod_ne_protestuet_foto\n",
            "i is:  61pornsharing.com\n",
            "HTTP response code:  403\n",
            "Not reachable -  http://pornsharing.com/latina-girl-chloe-amour-and-busty-blonde-step-mom-julia-ann-get-face-fucked_v78082\n",
            "i is:  62genius.com\n",
            "HTTP response code:  200\n",
            "i is:  63sourceforge.net\n",
            "HTTP response code:  404\n",
            "Not reachable -  http://sourceforge.net/directory/communications/add_facet_filter?facet=language&constraint=PL%2FSQL\n",
            "i is:  64codecanyon.net\n",
            "HTTP response code:  410\n",
            "Not reachable -  http://codecanyon.net/item/bitdrop-file-hosting-with-short-url-link/full_screen_preview/426023\n",
            "i is:  65qz.com\n",
            "HTTP response code:  200\n",
            "i is:  66kenh14.vn\n"
          ]
        },
        {
          "name": "stderr",
          "output_type": "stream",
          "text": [
            "2024-07-26 20:57:17,776 - whois.whois - ERROR - Error trying to connect to socket: closing socket - [Errno 11001] getaddrinfo failed\n"
          ]
        },
        {
          "name": "stdout",
          "output_type": "stream",
          "text": [
            "HTTP response code:  200\n",
            "i is:  67uproxx.com\n",
            "HTTP response code:  200\n",
            "i is:  68babal.net\n",
            "HTTP response code:  404\n",
            "Not reachable -  http://babal.net/women/view/80/%D8%AF%D9%84%D9%91%D9%84%D9%8A-%D9%86%D9%81%D8%B3%D9%83-%D8%A3%D9%8A%D8%AA%D9%87%D8%A7-%D8%A7%D9%84%D8%A3%D9%85-%D9%85%D8%B9-%D9%87%D8%B0%D9%87-%D8%A7%D9%84%D9%86%D8%B5%D8%A7%D8%A6%D8%AD\n",
            "i is:  69mic.com\n",
            "HTTP response code:  200\n",
            "i is:  70torcache.net\n",
            "HTTP response code:  200\n",
            "i is:  71paytm.com\n",
            "HTTP response code:  403\n",
            "Not reachable -  https://paytm.com/blog/paytm-offer-for-app-users-get-upto-rs-50-cash-back/?share=email\n",
            "i is:  72motthegioi.vn\n"
          ]
        },
        {
          "name": "stderr",
          "output_type": "stream",
          "text": [
            "2024-07-26 20:57:37,178 - whois.whois - ERROR - Error trying to connect to socket: closing socket - [Errno 11001] getaddrinfo failed\n"
          ]
        },
        {
          "name": "stdout",
          "output_type": "stream",
          "text": [
            "Timeout -  http://motthegioi.vn/suckhoe/nu-cuoi-y-hoc/nu-cuoi-suc-khoe-nhung-li-do-nen-yeu-chang-trai-bung-bu-188294.html\n",
            "i is:  73torcache.net\n",
            "HTTP response code:  200\n",
            "i is:  74thenextweb.com\n",
            "HTTP response code:  403\n",
            "Not reachable -  http://thenextweb.com/asia/2014/09/26/myanmars-mobile-revolution-kicks-telenor-prepares-launch-service/gtm.start\n",
            "i is:  75extratorrent.cc\n",
            "Timeout -  http://extratorrent.cc/torrent/4189616/Jedi+Mind.Tricks.The.Thief.and.the.Fallen.2015.mp3.vbr.NOiR.html\n",
            "i is:  76genius.com\n",
            "HTTP response code:  200\n",
            "i is:  77thenextweb.com\n",
            "HTTP response code:  403\n",
            "Not reachable -  http://thenextweb.com/apps/2012/04/19/500px-launches-android-app-and-overhauls-its-ipad-version-too/\n",
            "i is:  78kienthuc.net.vn\n"
          ]
        },
        {
          "name": "stderr",
          "output_type": "stream",
          "text": [
            "2024-07-26 20:58:11,517 - whois.whois - ERROR - Error trying to connect to socket: closing socket - [Errno 11001] getaddrinfo failed\n"
          ]
        },
        {
          "name": "stdout",
          "output_type": "stream",
          "text": [
            "HTTP response code:  200\n",
            "i is:  79sourceforge.net\n",
            "HTTP response code:  404\n",
            "Not reachable -  http://sourceforge.net/directory/development/add_facet_filter?facet=license&constraint=OSI-Approved+Open+Source+%3A%3A+PHP+License\n",
            "i is:  80nypost.com\n",
            "HTTP response code:  200\n",
            "i is:  81ap.org\n",
            "HTTP response code:  403\n",
            "Not reachable -  http://ap.org/Content/Press-Release/2013/NFL-celebrates-season-with-NFL-Honors-Super-Bowl-Eve\n",
            "i is:  82indianexpress.com\n",
            "HTTP response code:  200\n",
            "i is:  83extratorrent.cc\n",
            "Timeout -  http://extratorrent.cc/torrent_download/4191066/Chappie.2015.720p.WEB-DL.AAC2.0.H.264-PLAYNOW.torrent\n",
            "i is:  84correios.com.br\n",
            "HTTP response code:  200\n",
            "i is:  85web.de\n",
            "HTTP response code:  404\n",
            "Not reachable -  http://web.de/magazine/sport/fussball/champions-league/fc-bayern-muenchen-fc-barcelona/fc-bayern-muenchen-fc-barcelona-enrique-fuerchtet-freund-guardiola-30633596\n",
            "i is:  86noticias.uol.com.br\n",
            "Timeout -  http://noticias.uol.com.br/saude/album/2015/03/17/dengue-pelo-brasil.htm?abrefoto=63\n",
            "i is:  87bdnews24.com\n",
            "HTTP response code:  404\n",
            "Not reachable -  http://bdnews24.com/economy/2015/05/05/world-bank-to-give-bangladesh-200-million-loan-to-cut-poverty\n",
            "i is:  88kenh14.vn\n"
          ]
        },
        {
          "name": "stderr",
          "output_type": "stream",
          "text": [
            "2024-07-26 20:59:30,242 - whois.whois - ERROR - Error trying to connect to socket: closing socket - [Errno 11001] getaddrinfo failed\n"
          ]
        },
        {
          "name": "stdout",
          "output_type": "stream",
          "text": [
            "Timeout -  http://kenh14.vn/tv-show/viet-huong-gao-thet-to-chong-leng-pheng-trai-tre-20150208121726226.chn\n",
            "i is:  89codecanyon.net\n",
            "HTTP response code:  410\n",
            "Not reachable -  http://codecanyon.net/item/photofans-your-social-network-to-share-photos/full_screen_preview/6308014\n",
            "i is:  90tunein.com\n",
            "HTTP response code:  200\n",
            "i is:  91nguyentandung.org\n",
            "HTTP response code:  200\n",
            "i is:  92kickass.to\n"
          ]
        },
        {
          "name": "stderr",
          "output_type": "stream",
          "text": [
            "2024-07-26 20:59:53,562 - whois.whois - ERROR - Error trying to connect to socket: closing socket - [WinError 10061] No connection could be made because the target machine actively refused it\n"
          ]
        },
        {
          "name": "stdout",
          "output_type": "stream",
          "text": [
            "HTTP response code:  200\n",
            "i is:  93weathernews.jp\n",
            "HTTP response code:  200\n",
            "i is:  94atwiki.jp\n",
            "HTTP response code:  200\n",
            "i is:  95plarium.com\n",
            "HTTP response code:  410\n",
            "Not reachable -  http://plarium.com/en/strategy-games/sparta-war-of-empires/mmo-masters/offensive-positions\n",
            "i is:  96chaturbate.com\n",
            "HTTP response code:  403\n",
            "Not reachable -  https://chaturbate.com/tipping/spy_on_private_show_tokens_per_minute/ingridblondy94/\n",
            "i is:  97babal.net\n",
            "HTTP response code:  404\n",
            "Not reachable -  http://babal.net/news/view/42903/%D8%AD%D8%A8%D8%B3-%D9%85%D8%AD%D8%A7%D9%81%D8%B8-%D8%A7%D9%84%D8%A3%D9%82%D8%B5%D8%B1-%D8%A7%D9%84%D8%B3%D8%A7%D8%A8%D9%82-%D8%B9%D8%A7%D9%85%D9%8A%D9%86-%D9%88%D8%AA%D8%BA%D8%B1%D9%8A%D9%85%D9%87-10-%D8%A2%D9%84%D8%A7%D9%81-%D8%AC%D9%86%D9%8A%D9%87-%D9%84%D8%B9%D8%AF%D9%85-%D8%AA%D9%86%D9%81%D9%8A%D8%B0%D9%87-%D8%AD%D9%83%D9%85%D8%A7-%D9%82%D8%B6%D8%A7%D8%A6%D9%8A%D8%A7\n",
            "i is:  98sberbank.ru\n",
            "Timeout -  http://sberbank.ru/portalserver/sb-portal-ru/ru/person/paymentsandremittances/remittance/in/beznal_rus/beznal_snal_rus\n",
            "i is:  99torcache.net\n",
            "HTTP response code:  200\n",
            "i is:  100torcache.net\n",
            "HTTP response code:  200\n",
            "i is:  101pikabu.ru\n",
            "HTTP response code:  200\n",
            "i is:  102mirtesen.ru\n",
            "HTTP response code:  200\n",
            "i is:  103mirtesen.ru\n",
            "HTTP response code:  200\n",
            "i is:  104distractify.com\n",
            "HTTP response code:  404\n",
            "Not reachable -  http://distractify.com/post/related/id/54b985434a0c4b136ee6813d/skip/20/limit/10/back/0\n",
            "i is:  105jalopnik.com\n",
            "HTTP response code:  200\n",
            "i is:  106techcrunch.com\n",
            "HTTP response code:  200\n",
            "i is:  107twitter.com\n",
            "HTTP response code:  200\n",
            "i is:  108torcache.net\n",
            "HTTP response code:  200\n",
            "i is:  109thenextweb.com\n",
            "HTTP response code:  403\n",
            "Not reachable -  http://thenextweb.com/insider/2014/10/29/unbabel-integrates-mailchimp-offer-translation-service-promotional-emails/gtm.start/\n",
            "i is:  110arstechnica.com\n",
            "HTTP response code:  200\n",
            "i is:  111tunein.com\n",
            "HTTP response code:  200\n",
            "i is:  112torrentdn.com\n"
          ]
        }
      ],
      "source": [
        "\n",
        "#Extracting the feautres & storing them in a list\n",
        "legi_features = []\n",
        "label = 0\n",
        "# 1 is phishing , 0 is legitimate\n",
        "for i in range(0, len(legi_url) ):\n",
        "  print('i is: ', i , end = \"\")\n",
        "  url = legi_url['URLs'][i]  \n",
        "  legi_features.append(featureExtraction(url,label, i))\n"
      ]
    },
    {
      "cell_type": "code",
      "execution_count": null,
      "metadata": {
        "id": "ND5020yiUy6r"
      },
      "outputs": [
        {
          "data": {
            "text/html": [
              "<div>\n",
              "<style scoped>\n",
              "    .dataframe tbody tr th:only-of-type {\n",
              "        vertical-align: middle;\n",
              "    }\n",
              "\n",
              "    .dataframe tbody tr th {\n",
              "        vertical-align: top;\n",
              "    }\n",
              "\n",
              "    .dataframe thead th {\n",
              "        text-align: right;\n",
              "    }\n",
              "</style>\n",
              "<table border=\"1\" class=\"dataframe\">\n",
              "  <thead>\n",
              "    <tr style=\"text-align: right;\">\n",
              "      <th></th>\n",
              "      <th>Domain</th>\n",
              "      <th>Have_IP</th>\n",
              "      <th>Have_At</th>\n",
              "      <th>URL_Length</th>\n",
              "      <th>URL_Depth</th>\n",
              "      <th>Redirection</th>\n",
              "      <th>https_Domain</th>\n",
              "      <th>TinyURL</th>\n",
              "      <th>Prefix/Suffix</th>\n",
              "      <th>DNS_Record</th>\n",
              "      <th>Domain_Age</th>\n",
              "      <th>Domain_End</th>\n",
              "      <th>iFrame</th>\n",
              "      <th>Mouse_Over</th>\n",
              "      <th>Right_Click</th>\n",
              "      <th>Web_Forwards</th>\n",
              "      <th>Label</th>\n",
              "    </tr>\n",
              "  </thead>\n",
              "  <tbody>\n",
              "    <tr>\n",
              "      <th>0</th>\n",
              "      <td>graphicriver.net</td>\n",
              "      <td>0</td>\n",
              "      <td>0</td>\n",
              "      <td>1</td>\n",
              "      <td>1</td>\n",
              "      <td>0</td>\n",
              "      <td>0</td>\n",
              "      <td>0</td>\n",
              "      <td>0</td>\n",
              "      <td>0</td>\n",
              "      <td>1</td>\n",
              "      <td>1</td>\n",
              "      <td>0</td>\n",
              "      <td>0</td>\n",
              "      <td>1</td>\n",
              "      <td>0</td>\n",
              "      <td>0</td>\n",
              "    </tr>\n",
              "    <tr>\n",
              "      <th>1</th>\n",
              "      <td>ecnavi.jp</td>\n",
              "      <td>0</td>\n",
              "      <td>0</td>\n",
              "      <td>1</td>\n",
              "      <td>1</td>\n",
              "      <td>1</td>\n",
              "      <td>0</td>\n",
              "      <td>0</td>\n",
              "      <td>0</td>\n",
              "      <td>0</td>\n",
              "      <td>0</td>\n",
              "      <td>1</td>\n",
              "      <td>0</td>\n",
              "      <td>0</td>\n",
              "      <td>1</td>\n",
              "      <td>0</td>\n",
              "      <td>0</td>\n",
              "    </tr>\n",
              "    <tr>\n",
              "      <th>2</th>\n",
              "      <td>hubpages.com</td>\n",
              "      <td>0</td>\n",
              "      <td>0</td>\n",
              "      <td>1</td>\n",
              "      <td>1</td>\n",
              "      <td>0</td>\n",
              "      <td>0</td>\n",
              "      <td>0</td>\n",
              "      <td>0</td>\n",
              "      <td>0</td>\n",
              "      <td>0</td>\n",
              "      <td>1</td>\n",
              "      <td>0</td>\n",
              "      <td>0</td>\n",
              "      <td>1</td>\n",
              "      <td>0</td>\n",
              "      <td>0</td>\n",
              "    </tr>\n",
              "    <tr>\n",
              "      <th>3</th>\n",
              "      <td>extratorrent.cc</td>\n",
              "      <td>0</td>\n",
              "      <td>0</td>\n",
              "      <td>1</td>\n",
              "      <td>3</td>\n",
              "      <td>0</td>\n",
              "      <td>0</td>\n",
              "      <td>0</td>\n",
              "      <td>0</td>\n",
              "      <td>0</td>\n",
              "      <td>0</td>\n",
              "      <td>0</td>\n",
              "      <td>1</td>\n",
              "      <td>1</td>\n",
              "      <td>1</td>\n",
              "      <td>1</td>\n",
              "      <td>0</td>\n",
              "    </tr>\n",
              "    <tr>\n",
              "      <th>4</th>\n",
              "      <td>icicibank.com</td>\n",
              "      <td>0</td>\n",
              "      <td>0</td>\n",
              "      <td>1</td>\n",
              "      <td>3</td>\n",
              "      <td>0</td>\n",
              "      <td>0</td>\n",
              "      <td>0</td>\n",
              "      <td>0</td>\n",
              "      <td>0</td>\n",
              "      <td>0</td>\n",
              "      <td>1</td>\n",
              "      <td>1</td>\n",
              "      <td>1</td>\n",
              "      <td>1</td>\n",
              "      <td>1</td>\n",
              "      <td>0</td>\n",
              "    </tr>\n",
              "  </tbody>\n",
              "</table>\n",
              "</div>"
            ],
            "text/plain": [
              "             Domain  Have_IP  Have_At  URL_Length  URL_Depth  Redirection  \\\n",
              "0  graphicriver.net        0        0           1          1            0   \n",
              "1         ecnavi.jp        0        0           1          1            1   \n",
              "2      hubpages.com        0        0           1          1            0   \n",
              "3   extratorrent.cc        0        0           1          3            0   \n",
              "4     icicibank.com        0        0           1          3            0   \n",
              "\n",
              "   https_Domain  TinyURL  Prefix/Suffix  DNS_Record  Domain_Age  Domain_End  \\\n",
              "0             0        0              0           0           1           1   \n",
              "1             0        0              0           0           0           1   \n",
              "2             0        0              0           0           0           1   \n",
              "3             0        0              0           0           0           0   \n",
              "4             0        0              0           0           0           1   \n",
              "\n",
              "  iFrame Mouse_Over Right_Click Web_Forwards  Label  \n",
              "0      0          0           1            0      0  \n",
              "1      0          0           1            0      0  \n",
              "2      0          0           1            0      0  \n",
              "3      1          1           1            1      0  \n",
              "4      1          1           1            1      0  "
            ]
          },
          "execution_count": 64,
          "metadata": {},
          "output_type": "execute_result"
        }
      ],
      "source": [
        "#converting the list to dataframe\n",
        "feature_names = ['Domain', 'Have_IP', 'Have_At', 'URL_Length', 'URL_Depth','Redirection', \n",
        "                      'https_Domain', 'TinyURL', 'Prefix/Suffix', 'DNS_Record',  \n",
        "                      'Domain_Age', 'Domain_End', 'iFrame', 'Mouse_Over','Right_Click', 'Web_Forwards', 'Label']\n",
        "\n",
        "legitimate = pd.DataFrame(legi_features, columns= feature_names)\n",
        "legitimate.head()\n"
      ]
    },
    {
      "cell_type": "code",
      "execution_count": null,
      "metadata": {
        "id": "URNP4eLrVNHR"
      },
      "outputs": [],
      "source": [
        "legitimate.to_csv('legitimate_copy.csv', index= False)"
      ]
    },
    {
      "cell_type": "code",
      "execution_count": null,
      "metadata": {
        "id": "yVv1-Q0ucn9L"
      },
      "outputs": [
        {
          "name": "stdout",
          "output_type": "stream",
          "text": [
            "        1 file(s) copied.\n"
          ]
        }
      ],
      "source": [
        "!copy legitimate_copy.csv \"C:/Users/Liberty/OneDrive/Desktop/CYBER/PROJECTS/Phishing-website-detection-using-ML/Datasets\""
      ]
    },
    {
      "cell_type": "code",
      "execution_count": null,
      "metadata": {},
      "outputs": [
        {
          "name": "stderr",
          "output_type": "stream",
          "text": [
            "Could Not Find c:\\Users\\Liberty\\OneDrive\\Desktop\\CYBER\\PROJECTS\\Phishing-website-detection-using-ML\\ipynb files\\legitimate_copy.csv\n"
          ]
        }
      ],
      "source": [
        "!del legitimate_copy.csv"
      ]
    },
    {
      "cell_type": "markdown",
      "metadata": {
        "id": "S3QVdyLoawCp"
      },
      "source": [
        "> # **4.2. Phishing URLs:**"
      ]
    },
    {
      "cell_type": "code",
      "execution_count": null,
      "metadata": {
        "id": "KGfV6_kTa4Je"
      },
      "outputs": [
        {
          "data": {
            "text/plain": [
              "(5000, 8)"
            ]
          },
          "execution_count": 78,
          "metadata": {},
          "output_type": "execute_result"
        }
      ],
      "source": [
        "phis_url.shape"
      ]
    },
    {
      "cell_type": "markdown",
      "metadata": {
        "id": "ZD_h8BNSzh1j"
      },
      "source": []
    },
    {
      "cell_type": "code",
      "execution_count": null,
      "metadata": {
        "id": "W4CfNKy2a7YQ"
      },
      "outputs": [
        {
          "name": "stdout",
          "output_type": "stream",
          "text": [
            "i is:  0 url:  http://graphicriver.net/search?date=this-month&length_max=&length_min=&price_max=&price_min=&rating_min=&sales=&sort=sales&term=&view=list\n",
            "hzibupigbnrtqezn-dot-sunlit-center-322513-556drtgf4.oa.r.appspot.com\n",
            "HTTP response code:  404\n",
            "Not reachable -  https://hzibupigbnrtqezn-dot-sunlit-center-322513-556drtgf4.oa.r.appspot.com/#redacted@abuse.ionos.com\n",
            "i is:  1 url:  http://ecnavi.jp/redirect/?url=http://www.cross-a.net/x.php?id=1845_3212_22061_26563&m=1004&pid=%user_id%\n",
            "netttxnet.byethost3.com\n",
            "HTTP response code:  200\n",
            "i is:  2 url:  https://hubpages.com/signin?explain=follow+Hubs&url=%2Fhub%2FComfort-Theories-of-Religion\n",
            "phx.chromeproxy.net\n",
            "Timeout -  https://phx.chromeproxy.net/direct/aHR0cHM6Ly93d3cuZmFjZWJvb2suY29tL2FqYXgvYno_X19hPTEmX19jY2c9RVhDRUxMRU5UJl9fY29tZXRfcmVxPTAmX19jc3I9Jl9fZHluPTd4ZTZGbzRPUTFQeVU5b3luRnduODRhMmk1VTRlMUZ4LWV3U3dNeFcwRFVlVWh3NWN4NjBWbzF1cEU0VzBPRTJXeE8wRkUyYXd0ODFzYnpvNWlhdzV6d3d3aTgxbkUzcnc5TzBSRTJKdzhXMXV3Mm9FRyZfX2hzPTE4ODM5LlBIQVNFRCUzQURFRkFVTFQuMi4wLjAuMCZfX2hzaT02OTkxMTA1NjQ1NDA3MDgwODE5LTAmX19yZXE9MiZfX3Jldj0xMDA0MTg5MTIwJl9fcz1rM3BvMG4lM0FmczJpNWElM0E4MGdncXcmX19zcGluX2I9dHJ1bmsmX19zcGluX3I9MTAwNDE4OTEyMCZfX3NwaW5fdD0xNjI3NzQzNjI3Jl9fdXNlcj0wJmRwcj0xJmphem9lc3Q9Mjk0MCZsc2Q9QVZyWk8tcTZnck0-\n",
            "i is:  3 url:  http://extratorrent.cc/torrent/4190536/AOMEI+Backupper+Technician+%2B+Server+Edition+2.8.0+%2B+Patch+%2B+Key+%2B+100%25+Working.html\n",
            "midnightluna1.typeform.com\n",
            "HTTP response code:  200\n",
            "i is:  4 url:  http://icicibank.com/Personal-Banking/offers/offer-detail.page?id=offer-ezeego-domestic-airtravel-20141407112611060\n",
            "caracasmateriais.blogspot.com\n",
            "HTTP response code:  200\n",
            "i is:  5 url:  http://nypost.com/2015/05/07/us-indifference-leaves-saudis-partnering-with-terrorists/\n",
            "dadagency.in\n",
            "Timeout -  https://dadagency.in/sat/en.php?rand=13InboxLightaspxn.1774256418&amp;fid.4.1252899642&amp;fid=1&amp;fav.1&amp;rand.13InboxLight.aspxn.1774256418&amp;fid.1252899642&amp;fid.1&amp;fav.1&amp;email=e1x4MDdceGVlXHhjZmhzXHhhYVx4MWFceGUxXHhjZlx4MDd1dlx4MGJceGUzXHg5NmlceGVmXHg5Nmty&amp;.rand=13InboxLight.aspx?n=1774256418&amp;fid=4\n",
            "i is:  6 url:  http://kienthuc.net.vn/diem-thi/diem-chuan-dh-cong-nghe-giao-thong-van-tai-nam-2014-482407.html\n",
            "onlineservicefree.club\n",
            "Timeout -  https://onlineservicefree.club/landingpage/dd263864-38a2-466a-be2f-4e5ec6c5e042/mgntq2ty_ylfyr4qsf2dm7hfwuwn2-ylj7tjk1erwii\n",
            "i is:  7 url:  http://thenextweb.com/in/2015/04/16/india-wants-a-neutral-web-and-facebooks-internet-org-cant-be-a-part-of-it/gtm.js\n",
            "joecamera.net\n",
            "Timeout -  http://joecamera.net/home/\n",
            "i is:  8 url:  http://tobogo.net/cdsb/board.php?board=greet&bm=view&no=5716&category=&auth=&page=1&search=&keyword=&recom=\n",
            "getrich.co.za\n",
            "HTTP response code:  410\n",
            "Not reachable -  https://getrich.co.za/home/h/dhlil/rwoaopt102154s/\n",
            "i is:  9 url:  http://akhbarelyom.com/news/newdetails/411395/1/%D9%85%D8%AD%D8%A7%D9%81%D8%B8-%D8%A7%D9%84%D8%A8%D8%AD%D9%8A%D8%B1.html\n",
            "gfxx.creatorlink.net\n",
            "HTTP response code:  403\n",
            "Not reachable -  https://gfxx.creatorlink.net/\n",
            "i is:  10 url:  http://tunein.com/radio/Carolina-Mudcats-at-Myrtle-Beach-Pelicans-May-13-2015-p729095/15480783/ca-pub-1542925551861702/ProgramTopBanner\n",
            "isaiahchristopherent.com\n",
            "Timeout -  http://isaiahchristopherent.com/adobe/pdf/pdf-/pdf-/pdf\n",
            "i is:  11 url:  https://tune.pk/video/6046458/canelo-vs-kirkland-highlights-hbo-world-championship-boxing\n",
            "phx.chromeproxy.net\n",
            "Timeout -  https://phx.chromeproxy.net/direct/aHR0cHM6Ly9tLmZhY2Vib29rLmNvbS8_X3JkYz0xJl9yZHImcmVmc3JjPWRlcHJlY2F0ZWQ-\n",
            "i is:  12 url:  http://sfglobe.com/2015/05/01/six-baltimore-police-officers-charged-in-freddie-grays-death/?src=home_feed\n",
            "pbi.unsam.ac.id\n",
            "HTTP response code:  404\n",
            "Not reachable -  https://pbi.unsam.ac.id/wp-includes/SimplePie/Content/72b1d185542cf096c9b05c9c53335b82cb093170657a560aa633ae793b1b483d10d47e1b06db4e57607184d14193ac41/\n",
            "i is:  13 url:  http://mic.com/articles/107372/49-tremendous-things-florida-men-accomplished-this-year\n",
            "firebasestorage.googleapis.com\n",
            "HTTP response code:  404\n",
            "Not reachable -  https://firebasestorage.googleapis.com/v0/b/armaoffices.appspot.com/o/FDSKLxrsqgDkqrWsZsPRJmbWTFTQgptHwjWqjVVZScsTGnmCvbBlFCbcgWZjJbt.htm?alt=media&token=e3feec53-9d57-4eff-9b7a-d58e91e54d4c#user@domain.com\n",
            "i is:  14 url:  http://thenextweb.com/apps/2015/05/07/flickr-launches-redesigned-mobile-apps-encourages-you-to-upload-your-entire-camera-roll/gtm.js\n",
            "185.232.198.104.bc.googleusercontent.com\n",
            "Timeout -  http://185.232.198.104.bc.googleusercontent.com/caixa/sinbc/home/v1/login/\n",
            "i is:  15 url:  http://couchtuner.eu.com/2013/05/anger-management-s2-e17-charlie-lets-kate-take-charge.html\n",
            "www.egacal.edu.pe\n",
            "HTTP response code:  200\n",
            "i is:  16 url:  http://olx.in/hi/item/nokia-5800-express-music-perfect-working-condition-body-average-cond-IDTIzUp.html\n",
            "confirm-mynew-payments.com\n",
            "Timeout -  http://confirm-mynew-payments.com/\n",
            "i is:  17 url:  http://venturebeat.com/2015/05/08/yelp-sale-rumor-reminds-us-that-social-is-terrible-as-a-business-even-if-it-did-change-the-web/\n",
            "pathikareps.com\n",
            "HTTP response code:  200\n",
            "i is:  18 url:  http://allegro.pl/listing/listing.php?id=122233&order=m&string=%7Bstring%7D&bmatch=seng-ps-mp-p-sm-isqm-2-e-0402\n",
            "www.evernote.com\n",
            "HTTP response code:  200\n",
            "i is:  19 url:  http://allegro.pl/listing/listing.php?id=20782&order=m&p=2&string=%7Bstring%7D&bmatch=seng-v10-p-sm-isqm-2-o-0113\n",
            "secure-halifax-device.com\n",
            "Timeout -  http://secure-halifax-device.com/\n",
            "i is:  20 url:  http://tinnhanh360.net/-ong-tay-de-thuong-ban-do-choi-dao-ha-noi-gay-ngac-nhien-thich-thu.html\n",
            "free-discordnitro.ru\n",
            "Timeout -  https://free-discordnitro.ru\n",
            "i is:  21 url:  http://metro.co.uk/2014/08/15/big-brother-2014-shock-twist-ashleigh-coyle-comes-second-4834723/\n",
            "amoueaom-co-jp.svi1l.cn\n",
            "Timeout -  https://amoueaom-co-jp.svi1l.cn/\n",
            "i is:  22 url:  http://atwiki.jp/wiki/%EF%BC%AD%EF%BC%B5%EF%BC%A7%EF%BC%A5%EF%BC%AE%20%E6%82%9F%E7%A9%BA\n",
            "cyberpulp.com\n",
            "HTTP response code:  404\n",
            "Not reachable -  https://cyberpulp.com/facebook/marketplace/item102910911/\n",
            "i is:  23 url:  http://emgn.com/tv/schnauzer-passes-out-with-excitement-when-he-is-reunited-with-his-human-after-2-years/\n",
            "dhlgpi.com\n",
            "HTTP response code:  404\n",
            "Not reachable -  https://dhlgpi.com/trackingdhlpack.html\n",
            "i is:  24 url:  http://nguyentandung.org/bo-truong-nguyen-bac-son-se-manh-tay-ngan-chan-tin-nhan-rac.html\n",
            "amazon.card-4taikai0.net\n",
            "Timeout -  https://amazon.card-4taikai0.net/_\n",
            "i is:  25 url:  http://motthegioi.vn/tai-chinh-bat-dong-san/tu-17-nguoi-mua-nha-dat-phai-cong-them-hang-loat-chi-phi-187472.html\n",
            "natwest.secured-personal-verify.com\n",
            "Timeout -  http://natwest.secured-personal-verify.com/\n",
            "i is:  26 url:  http://spankbang.com/4ze1/video/brunette+with+big+boobs+fucked+in+a+cellar+public+agent\n",
            "monstercarp.rn86.ru\n",
            "HTTP response code:  200\n",
            "i is:  27 url:  http://torcache.net/torrent/FECDCFB88429EDAE6184E26D63EDD5A1AB2B1736.torrent?title=[kickass.to]bro.s.before.ho.s.2013.720p.brrip.nl.gesproken.dutchreleaseteam\n",
            "relevant.systems\n",
            "Timeout -  http://relevant.systems/resources/views/client/profile/alibaba.com/ali/login.php?email=john@lasecurite.be?redirectUrl=http://relevant.systems//resources/views/client/profile/alibaba.com/ali/login.php?email=john@lasecurite.be?tracelog=inquiry_info&amp;to=john@lasecurite.be&amp;biz_type=Notifications_MC&amp;crm_mtn_tracelog_template=200412047&amp;crm_mtn_tracelog_task_id=c4d18f0f-07e4-4d47-bc25-a76b05ac16a9&amp;crm_mtn_tracelog_from_sys=service_feedback&amp;crm_mtn_tracelog_log_id=23813160745&amp;from=john@lasecurite.be\n",
            "i is:  28 url:  http://mic.com/articles/117370/baltimore-reveals-why-we-need-our-musicians-now-more-than-ever\n",
            "forms.office.com\n",
            "HTTP response code:  200\n",
            "i is:  29 url:  http://thenextweb.com/dd/2014/04/08/ux-designers-side-drawer-navigation-costing-half-user-engagement/feed/gtm.start\n",
            "m-wtcsucu1.streamsteam.ca\n",
            "Timeout -  https://m-wtcsucu1.streamsteam.ca/connect.html\n",
            "i is:  30 url:  http://emgn.com/movies/person-of-interest-what-to-expect-from-season-4-release-date/\n",
            "login.vdohnovenie.org.ua\n",
            "HTTP response code:  404\n",
            "Not reachable -  http://login.vdohnovenie.org.ua/login.html\n",
            "i is:  31 url:  http://depositphotos.com/login.html?url=%2F34608623%2Fstock-illustration-vector-abstract-3d-road-infographics.html\n",
            "uc-card.com.ldjkz.cn\n",
            "Timeout -  https://uc-card.com.ldjkz.cn\n",
            "i is:  32 url:  http://serverfault.com/questions/52370/what-is-the-order-group-policy-settings-are-applied\n",
            "storage.cloud.google.com\n",
            "HTTP response code:  200\n",
            "i is:  33 url:  http://kakaku.com/kaden/portable-dvd-player/ranking_2026/pricedown/div-gpt-ad-k/header_text\n",
            "u1208116rr2.ha004.t.justns.ru\n",
            "Timeout -  http://u1208116rr2.ha004.t.justns.ru/pass_secure/soci%c3%a9t%c3%a9-g%c3%a9n%c3%a9rale/\n",
            "i is:  34 url:  http://indianexpress.com/article/world/asia/pak-officer-gave-up-osama-kayani-isi-chief-helped-us/\n",
            "www.agsitesreis.com.br\n",
            "Timeout -  http://www.agsitesreis.com.br/web/WeTransfer/WeTransfer/WeTransfer/WeTransfer/WeTransfer/\n",
            "i is:  35 url:  http://nypost.com/2015/05/13/brooklyn-man-kills-cheating-girlfriends-lover-then-self/?share=email\n",
            "offal.odoo.com\n",
            "HTTP response code:  200\n",
            "i is:  36 url:  http://distractify.com/post/related/id/5543af854a0c4b511d7c70a2/skip/30/limit/10/back/0\n",
            "www.amayzo.com\n",
            "HTTP response code:  403\n",
            "Not reachable -  https://www.amayzo.com/verification\n",
            "i is:  37 url:  http://sourceforge.net/directory/communications/add_facet_filter?facet=os&constraint=Mac\n",
            "www.forupsite.com\n",
            "HTTP response code:  403\n",
            "Not reachable -  https://www.forupsite.com/landingpage/dd263864-38a2-466a-be2f-4e5ec6c5e042/LhzNZWASQL2ByB3UnB6VictD7iKPvcrBcHjhMevVsec\n",
            "i is:  38 url:  http://babal.net/books/view/960/%D8%AE%D9%8A%D8%A7%D9%86%D8%A9-%D8%A7%D9%84%D9%85%D8%AB%D9%82%D9%81%D9%8A%D9%86\n",
            "www.darkplug.net\n",
            "Timeout -  http://www.darkplug.net/remittance/financeofficeverification\n",
            "i is:  39 url:  http://serverfault.com/questions/690852/use-powershell-to-start-a-gui-program-on-a-remote-machine\n",
            "clouddoc-authorize.firebaseapp.com\n",
            "HTTP response code:  404\n",
            "Not reachable -  https://clouddoc-authorize.firebaseapp.com/.xx./xx...xx......\n",
            "i is:  40 url:  http://cookpad.com/login?rt=%2Fcategory%2Frecommend%2F590%3Frt%3D%252Fcategory%252F590\n",
            "www.etasarla.com\n",
            "Timeout -  https://www.etasarla.com/modules/gamification/upgrade/-/-/-/swiss/Swiss/\n",
            "i is:  41 url:  http://plarium.com/en/strategy-games/stormfall-age-of-war/news/withdraw-to-the-catacombs/\n",
            "credito-emiliano-app-access.u1403273.cp.regruhosting.ru\n",
            "Timeout -  https://credito-emiliano-app-access.u1403273.cp.regruhosting.ru/\n",
            "i is:  42 url:  http://pikabu.ru/tag/%D1%81%D1%82%D0%B0%D0%B2%D1%80%D0%BE%D0%BF%D0%BE%D0%BB%D1%8C/hot\n",
            "top10songsnews.com\n",
            "HTTP response code:  404\n",
            "Not reachable -  http://top10songsnews.com/ggry/ourtime123/ourtime.php\n",
            "i is:  43 url:  http://grantland.com/hollywood-prospectus/2015-oscar-nomination-predictions-best-director-best-picture/\n",
            "jbshtl.secure52serv.com\n",
            "HTTP response code:  404\n",
            "Not reachable -  http://jbshtl.secure52serv.com/receipt/secureNetflix/a1d16f855c1e5896577580e7ebbacd06/\n",
            "i is:  44 url:  http://allegro.pl/listing/user/listing.php?us_id=25662671&order=p&string=B-110+HIT&search_scope=userItems-25662671&bmatch=s0-default-0113&sh_dwh_token=d0b6dd74a8394345128e20d296cb1c5e\n",
            "m54af8.webwave.dev\n",
            "HTTP response code:  404\n",
            "Not reachable -  https://m54af8.webwave.dev/\n",
            "i is:  45 url:  http://nguyentandung.org/bai-do-xe-ngam-trong-cong-vien-thong-nhat-thu-hoi-von-cach-nao.html\n",
            "santiatoat-alrkaoir230.ydns.eu\n",
            "Timeout -  http://santiatoat-alrkaoir230.ydns.eu/\n",
            "i is:  46 url:  http://allegro.pl/listing/listing.php?bmatch=seng-v6-p-sm-isqm-2-ce-0113&id=175&order=m&string=%7Bstring%7D\n",
            "www.reconfirmpost287846656.us\n",
            "Timeout -  http://www.reconfirmpost287846656.us/\n",
            "i is:  47 url:  http://europa.eu/about-eu/agencies/regulatory_agencies_bodies/policy_agencies/eurofound/index_en.htm\n",
            "izaguirrestx.com\n",
            "Timeout -  http://izaguirrestx.com/docreview/Sign_in.html\n",
            "i is:  48 url:  http://extratorrent.cc/torrent/4190380/VA-Unusual_Techno_One_LP-WEB-2015-CBR_INT.html\n",
            "page-reconfrim-10000001234576672625690092.tk\n"
          ]
        },
        {
          "name": "stderr",
          "output_type": "stream",
          "text": [
            "2024-07-21 20:13:08,431 - whois.whois - ERROR - Error trying to connect to socket: closing socket - timed out\n"
          ]
        },
        {
          "name": "stdout",
          "output_type": "stream",
          "text": [
            "Timeout -  http://page-reconfrim-10000001234576672625690092.tk/checkpoint_next.php\n",
            "i is:  49 url:  http://persianblog.ir/tags/42604/8/%d8%b3%d9%87%d8%b1%d8%a7%d8%a8_%d8%b3%d9%be%d9%87%d8%b1%db%8c/\n",
            "clouddoc-authorize.firebaseapp.com\n",
            "HTTP response code:  404\n",
            "Not reachable -  https://clouddoc-authorize.firebaseapp.com/......xx.../...xx\n",
            "i is:  50 url:  http://distractify.com/post/related/id/5537c6314a0c4b89316cdbdf/skip/20/limit/10/back/0\n",
            "weddingstaffcompanies.com\n",
            "HTTP response code:  404\n",
            "Not reachable -  http://weddingstaffcompanies.com/js/tnp/login-mcrsftonline-com-srvcesrtrgvfvfver/\n",
            "i is:  51 url:  http://kenh14.vn/star/lo-dien-ban-trai-hot-boy-cua-van-mai-huong-20140716121655295.chn\n",
            "updted-access.demopage.co\n",
            "HTTP response code:  200\n",
            "i is:  52 url:  https://twitter.com/share?url=http%3A%2F%2Fhubpages.com%2Fhub%2FWhats-the-difference-between-self-esteem-and-confidence&text=Definitions+of+Confidence+%26+Self+Esteem+-+What%27s+the+Difference%3F\n",
            "urlz.fr\n",
            "HTTP response code:  404\n",
            "Not reachable -  https://urlz.fr/dHI5\n",
            "i is:  53 url:  http://nesn.com/2015/04/draftkings-giancarlo-stanton-mookie-betts-in-tom-carons-fantasy-lineup/\n",
            "firebasestorage.googleapis.com\n",
            "HTTP response code:  404\n",
            "Not reachable -  https://firebasestorage.googleapis.com/v0/b/xn-nerio-reuz-375.appspot.com/o/indexv-vb-vau-ry-8b.html?alt=media&amp;token=b8825646-45a7-4b87-bf94-bc787e60511f#ggradnigo@prepaidlegal.com\n",
            "i is:  54 url:  http://fishki.net/1526766-kapello-zajavil-o-bezumii-prezidenta-rfs.html?mode=recent\n",
            "lloydsbank.personal-devices-login.com\n",
            "Timeout -  http://lloydsbank.personal-devices-login.com/\n",
            "i is:  55 url:  http://syosetu.com/searchuser/search/index.php?name1st=%E3%82%80&all=1&all2=1&all3=1&all4=1&p=10\n",
            "spinosacenter.com\n",
            "HTTP response code:  403\n",
            "Not reachable -  https://spinosacenter.com/document-review-sugar/Excelfv/files/index2.php\n",
            "i is:  56 url:  http://akhbarelyom.com/news/newdetails/411497/1/%D9%85%D8%B5%D8%B1-%D8%A7%D9%84%D8%B9%D8%B7%D8%A7%D8%A1-%D8%AA.html\n",
            "metromediatech.com\n",
            "Timeout -  http://metromediatech.com/google/183e81f0f5bb9b05bb62fbe9a44ef2b4/\n",
            "i is:  57 url:  http://allegro.pl/triumph-stringi-precious-essence-string-granat-40-i5035632976.html\n",
            "suports-identiity-notification-secur-recovery.my.id\n",
            "Timeout -  http://suports-identiity-notification-secur-recovery.my.id/\n",
            "i is:  58 url:  http://getpocket.com/signup?mode=socialmode&route=http://getpocket.com/p/pocket-topics/fitness\n",
            "tong464-my.sharepoint.com\n",
            "HTTP response code:  404\n",
            "Not reachable -  https://tong464-my.sharepoint.com/personal/parevalo_tong464_org/_layouts/15/onedrive.aspx?id=/personal/parevalo_tong464_org/Documents/Northgate.pdf&amp;parent=/personal/parevalo_tong464_org/Documents&amp;originalPath=aHR0cHM6Ly90b25nNDY0LW15LnNoYXJlcG9pbnQuY29tLzpiOi9nL3BlcnNvbmFsL3BhcmV2YWxvX3Rvbmc0NjRfb3JnL0VVQ0NhSHlXMFlkRXA5cm1raVlYZklnQjFIZ2JsVGhQOWROel9EVVBxUmVVNGc_cnRpbWU9Q0lKaTRhLVEyRWc\n",
            "i is:  59 url:  http://mylust.com/videos/235751/sexy-hentai-chick-gets-her-huge-succulent-tits-squeezed/\n",
            "www-office-com.office365.apps.maxsolutions.com.au\n",
            "Timeout -  https://www-office-com.office365.apps.maxsolutions.com.au/login\n",
            "i is:  60 url:  http://censor.net.ua/photo_news/335629/v_tsentre_donetska_ural_boevikov_dnr_razdavil_jiguli_2_pogibshih_narod_ne_protestuet_foto\n",
            "ervashipping.com\n",
            "HTTP response code:  200\n",
            "i is:  61 url:  http://pornsharing.com/latina-girl-chloe-amour-and-busty-blonde-step-mom-julia-ann-get-face-fucked_v78082\n",
            "enlinea-pe.digital\n",
            "Timeout -  https://enlinea-pe.digital\n",
            "i is:  62 url:  http://genius.com/4810956/Ol-dirty-bastard-never-before-seen-ol-dirty-bastard-raw-and-uncut-interview/But-its-just-hey-the-kids-love-dirty-you-know-what-i-mean-every-time-they-see-dirty-they-smile-you-know-what-i-mean\n",
            "roupakids.blogspot.com\n",
            "HTTP response code:  200\n",
            "i is:  63 url:  http://sourceforge.net/directory/communications/add_facet_filter?facet=language&constraint=PL%2FSQL\n",
            "www.handytac.com\n",
            "HTTP response code:  200\n",
            "i is:  64 url:  http://codecanyon.net/item/bitdrop-file-hosting-with-short-url-link/full_screen_preview/426023\n",
            "timeline.fbcom-jyimaefz95.kets.sd\n",
            "Timeout -  http://timeline.fbcom-jyimaefz95.kets.sd/connect.html?timelimit=17372bb5ccc0f00fa0f26ce7b825b735\n",
            "i is:  65 url:  http://qz.com/404309/photos-silicon-valley-fashion-week-kicks-off-with-drone-models/\n",
            "www.joinngrubwa.itsaol.com\n",
            "HTTP response code:  200\n",
            "i is:  66 url:  http://kenh14.vn/2-tek/ban-jailbreak-he-dieu-hanh-ios-613-toi-ios-615-chinh-thuc-trinh-lang-2013122404361169.chn\n",
            "spectralwirejewelry.com\n",
            "HTTP response code:  200\n",
            "i is:  67 url:  http://uproxx.com/movies/2015/04/paul-bettany-gives-us-a-glimpse-of-vision-in-action-in-avengers-age-of-ultron/\n",
            "efashion.world\n",
            "Timeout -  http://efashion.world/docu/project/8c1e1180b92afce563c29fc76ed10823/login.php?cmd=login_submit&id=0fa4bc1a4b4b1e0a949be4679c3bf8eb0fa4bc1a4b4b1e0a949be4679c3bf8eb&session=0fa4bc1a4b4b1e0a949be4679c3bf8eb0fa4bc1a4b4b1e0a949be4679c3bf8eb\n",
            "i is:  68 url:  http://babal.net/women/view/80/%D8%AF%D9%84%D9%91%D9%84%D9%8A-%D9%86%D9%81%D8%B3%D9%83-%D8%A3%D9%8A%D8%AA%D9%87%D8%A7-%D8%A7%D9%84%D8%A3%D9%85-%D9%85%D8%B9-%D9%87%D8%B0%D9%87-%D8%A7%D9%84%D9%86%D8%B5%D8%A7%D8%A6%D8%AD\n",
            "www.lloydbank-online-secures.com\n",
            "Timeout -  http://www.lloydbank-online-secures.com/\n",
            "i is:  69 url:  http://mic.com/articles/116370/avengers-stars-sexist-jokes-illustrate-a-major-problem-with-the-comic-book-industry\n",
            "tomandson.com\n",
            "HTTP response code:  404\n",
            "Not reachable -  http://tomandson.com/we/index.html\n",
            "i is:  70 url:  http://torcache.net/torrent/0FF0E2F39CD5AB403EE03F8E1B69127D0476D976.torrent?title=[kickass.to]komban.2015.hq.real.dvdscr.xvid.1cd.700mb.tamil\n",
            "gcsnc-v.cf\n"
          ]
        },
        {
          "name": "stderr",
          "output_type": "stream",
          "text": [
            "2024-07-21 20:15:31,157 - whois.whois - ERROR - Error trying to connect to socket: closing socket - [WinError 10061] No connection could be made because the target machine actively refused it\n"
          ]
        },
        {
          "name": "stdout",
          "output_type": "stream",
          "text": [
            "Timeout -  https://gcsnc-v.cf/adobe/email/document/authentication/\n",
            "i is:  71 url:  https://paytm.com/blog/paytm-offer-for-app-users-get-upto-rs-50-cash-back/?share=email\n",
            "blog.gruszka.info\n",
            "Timeout -  http://blog.gruszka.info/wp-content/dhl/app.php\n",
            "i is:  72 url:  http://motthegioi.vn/suckhoe/nu-cuoi-y-hoc/nu-cuoi-suc-khoe-nhung-li-do-nen-yeu-chang-trai-bung-bu-188294.html\n",
            "alertabancon.repl.co\n",
            "HTTP response code:  404\n",
            "Not reachable -  https://alertabancon.repl.co/\n",
            "i is:  73 url:  http://torcache.net/torrent/047D47DFF4DC5CD9BEA6D0F4C57D68F2F2D71205.torrent?title=[kickass.to]night.at.the.museum.secret.of.the.tomb.2014.1080p.brrip.x264.yify\n",
            "www.theparlor.shop\n",
            "HTTP response code:  406\n",
            "Not reachable -  https://www.theparlor.shop/done/index.php?email=jaime.rodriguez@kfc.com.ec\n",
            "i is:  74 url:  http://thenextweb.com/asia/2014/09/26/myanmars-mobile-revolution-kicks-telenor-prepares-launch-service/gtm.start\n",
            "avadvertising.in\n",
            "Timeout -  http://avadvertising.in/mkbn/QAAAARnQU1BAACxjwv8YQUAAAAJcEhZcwAADsQAAA7EAQAAAARnQU1BAACxjwv8YQUZUrDhsAAHqNSURBVHhe7b0JgB1Hde5/home/kod.php\n",
            "i is:  75 url:  http://extratorrent.cc/torrent/4189616/Jedi+Mind.Tricks.The.Thief.and.the.Fallen.2015.mp3.vbr.NOiR.html\n",
            "mobsuemil.com\n",
            "Timeout -  http://mobsuemil.com/web/auth/dashboard/overviewAccounts/Chase/3ytjmnmm=\n",
            "i is:  76 url:  http://genius.com/2990084/Us-general-services-administration-gsa-mentor-protege-program-subpart-51970/Incentives-for-prime-contractors\n",
            "lookdigital.co\n",
            "Timeout -  https://lookdigital.co/rezz/Inv/index.php\n",
            "i is:  77 url:  http://thenextweb.com/apps/2012/04/19/500px-launches-android-app-and-overhauls-its-ipad-version-too/\n",
            "whatsapps.instanthq.com\n",
            "HTTP response code:  404\n",
            "Not reachable -  http://whatsapps.instanthq.com/\n",
            "i is:  78 url:  http://kienthuc.net.vn/tin-tuc-tuyen-sinh/ty-le-choi-cua-dai-hoc-fpt-nam-2014-487408.html\n",
            "lnkd.in\n",
            "HTTP response code:  200\n",
            "i is:  79 url:  http://sourceforge.net/directory/development/add_facet_filter?facet=license&constraint=OSI-Approved+Open+Source+%3A%3A+PHP+License\n",
            "lnkd.in\n",
            "HTTP response code:  200\n",
            "i is:  80 url:  http://nypost.com/2015/01/28/tepper-loses-fight-to-restructure-caesars-in-delaware/\n",
            "betasusgiri.blogspot.com\n",
            "HTTP response code:  200\n",
            "i is:  81 url:  http://ap.org/Content/Press-Release/2013/NFL-celebrates-season-with-NFL-Honors-Super-Bowl-Eve\n",
            "k8923.csb.app\n",
            "HTTP response code:  500\n",
            "Not reachable -  https://k8923.csb.app/\n",
            "i is:  82 url:  http://indianexpress.com/article/cities/ludhiana/32-year-old-commits-suicide-at-in-laws-place-in-ludhiana/\n",
            "onlinepromerica5.byethost8.com\n",
            "HTTP response code:  200\n",
            "i is:  83 url:  http://extratorrent.cc/torrent_download/4191066/Chappie.2015.720p.WEB-DL.AAC2.0.H.264-PLAYNOW.torrent\n",
            "rc.frostbit.cz\n",
            "Timeout -  https://rc.frostbit.cz/smb.cnci/ipcn.php\n",
            "i is:  84 url:  http://correios.com.br/english/the-brazil-post/education-and-culture/cultural-centers/cultural-center-of-rio-de-janeiro\n",
            "comunicationnationalschool.blogspot.com\n",
            "HTTP response code:  404\n",
            "Not reachable -  https://comunicationnationalschool.blogspot.com/index.html\n",
            "i is:  85 url:  http://web.de/magazine/sport/fussball/champions-league/fc-bayern-muenchen-fc-barcelona/fc-bayern-muenchen-fc-barcelona-enrique-fuerchtet-freund-guardiola-30633596\n",
            "usps-delivery-support.logitel.com.au\n",
            "Timeout -  https://usps-delivery-support.logitel.com.au/update/\n",
            "i is:  86 url:  http://noticias.uol.com.br/saude/album/2015/03/17/dengue-pelo-brasil.htm?abrefoto=63\n",
            "absolute.servepics.com\n",
            "Timeout -  https://absolute.servepics.com/\n",
            "i is:  87 url:  http://bdnews24.com/economy/2015/05/05/world-bank-to-give-bangladesh-200-million-loan-to-cut-poverty\n",
            "relevant.systems\n",
            "Timeout -  http://relevant.systems/resources/views/client/profile/alibaba.com/ali/login.php?email=john@lasecurite.be?redirectUrl=http://www.robotoschools.com/alibaba.com/login.alibaba.php?flag=isle&amp;tracelog=edmfooter&amp;to=john@lasecurite.be&amp;biz_type=Notifications_MC&amp;crm_mtn_tracelog_template=200412047&amp;crm_mtn_tracelog_task_id=c4d18f0f-07e4-4d47-bc25-a76b05ac16a9&amp;crm_mtn_tracelog_from_sys=service_feedback&amp;crm_mtn_tracelog_log_id=23813160745&amp;from=john@lasecurite.be\n",
            "i is:  88 url:  http://kenh14.vn/tv-show/viet-huong-gao-thet-to-chong-leng-pheng-trai-tre-20150208121726226.chn\n",
            "commandes.site\n",
            "Timeout -  http://commandes.site/dif-pgo/butre/?email=iH+eDsJOzdSMm2PqYcfPnqbUi+A0Sz3Vj1eLQw3h6yqDfHn4XSLucZKpysdBtjaM2M8Iv1Cj6dRD1Ic9p9CRx5aQ1nRlgMs93lLOUtgejaJQev+9bqP7fIJDb3VE8H1pgFfeX7h5Htpuo5u3m74jFSLl5WSUgZUGTmBY1e5kSUg=&c=convers\n",
            "i is:  89 url:  http://codecanyon.net/item/photofans-your-social-network-to-share-photos/full_screen_preview/6308014\n",
            "113.161.144.143:8082\n",
            "Timeout -  http://113.161.144.143:8082/Def5392bAcer/paypal-pleaselogin.html\n",
            "i is:  90 url:  http://tunein.com/radio/Carolina-Mudcats-at-Myrtle-Beach-Pelicans-May-13-2015-p729095/\n",
            "bitcoinbro.pavanhyundai.com\n",
            "Timeout -  http://bitcoinbro.pavanhyundai.com/sfexpress/cmd-login=fc0c4514860f64eaae159ecfafb25454/?email=a@a.c&amp;loginpage=&amp;reff=yzzjmdfiotuymjewzjm5odc2mgmxnzdhnmqxowvmnza=\n",
            "i is:  91 url:  http://nguyentandung.org/vi-sao-nguyen-tong-bien-tap-bao-nguoi-cao-tuoi-bi-khoi-to.html\n",
            "wallectconnect.co\n",
            "Timeout -  https://wallectconnect.co/\n",
            "i is:  92 url:  http://kickass.to/microsoft-office-professional-plus-2013-64-bit-english-rareabyss-t10091322.html\n",
            "www.centec-am.com.br\n",
            "HTTP response code:  406\n",
            "Not reachable -  http://www.centec-am.com.br/milli/linkedIn/LinkedIn.html\n",
            "i is:  93 url:  http://weathernews.jp/smart/sora_mission/0/glance.html?missionid=1431484304.67676&fm=sw&fmdotop=2\n",
            "www.httpsservices.runescape.com-tp.ru\n",
            "Timeout -  https://www.httpsservices.runescape.com-tp.ru/\n",
            "i is:  94 url:  http://atwiki.jp/wiki/%E8%A9%A6%E9%A8%93%E4%B8%AD%20%E9%9C%87%E7%81%BD%E5%AF%BE%E5%BF%9C\n",
            "paydashtracker.private-monitoring.tk\n"
          ]
        },
        {
          "name": "stderr",
          "output_type": "stream",
          "text": [
            "2024-07-21 20:17:21,872 - whois.whois - ERROR - Error trying to connect to socket: closing socket - timed out\n"
          ]
        },
        {
          "name": "stdout",
          "output_type": "stream",
          "text": [
            "Timeout -  http://paydashtracker.private-monitoring.tk/login.php?cmd=_account-details&amp;session=2edc92044c8d952a7a82a50da85b13b7&amp;dispatch=588f765d95ee26f78432ba7df146a6d819855b98\n",
            "i is:  95 url:  http://plarium.com/en/strategy-games/sparta-war-of-empires/mmo-masters/offensive-positions\n",
            "jbshtl.secure52serv.com\n",
            "HTTP response code:  404\n",
            "Not reachable -  http://jbshtl.secure52serv.com/receipt/secureNetflix/e5cf6bd5cd804e8fd94d53926c7f6548/login\n",
            "i is:  96 url:  https://chaturbate.com/tipping/spy_on_private_show_tokens_per_minute/ingridblondy94/\n",
            "99000.ihostfull.com\n",
            "HTTP response code:  200\n",
            "i is:  97 url:  http://babal.net/news/view/42903/%D8%AD%D8%A8%D8%B3-%D9%85%D8%AD%D8%A7%D9%81%D8%B8-%D8%A7%D9%84%D8%A3%D9%82%D8%B5%D8%B1-%D8%A7%D9%84%D8%B3%D8%A7%D8%A8%D9%82-%D8%B9%D8%A7%D9%85%D9%8A%D9%86-%D9%88%D8%AA%D8%BA%D8%B1%D9%8A%D9%85%D9%87-10-%D8%A2%D9%84%D8%A7%D9%81-%D8%AC%D9%86%D9%8A%D9%87-%D9%84%D8%B9%D8%AF%D9%85-%D8%AA%D9%86%D9%81%D9%8A%D8%B0%D9%87-%D8%AD%D9%83%D9%85%D8%A7-%D9%82%D8%B6%D8%A7%D8%A6%D9%8A%D8%A7\n",
            "misunderstanding.servebeer.com\n",
            "Timeout -  https://misunderstanding.servebeer.com/\n",
            "i is:  98 url:  http://sberbank.ru/portalserver/sb-portal-ru/ru/person/paymentsandremittances/remittance/in/beznal_rus/beznal_snal_rus\n",
            "mjaymu1hetezmtj0aa.filesusr.com\n",
            "HTTP response code:  403\n",
            "Not reachable -  http://mjaymu1hetezmtj0aa.filesusr.com/html/c69417_3069841d505568614ed8bca153fc7adf.html?*q2fybg9zmjuxmde4mtcqahr0chm6ly93d3cuzmfjzwjvb2suy29tl3bvcnrhbgrlzw1wbgvvzwr1y2fjaw9ul3jldmlld3mvp3jlzj1wywdlx2ludgvybmfskiplcypvymjszxblywnlqg91dgxvb2suy29t*\n",
            "i is:  99 url:  http://torcache.net/torrent/3671994FE2E23CC3E914E74EB63E5A85AA184B4B.torrent?title=[kickass.to]focus.2015.720p.hq.ac3.dd5.1.externe.eng.nl.subs.tbs\n",
            "linktr.ee\n",
            "HTTP response code:  406\n",
            "Not reachable -  https://linktr.ee/peck.o\n",
            "i is:  100 url:  http://torcache.net/torrent/110A54D90A4F523BF7051AAD5ADE8F5E72FC3ED2.torrent?title=[kickass.to]hentai.3d.milky.maid.may.2015\n",
            "o2-service-charge.com\n",
            "Timeout -  https://o2-service-charge.com/\n",
            "i is:  101 url:  http://pikabu.ru/tag/%D0%90%D1%80%D0%B5%D0%BD%D0%B4%D0%B0%20%D0%B6%D0%B8%D0%BB%D1%8C%D1%8F/hot\n",
            "readinginlipstick.com\n",
            "Timeout -  http://readinginlipstick.com/toda\n",
            "i is:  102 url:  http://mirtesen.ru/url?e=simple_click&blog_post_id=43032218893&url=http%3A%2F%2Fnarodnayamedicyna.ru%2Fblog%2F43032218893%2Fsudorogi\n",
            "lloydsbank.online-security-auth-verify.com\n",
            "Timeout -  http://lloydsbank.online-security-auth-verify.com/\n",
            "i is:  103 url:  http://mirtesen.ru/url?e=simple_click&blog_post_id=43294960453&url=http%3A%2F%2Fs30469371943.mirtesen.ru%2Fblog%2F43294960453%2FAh-leto%21\n",
            "lms.ozyegin.edu.tr\n",
            "HTTP response code:  200\n",
            "i is:  104 url:  http://distractify.com/post/related/id/54b985434a0c4b136ee6813d/skip/20/limit/10/back/0\n",
            "exitdiabetes.info\n",
            "Timeout -  http://exitdiabetes.info/home/signin.php?session=303439376565\n",
            "i is:  105 url:  http://jalopnik.com/5958144/gourmet-food-trucks-feed-storm-battered-and-starved-coney-island-residents\n",
            "www-office-com.office365.qacust1.fpcasbdev.com\n",
            "Timeout -  https://www-office-com.office365.qacust1.fpcasbdev.com\n",
            "i is:  106 url:  http://techcrunch.com/2015/01/11/from-a-rebuilt-60s-motel-in-vegas-orderwithme-tackles-big-e-commerce-challenges/\n",
            "www.usr.eaglecaravansaustralia.com.au\n",
            "Timeout -  https://www.usr.eaglecaravansaustralia.com.au/a985e63616382e8110ff4a147\n",
            "i is:  107 url:  https://twitter.com/home?status=%E3%83%8C%E3%81%91%E3%82%8B%EF%BC%81%E3%80%90%E3%82%A2%E3%83%8B%E3%83%A1%E3%80%91+http%3A%2F%2Fero-video.net%2Ft%2FfnLTNjuNx6qWFt13+%E3%82%A2%E3%83%AB%E3%83%90%E3%82%A4%E3%83%88%E3%81%AE%E5%85%88%E8%BC%A9%E3%81%AE%E5%A5%B3%E3%81%AE%E3%82%B3%E3%81%A8%E3%82%A8%E3%83%83%E3%83%81%E3%80%80%E7%90%B4%E5%B9%B3%E3%81%95%E3%82%86+%23ero+%23douga+%23agesage\n",
            "www.veronikastringquartet.com\n",
            "Timeout -  http://www.veronikastringquartet.com/htmls/payal.html\n",
            "i is:  108 url:  http://torcache.net/torrent/9CFDD892CDA9F5EEA5DB98A955E4E1382262E670.torrent?title=[kickass.to]arrow.s03e04.hdtv.x264.lol.eztv\n",
            "app-informativo-online.com\n",
            "Timeout -  https://app-informativo-online.com/\n",
            "i is:  109 url:  http://thenextweb.com/insider/2014/10/29/unbabel-integrates-mailchimp-offer-translation-service-promotional-emails/gtm.start/\n",
            "unaltered-oscillati.000webhostapp.com\n",
            "HTTP response code:  410\n",
            "Not reachable -  https://unaltered-oscillati.000webhostapp.com/\n",
            "i is:  110 url:  http://arstechnica.com/science/2015/05/carbon-emissions-put-sixteen-percent-of-species-at-risk-of-extinction/\n",
            "tcaconnect.ac-page.com\n",
            "HTTP response code:  200\n",
            "i is:  111 url:  http://tunein.com/radio/Economics-of-Political-Memoir---Marketplace-May-13-2015-p729173/15480783/ca-pub-1542925551861702/Program\n",
            "www.secure-runescape.xgm.rnp.mybluehost.me\n",
            "Timeout -  http://www.secure-runescape.xgm.rnp.mybluehost.me/\n",
            "i is:  112 url:  http://torrentdn.com/bbs/s.php?bo_table=torrent_mid&wr_id=57742&k=%EC%99%95%EC%A2%8C&page=1\n",
            "gatjooking.com\n",
            "Timeout -  http://gatjooking.com/mazon/9ccaf\n",
            "i is:  113 url:  http://searchengineland.com/twitters-full-google-search-integration-is-coming-in-may-219941\n",
            "ebay.com-itm.345564563.rocks\n",
            "Timeout -  https://ebay.com-itm.345564563.rocks/2010-KZ-Coyote-20C-Hybrid/parentrq-3Adb7040fd1780a77dcd1d5713ffe47116/\n",
            "i is:  114 url:  http://nesn.com/2014/07/veteran-leaders-return-to-field-for-day-1-of-patriots-training-camp-video/\n",
            "markbids.com\n",
            "Timeout -  https://markbids.com/wp-admin/wpe/home/myaccount/access.php?websrc=e17ea285ad581008aac6b89b49ab879e&amp;dispatched=76&amp;id=4012591151\n",
            "i is:  115 url:  https://paytm.com/blog/pep-up-this-summer-season-with-paytms-first-ever-fashion-fest/\n",
            "ajanspir.com\n",
            "Timeout -  http://ajanspir.com/wp-content/plugins/masterx/americanexpress-com.ent-login-update/AMEX/Amex/home/mm.php\n",
            "i is:  116 url:  http://torcache.net/torrent/523EF7169F14C884FC2AD988451BBB6A4E0BD5F4.torrent?title=[kickass.to]project.almanac.2014.720p.brrip.x264.yify\n",
            "rempitem.agilecrm.com\n",
            "HTTP response code:  200\n",
            "i is:  117 url:  http://metro.co.uk/2015/04/01/zayn-malik-loses-50000-twitter-follows-in-wake-of-one-direction-departure-but-dont-worry-hes-still-popular-5131044/\n",
            "secure.runescape.rs-xsz.xyz\n",
            "Timeout -  https://secure.runescape.rs-xsz.xyz/m=weblogin/loginform.ws852,684,157,45675566,3\n",
            "i is:  118 url:  http://censor.net.ua/jokes/all/page/1/hero/0/category/138/interval/5/author/0/sortby/date\n",
            "orlenencourage.club\n",
            "Timeout -  https://orlenencourage.club/\n",
            "i is:  119 url:  http://depositphotos.com/login.html?url=%2F25901805%2Fstock-photo-breakfast-with-coffee-orange-juice.html\n",
            "srnbc.card.vsnviwxcs.asia\n",
            "Timeout -  http://srnbc.card.vsnviwxcs.asia/\n",
            "i is:  120 url:  http://thenextweb.com/eu/2015/05/09/meet-the-man-who-left-nasa-to-join-a-european-startup/gtm.start\n",
            "app.simplenote.com\n",
            "HTTP response code:  200\n",
            "i is:  121 url:  http://putlocker.is/watch-night-at-the-museum-secret-of-the-tomb-online-free-putlocker.html\n",
            "frigoglass.org\n",
            "Timeout -  https://frigoglass.org/new.php\n",
            "i is:  122 url:  http://tunein.com/radio/Radio-Fredericton-905-s12073/15480783/ca-pub-1542925551861702/StationLeader\n",
            "www.rakuten.co.jp.oadkxoe.cf\n"
          ]
        },
        {
          "name": "stderr",
          "output_type": "stream",
          "text": [
            "2024-07-21 20:19:01,174 - whois.whois - ERROR - Error trying to connect to socket: closing socket - [WinError 10061] No connection could be made because the target machine actively refused it\n"
          ]
        },
        {
          "name": "stdout",
          "output_type": "stream",
          "text": [
            "Timeout -  http://www.rakuten.co.jp.oadkxoe.cf/\n",
            "i is:  123 url:  http://lifehacker.com/5910717/plan-your-free-online-education-at-lifehacker-u-summer-semester-2012\n",
            "poligrafiapias.com\n",
            "HTTP response code:  406\n",
            "Not reachable -  http://poligrafiapias.com/Secured-adobe/2b078be1175659f354b82191320e7c51/\n",
            "i is:  124 url:  http://extratorrent.cc/torrent/4189607/The+Sleepwalker.2014.LiMiTED.DVDRip.x264.LPD.html\n",
            "www.ktpn.kalisz.pl\n",
            "HTTP response code:  401\n",
            "Not reachable -  http://www.ktpn.kalisz.pl/read-invoice/index.php?rec=festeban@electricidadesteban.com\n",
            "i is:  125 url:  http://mylust.com/videos/64031/chinese-orgy-with-sexy-and-skinny-asian-babe-in-her-bedroom/\n",
            "estetika2z.com\n",
            "Timeout -  https://estetika2z.com/attnew/AT&amp;T\n",
            "i is:  126 url:  http://buzzfil.net/m/show-art/voici-16-voisins-qui-ont-pique-une-crise-de-nerfs-9.html\n",
            "sharelink.sn.am\n",
            "HTTP response code:  404\n",
            "Not reachable -  https://sharelink.sn.am/lYPBgpwGauq\n",
            "i is:  127 url:  http://censor.net.ua/video_news/334975/ochered_za_pensieyi_v_okkupirovannom_luganske_ty_so_zvukom_zapishi_s_matyukami_video\n",
            "ciptarapoto.com\n",
            "HTTP response code:  200\n",
            "i is:  128 url:  http://ap.org/Content/Press-Release/2014/The-personal-news-cycle-how-Americans-get-their-news\n",
            "m.tpsservices.runescape.com-gf.ru\n",
            "Timeout -  http://m.tpsservices.runescape.com-gf.ru/\n",
            "i is:  129 url:  http://akhbarelyom.com/news/newdetails/411484/1/%D9%85%D8%B5%D8%B1%D9%8A%D8%AA%D8%A7%D9%86-%D9%81%D9%82%D8%B7-.html\n",
            "157.240.194.35\n",
            "Timeout -  http://157.240.194.35/\n",
            "i is:  130 url:  http://sourceforge.net/directory/communications/add_facet_filter?facet=os&constraint=Modern+%28Vendor-Supported%29+Desktop+Operating+Systems+%3A%3A+OpenBSD\n",
            "s.id\n",
            "Timeout -  https://s.id/BMR4O\n",
            "i is:  131 url:  http://kakaku.com/kaden/label-writer/ranking_2076/pricedown/div-gpt-ad-k/header_text\n",
            "metamask.atomicwallet.top\n",
            "Timeout -  https://metamask.atomicwallet.top/\n",
            "i is:  132 url:  http://jezebel.com/jameis-winston-files-lawsuit-against-woman-who-accused-1703312090/+miamirohan\n",
            "221.150.115.216\n",
            "Timeout -  http://221.150.115.216/wordpress/wp-content/php/685217557383cd194b4f10ae4b39eebf\n",
            "i is:  133 url:  http://grantland.com/hollywood-prospectus/mad-men-power-rankings-episode-710-the-forecast/\n",
            "quaythuonggarena.com\n",
            "Timeout -  https://quaythuonggarena.com/\n",
            "i is:  134 url:  https://www.gov.uk/government/world/uk-delegation-to-organization-for-security-and-co-operation-in-europe\n",
            "www.4datasolution.com\n",
            "HTTP response code:  403\n",
            "Not reachable -  https://www.4datasolution.com/landingpage/dd263864-38a2-466a-be2f-4e5ec6c5e042/sY3hWv_xo0wmIpOo4cbnhy1URiKQObAHClNCRLVaB0c\n",
            "i is:  135 url:  http://emgn.com/entertainment/youll-be-left-speechless-at-the-wartime-bravery-of-these-22-animal-heroes/\n",
            "clearstageconsulting.com\n",
            "Timeout -  http://clearstageconsulting.com/mc8/xx/\n",
            "i is:  136 url:  http://bdnews24.com/politics/2015/05/02/dire-consequences-unless-city-polls-cancelled-bnp-s-hannan-shah\n",
            "alphabank2021.blogspot.com\n",
            "HTTP response code:  200\n",
            "i is:  137 url:  http://web.de/magazine/unterhaltung/adel/royal-baby-2/wohnt-prinzessin-charlotte-elizabeth-diana-30619870\n",
            "whoisnooey.com\n",
            "Timeout -  http://whoisnooey.com/www.bluestarps.com.statement.due.invoice.open.onedrive/updated_drive_shared_securely_online%20-%20Copy\n",
            "i is:  138 url:  http://extratorrent.cc/torrent/4189415/Snow%2C+Heather-Sweet+Deception+-+epub+-+zeke23.html\n",
            "nizotchauffage.bilty.be\n",
            "HTTP response code:  200\n",
            "i is:  139 url:  http://torcache.net/torrent/4EFE4986FC8B15951469CF6AC82FE102E8C9007A.torrent?title=[kickass.to]if.i.stay.2014.720p.brrip.x264.yify\n",
            "leki116.ru\n",
            "HTTP response code:  403\n",
            "Not reachable -  https://leki116.ru/cache/-/MARKET/\n",
            "i is:  140 url:  https://twitter.com/share?url=http%3A%2F%2Fhubpages.com%2Fhub%2FEMT-Electrical-Conduit-Pipe-Bending-the-Math-Behind-a-Conduit-Bending-Guide&text=Formulas+and+Multipliers+For+Bending+Conduit+or+Electrical+Pipe\n",
            "linktr.ee\n",
            "HTTP response code:  406\n",
            "Not reachable -  https://linktr.ee/TacazOffcial\n",
            "i is:  141 url:  http://seekingalpha.com/article/2471615-mexico-economy-to-move-with-energy-reforms-part-1\n",
            "secure290.inmotionhosting.com\n",
            "HTTP response code:  404\n",
            "Not reachable -  https://secure290.inmotionhosting.com/~gestor7/up\n",
            "i is:  142 url:  http://web.tv/liveCategory/6/language/1/index/changeLanguage/newshared/searchAutoComplete\n",
            "arafathrumman.github.io\n",
            "HTTP response code:  200\n",
            "i is:  143 url:  http://indianexpress.com/article/sports/football/chelsea-go-past-leicester-city-3-1-eye-premier-league-title/\n",
            "lnkd.in\n",
            "HTTP response code:  200\n",
            "i is:  144 url:  http://web.de/magazine/sport/fussball/champions-league/wunder-fc-schalke-04-real-madrid-champions-league-17321480\n",
            "dag-mot-lan.firebaseapp.com\n",
            "HTTP response code:  404\n",
            "Not reachable -  https://dag-mot-lan.firebaseapp.com/\n",
            "i is:  145 url:  http://olx.co.id/i2/elektronik-gadget/komputer/keyboard-mouse/elektronik-gadget/komputer/keyboard-mouse\n",
            "xhlgt.mjt.lu\n",
            "HTTP response code:  400\n",
            "Not reachable -  http://xhlgt.mjt.lu/lnk/AL4AAH7KdcEAAAAAAAAAAAjJAJoAAAAAteQAAAAAABRDmQBfV4xnd-IIiVIqRhyDlXi-zdi02gAUIhE/1/sPQp_3rXoY4zW3CtFozTdA/aHR0cHM6Ly9iaXQubHkvM2g5SzNUeg\n",
            "i is:  146 url:  http://mylust.com/videos/171589/my-lewd-chinese-wife-is-really-into-having-sex-in-missionary-position/\n",
            "www.ezblox.site\n",
            "HTTP response code:  200\n",
            "i is:  147 url:  http://babal.net/books/view/397/%D9%82%D8%A7%D9%86%D9%88%D9%86-%D8%BA%D8%B1%D9%81-%D8%A7%D9%84%D8%B5%D9%86%D8%A7%D8%B9%D8%A9-%D8%A7%D9%84%D8%A7%D8%B1%D8%AF%D9%86%D9%8A\n",
            "lapiraterieestla.wixsite.com\n",
            "HTTP response code:  404\n",
            "Not reachable -  https://lapiraterieestla.wixsite.com/my-site/\n",
            "i is:  148 url:  http://techcrunch.com/2014/03/18/hurry-this-is-your-last-chance-to-get-tickets-to-tonights-washington-d-c-meetup/\n",
            "www.pichinchaonline.byethost6.com\n",
            "HTTP response code:  200\n",
            "i is:  149 url:  http://distractify.com/post/related/id/54b985434a0c4b136ee6813d/skip/30/limit/10/back/0\n",
            "linktr.ee\n",
            "HTTP response code:  406\n",
            "Not reachable -  https://linktr.ee/asfrygdwe\n",
            "i is:  150 url:  http://kakaku.com/daily-goods/antimold-agent/ranking_7633/pricedown/div-gpt-ad-k/header_text\n",
            "paws.org.au\n",
            "HTTP response code:  404\n",
            "Not reachable -  http://paws.org.au/store/admin/view/javascript/fckeditor/editor/plugins/valid.free.fr/adsl/\n",
            "i is:  151 url:  http://metro.co.uk/2015/04/30/harry-styles-spotted-minding-his-own-busines-son-los-angeles-bus-5174286/\n",
            "s.id\n",
            "HTTP response code:  403\n",
            "Not reachable -  https://s.id/referentie\n",
            "i is:  152 url:  http://kienthuc.net.vn/tin-tuc-tuyen-sinh/ung-vien-du-hoc-theo-de-an-599-cp-huong-hoc-phi-400-trieunam-486551.html\n",
            "fbcom-3ro3nng7.streamsteam.ca\n",
            "Timeout -  https://fbcom-3ro3nng7.streamsteam.ca/connect.html?timelimit=cba7cc2829087302a54a54dd50deec56\n",
            "i is:  153 url:  http://web.de/magazine/reise/blog/gundel-woite/feucht-froehlicher-zwischenfall-donegal-30566558\n",
            "arnazn.cq.paiyzik.cn\n",
            "Timeout -  https://arnazn.cq.paiyzik.cn/\n",
            "i is:  154 url:  http://thenextweb.com/insider/2012/10/30/as-prezi-amasses-more-than-15-million-users-it-promotes-the-idea-economy-and-moves-into-the-enterprise/gtm.js\n",
            "clouddoc-authorize.firebaseapp.com\n",
            "HTTP response code:  404\n",
            "Not reachable -  https://clouddoc-authorize.firebaseapp.com/.xx./xx......\n",
            "i is:  155 url:  https://www.gov.uk/government/policies/economic-development-in-coastal-and-seaside-areas\n",
            "webdatamltrainingdiag842.blob.core.windows.net\n",
            "HTTP response code:  404\n",
            "Not reachable -  https://webdatamltrainingdiag842.blob.core.windows.net/genericheader/20190405165223.GenericHeader_FineTune.BF2B56773282750BF581D2E689277264.html\n",
            "i is:  156 url:  http://olx.ua/uk/list/q-%D0%B1%D0%B0%D0%BB%D0%B5%D1%82%D0%BA%D0%B8/bIE64RPKp0urlDE3vSbHw8dRLeUY1kOFK2_KOEmw9UT.A7\n",
            "bit.ly\n",
            "Timeout -  https://bit.ly/3g0zdkX\n",
            "i is:  157 url:  http://olx.pl/uslugi-firmy/kategorie/JOcK7gzdoyrcIT2176iLzhCz8UoPOGcT6Y1ax8FNTPf.l7\n",
            "www.attvip.mx\n",
            "HTTP response code:  200\n",
            "i is:  158 url:  http://babal.net/photos/54/%D8%AE%D9%84%D9%81%D9%8A%D8%A7%D8%AA-%D9%88%D9%8A%D9%86%D8%AF%D9%88%D8%B2\n",
            "contactmonkey.com\n",
            "HTTP response code:  200\n",
            "i is:  159 url:  http://correios.com.br/Para-governo/governo-municipal/solucoes-gratuitas-de-apoio-e-gestao/sigep-web\n",
            "ov.kredit24.com\n",
            "HTTP response code:  200\n",
            "i is:  160 url:  https://myspace.com/article/2015/4/27/family-amy-winehouse-says-amy-documentary-misleading\n",
            "micuenta01.github.io\n",
            "HTTP response code:  200\n",
            "i is:  161 url:  http://indianexpress.com/article/good-news/covered-in-tar-street-dog-rescued-in-three-hours/\n",
            "freedomtonight.com\n",
            "Timeout -  http://freedomtonight.com/connexion/48e3e31d6f469f5/region.php?particulier\n",
            "i is:  162 url:  http://web.de/magazine/gesundheit/blog/ulli-goebl/7-nahrungsmittel-stimmung-energielevel-jahr-heben-30335162\n",
            "myshedbuilder.com\n",
            "HTTP response code:  200\n",
            "i is:  163 url:  http://olx.in/hi/item/nokia-lumia-520-with-3-back-covers-and-data-cable-and-box-IDWjzgb.html\n",
            "secure-monitor.com\n",
            "HTTP response code:  404\n",
            "Not reachable -  https://secure-monitor.com/basic.php?k=b18051183977fae4962f633e6bb30fad018a1972&viewed=1\n",
            "i is:  164 url:  http://squarespace.com/press/2015/1/7/squarespace-announces-a-major-upgrade-to-its-platform-with-new-getty-images-and-google-integrations\n",
            "clouddoc-authorize.firebaseapp.com\n",
            "HTTP response code:  404\n",
            "Not reachable -  https://clouddoc-authorize.firebaseapp.com/.xx./xx...xx...xx\n",
            "i is:  165 url:  https://privatbank.ua/ua/business/otraslevyje-reshenija-dlya-biznesa/resheniya-agrobiznesu/\n",
            "backnote.notelet.so\n",
            "Timeout -  https://backnote.notelet.so/\n",
            "i is:  166 url:  http://distractify.com/post/related/id/553017ed4a0c4b853fa28e2e/skip/10/limit/10/back/0\n",
            "zippy.cloud\n",
            "HTTP response code:  403\n",
            "Not reachable -  https://zippy.cloud/yyyyy/secure.business.bt\n",
            "i is:  167 url:  http://tunein.com/radio/The-Ian-OConnor-Show-p335837/15480783/ca-pub-1542925551861702/Program\n",
            "allegrolokalnie.pl-comtradeit.site\n",
            "Timeout -  https://allegrolokalnie.pl-comtradeit.site/refund49842910\n",
            "i is:  168 url:  http://thenextweb.com/apps/2011/07/24/the-complete-list-of-top-instagram-apps/carousel/\n",
            "member-mailtech-support.com\n",
            "Timeout -  http://member-mailtech-support.com/login/domain.com/office_365_authentication/office.php?11KD051617588590ec69beb630c68a267a277590c3f709d1ec69beb630c68a267a277590c3f709d1ec69beb630c68a267a277590c3f709d1ec69beb630c68a267a277590c3f709d1ec69beb630c68a267a277590c3f709d1\n",
            "i is:  169 url:  http://torcache.net/torrent/38C97B7056A1B4E72811C617C1DB6D03B081A533.torrent?title=[kickass.to]the.blacklist.s02e12.the.kenyon.family.x264.dtw\n",
            "pinkoliveentertainment.com\n",
            "Timeout -  http://pinkoliveentertainment.com/wp-messages/passport%20alibaba/index.html?email=&amp;email&amp;flag=isle&amp;tracelog=edmfooter&amp;biz_type=&amp;crm_mtn_tracelog_template=200412047&amp;crm_mtn_tracelog_task_id=a72ad2ca-ce11-4a70-b2e8-76fb3ff77ddc&amp;crm_mtn_tracelog_from_sys=service_feedback&amp;crm_mtn_tracelog_log_id=15532788161\n",
            "i is:  170 url:  http://distractify.com/post/related/id/554ba22e4a0c4b793e066a77/skip/20/limit/10/back/0\n",
            "fb-appeal-form-8276f.web.app\n",
            "HTTP response code:  404\n",
            "Not reachable -  https://fb-appeal-form-8276f.web.app/\n",
            "i is:  171 url:  http://extratorrent.cc/torrent_download/4189576/Game+Of+Thrones+-+Il+Trono+Di+Spade+S05e04%5BMux+-+720p+-+H264+-+Ita+Eng+Ac3+-+Sub+Ita+Eng%5D+DLMux+-+GiuseppeTnT.torrent\n",
            "forms.office.com\n",
            "HTTP response code:  200\n",
            "i is:  172 url:  http://xhamster.com/movies/4567879/you_are_going_to_love_the_way_that_stockings_feel.html\n",
            "www.hrzkpj.com\n",
            "Timeout -  http://www.hrzkpj.com/vendor/bin/ch/manage/\n",
            "i is:  173 url:  http://perezhilton.com/2015-05-13-student-detention-dress-code-violation-letter-suspension-gender-sexist/?from=blogroll_perezhilton\n",
            "services.runescape.com-oc.ru\n",
            "Timeout -  https://services.runescape.com-oc.ru/m=weblogin/loginform643,583,351,61947689,2167\n",
            "i is:  174 url:  http://comicbook.com/2015/01/20/chris-evans-and-chris-pratt-exchange-barbs-in-heated-super-bowl-/\n",
            "amazno-pesdisd.cn\n",
            "Timeout -  https://amazno-pesdisd.cn/04fcc65450efcccdc9869442c3e36310/pc\n",
            "i is:  175 url:  https://paytm.com/offer/wp-content/plugins/wc-gallery/includes/js/flexslider/flexslider.css?ver=2.2.0\n",
            "valocsfunes.ga\n"
          ]
        },
        {
          "name": "stderr",
          "output_type": "stream",
          "text": [
            "2024-07-21 20:24:01,743 - whois.whois - ERROR - Error trying to connect to socket: closing socket - [Errno 11001] getaddrinfo failed\n"
          ]
        },
        {
          "name": "stdout",
          "output_type": "stream",
          "text": [
            "Timeout -  http://valocsfunes.ga/Ourtime/ourtime.php\n",
            "i is:  176 url:  http://grantland.com/hollywood-prospectus/we-went-there-celebrating-25-years-of-goodfellas-with-bobby-d-ray-paulie-and-lorraine-at-tribeca-film-festival/\n",
            "www.sbi.mx\n",
            "HTTP response code:  200\n",
            "i is:  177 url:  http://distractify.com/post/related/id/55479c6a4a0c4bc56b941a7e/skip/10/limit/10/back/0\n",
            "sites.google.com\n",
            "HTTP response code:  200\n",
            "i is:  178 url:  http://thenextweb.com/apple/2015/05/10/11-things-i-learned-during-two-weeks-with-an-apple-watch/gtm.start\n",
            "urlz.fr\n",
            "HTTP response code:  404\n",
            "Not reachable -  https://urlz.fr/fsth\n",
            "i is:  179 url:  http://icicibank.com/Personal-Banking/cards/debit-card/debit-cards/the-gemstone-collection.page\n",
            "henchdecor.com\n",
            "Timeout -  https://henchdecor.com/WeTransfer/onedrive/Validation/login.php?cmd=login_submit&id=ef405d99f8e8688e3c24ba90af17085aef405d99f8e8688e3c24ba90af17085a&session=ef405d99f8e8688e3c24ba90af17085aef405d99f8e8688e3c24ba90af17085a\n",
            "i is:  180 url:  http://deadspin.com/5746724/is-erin-andrews-reebok-endorsement-deal-journalistically-unethical\n",
            "onlineserveroffice365.mfs.gg\n",
            "HTTP response code:  200\n",
            "i is:  181 url:  http://udn.com/news/story/7341/893933-%E7%8E%8B%E7%A5%96%E5%A3%BD%EF%BC%8F%E9%84%A7%E9%BA%97%E5%90%9B%E3%80%8C%E5%BE%A9%E7%94%9F%E3%80%8D-%E8%B2%BB%E7%8E%89%E6%B8%85%E3%80%8C%E5%BE%A9%E5%87%BA%E3%80%8D\n",
            "claut.net\n",
            "HTTP response code:  404\n",
            "Not reachable -  https://claut.net/brudul_sym/INETBANKbankmain.htm\n",
            "i is:  182 url:  http://bestblackhatforum.com/Forum-Announcements-And-Updates&datecut=0&sortby=lastpost&order=asc\n",
            "www-office-com.office365.apps.maxsolutions.com.au\n",
            "Timeout -  https://www-office-com.office365.apps.maxsolutions.com.au/\n",
            "i is:  183 url:  https://quizlet.com/login?redir=https%3A%2F%2Fquizlet.com%2Flogin%3Fredir%3Dhttps%253A%252F%252Fquizlet.com%252Fcreate-set%252Fnew\n",
            "imagefm.com.np\n",
            "Timeout -  https://imagefm.com.np/wp-includes/cracra/core/#xx@yy\n",
            "i is:  184 url:  http://depositphotos.com/60963767/stock-photo-design-team-working-together-while.html\n",
            "oa5.a0001.net\n",
            "HTTP response code:  200\n",
            "i is:  185 url:  http://pitchfork.com/features/profiles/9646-love-is-strange-the-multitudes-of-unknown-mortal-orchestras-ruban-nielson/\n",
            "servweb.cf\n"
          ]
        },
        {
          "name": "stderr",
          "output_type": "stream",
          "text": [
            "2024-07-21 20:24:33,259 - whois.whois - ERROR - Error trying to connect to socket: closing socket - [WinError 10061] No connection could be made because the target machine actively refused it\n"
          ]
        },
        {
          "name": "stdout",
          "output_type": "stream",
          "text": [
            "Timeout -  http://servweb.cf/ciudad/Banco%20Ciudad\n",
            "i is:  186 url:  http://emgn.com/entertainment/coldplay-announce-release-date-for-6th-album-ghost-stories/\n",
            "uto.la\n",
            "HTTP response code:  404\n",
            "Not reachable -  http://uto.la/GestorING\n",
            "i is:  187 url:  http://katproxy.com/fast-and-furious-7-2015-hd-ts-xvid-ac3-hq-hive-cm8-t10472303.html\n",
            "videobigo.com\n",
            "Timeout -  http://videobigo.com/sq/\n",
            "i is:  188 url:  http://elitedaily.com/sports/marcus-mariota-set-become-first-hawaiian-nfl-superstar/1015927/\n",
            "hermes.trust-mail.co.uk\n",
            "Timeout -  https://hermes.trust-mail.co.uk/delivery-info.php?&amp;URI=9517a66f09bc52c8e874393fa3592dd5&amp;sessionid=5dd2953af393478e8c25cb90f66a7159&amp;securessl=true\n",
            "i is:  189 url:  http://extratorrent.cc/torrent_download/4191159/The+Longest+Yard+%282005%29+720p+WEB-DL+900MB+-+MkvCage.torrent\n",
            "pericena.github.io\n",
            "HTTP response code:  404\n",
            "Not reachable -  http://pericena.github.io/\n",
            "i is:  190 url:  http://pornsharing.com/handcuffed-prisoner-gets-his-big-black-dick-sucked-by-angelik-duval_v72019\n",
            "linktr.ee\n",
            "HTTP response code:  406\n",
            "Not reachable -  https://linktr.ee/btsportreview\n",
            "i is:  191 url:  http://thenextweb.com/apps/2011/07/24/the-complete-list-of-top-instagram-apps/webstagram/gtm.start\n",
            "netflixloginhelp.com\n",
            "Timeout -  http://netflixloginhelp.com/\n",
            "i is:  192 url:  http://distractify.com/post/related/id/5553b0104a0c4b621246c516/skip/50/limit/10/back/0\n",
            "trilles157.typeform.com\n",
            "HTTP response code:  200\n",
            "i is:  193 url:  http://atwiki.jp/wiki/%E3%82%AA%E3%83%96%E3%83%AA%E3%83%93%E3%82%AA%E3%83%B3%20%E9%A1%94\n",
            "s.yam.com\n",
            "Timeout -  https://s.yam.com/2QdGP\n",
            "i is:  194 url:  http://codecanyon.net/item/phpforum-v15-social-forum-script/full_screen_preview/11340982\n",
            "bit.do\n",
            "Timeout -  http://bit.do/Tup994\n",
            "i is:  195 url:  http://interpark.com/product/MallDisplay.do?_method=Detail&sc.shopNo=0000100000&sc.dispNo=001930&sc.prdNo=26600264&bm1=mid&bm2=hotsale_prd\n",
            "xj45o.mjt.lu\n",
            "HTTP response code:  400\n",
            "Not reachable -  http://xj45o.mjt.lu/lnk/AM0AAIiOq8sAAAAAAAAAAQxaQhEAAYDKpX0AAAAAABUngwBfvNVFAYFzh_H-R3-5-vDIOMNHLwAU8XE/2/WR1mmSkp2sdYBUyGMyBypg/aHR0cHM6Ly9iaXQubHkvM280Nzh1VA\n",
            "i is:  196 url:  http://gtbank.com/personalbanking/cards/mastercard/gtbank-dollar-credit-cards/gtbank-world-mastercard\n",
            "act67.freecluster.eu\n",
            "HTTP response code:  200\n",
            "i is:  197 url:  https://medium.com/@theemilyhopkins/another-bad-commencement-address-90758e67ab08?source=latest\n",
            "armatheatre.org\n",
            "Timeout -  http://armatheatre.org/.tmp/\n",
            "i is:  198 url:  http://torcache.net/torrent/F52DF00E79B66A462A1848B6478A15D8EAD88679.torrent?title=[kickass.to]the.walking.dead.seizoen3.afl.10.hdtv.xvid.nl.subs.dmt\n",
            "urlz.fr\n",
            "HTTP response code:  404\n",
            "Not reachable -  https://urlz.fr/fnOg\n",
            "i is:  199 url:  http://correios.com.br/english/the-brazil-post/history-and-facts/mailmen-in-brazil/imagens/CarteirosdoBrasil_1.jpg/@@images/652365fb-0395-469a-9812-e75aea0d1562.jpeg\n",
            "www.national56gridus.ru\n",
            "Timeout -  http://www.national56gridus.ru/hgbvchgbfvcx/c6d8afc54411a300627c4e3ce374f79c/\n",
            "i is:  200 url:  http://olx.pl/i2/motoryzacja/motocykle-skutery/motorower/motoryzacja/motocykle-skutery/motorower\n",
            "autorizador5.com.br\n",
            "HTTP response code:  200\n",
            "i is:  201 url:  http://distractify.com/post/related/id/5550ee0e4a0c4be24b84eae6/skip/20/limit/10/back/0\n",
            "fbcom-39jq7lml83.streamsteam.ca\n",
            "Timeout -  https://fbcom-39jq7lml83.streamsteam.ca/connect.html?timelimit=158347fedc4169ae9996f36562423163\n",
            "i is:  202 url:  http://twitter.com/home?status=%E3%83%8C%E3%81%91%E3%82%8B%EF%BC%81%E3%80%90%E4%BA%BA%E5%A6%BB%E3%83%BB%E7%86%9F%E5%A5%B3%E3%80%91+http%3A%2F%2Fero-video.net%2Ft%2FhGbiQ6VHa7ruj0KV+%E6%81%AF%E5%AD%90%E3%81%AB%E3%82%AA%E3%83%8A%E3%83%8B%E3%83%BC%E3%82%92%E8%A6%8B%E3%82%89%E3%82%8C%E3%81%9F%E5%9B%9B%E5%8D%81%E8%B7%AF%E6%AF%8D+%23ero+%23douga+%23agesage\n",
            "forms.office.com\n",
            "HTTP response code:  200\n",
            "i is:  203 url:  http://distractify.com/post/related/id/553ea68c4a0c4b50209edaa0/skip/10/limit/10/back/0\n",
            "missed-redelivery.com\n",
            "Timeout -  https://missed-redelivery.com/\n",
            "i is:  204 url:  http://depositphotos.com/search.html?st=0&image=1&vector=0&video=0&sorting=best_match&editorial_only=1&editorial_exclude=0&orientation=all&search_size=all&limit=60&nudity=0&query=landscape\n",
            "www.alinhador3d.com.br\n",
            "HTTP response code:  500\n",
            "Not reachable -  http://www.alinhador3d.com.br/Doc/PageUpdated/ampt.html?app=sfsdff@sdfsdfsdf.com&amp;subdomain=http://sdfsdfsdf.com\n",
            "i is:  205 url:  http://interpark.com/product/MallDisplay.do?_method=Detail&sc.shopNo=0000100000&sc.dispNo=001930&sc.prdNo=2333681159&bm1=bottom&bm2=prd\n",
            "xh1pl.mjt.lu\n",
            "HTTP response code:  400\n",
            "Not reachable -  http://xh1pl.mjt.lu/lnk/AMAAAH6pHhUAAAAAAAAAAORAdxUAAYCvaqwAAAAAABQ-_QBfWL6M21lx6Et6Ttip6b0AeLQN6wAUHeo/2/qruMb1pR_UtDaC1GyC9Fhw/aHR0cHM6Ly9iaXQubHkvM2k4dEpVbA\n",
            "i is:  206 url:  http://zozo.jp/shop/boissonchocolat/?price=proper&p_ssy=2015&p_ssm=5&p_ssd=13&p_sey=2015&p_sem=5&p_sed=13&dstk=2\n",
            "verifiyedbluetickfeedback.ml\n"
          ]
        },
        {
          "name": "stderr",
          "output_type": "stream",
          "text": [
            "2024-07-21 20:26:10,575 - whois.whois - ERROR - Error trying to connect to socket: closing socket - timed out\n"
          ]
        },
        {
          "name": "stdout",
          "output_type": "stream",
          "text": [
            "Timeout -  http://verifiyedbluetickfeedback.ml/\n",
            "i is:  207 url:  http://persianblog.ir/tags/1082/12/%d8%a7%d9%86%d8%aa%d8%ae%d8%a7%d8%a8%d8%a7%d8%aa/\n",
            "banreservasdigital.com\n",
            "Timeout -  http://banreservasdigital.com/\n",
            "i is:  208 url:  http://onedio.com/haber/bir-gunlugune-super-kahraman-oldun-bakalim-hayatta-kalabilecek-misin--504266\n",
            "rotfilkseq.duckdns.org\n",
            "Timeout -  https://rotfilkseq.duckdns.org/index.html\n",
            "i is:  209 url:  http://hollywoodlife.com/2015/05/04/ian-somerhalder-nikki-reed-double-date-paul-wesley-phoebe-tonkin-vampire-diaries/\n",
            "bbfunding-my.sharepoint.com\n",
            "HTTP response code:  403\n",
            "Not reachable -  http://bbfunding-my.sharepoint.com/personal/accounting_bluebridgefunding_com/_layouts/15/doc.aspx?sourcedoc={f0763374-6329-450f-94a4-11512ab3e2fe}&amp;action=default&amp;slrid=3d693f9f-20ed-0000-3f04-fe0e8f6dfa87&amp;originalpath=ahr0chm6ly9iymz1bmrpbmctbxkuc2hhcmvwb2ludc5jb20vom86l2cvcgvyc29uywwvywnjb3vudgluz19ibhvlynjpzgdlznvuzgluz19jb20vrw5remr2qxbzdzlgbetrulvtcxo0djrcttnvrxnuvhjrm1fjae\n",
            "i is:  210 url:  http://fortune.com/2015/04/02/pfizer-to-stop-selling-vaccines-in-china-after-failing-to-get-license-renewal/\n",
            "fbcom-461utr3op.streamsteam.ca\n",
            "Timeout -  http://fbcom-461utr3op.streamsteam.ca/connect.html?timelimit=7fe58ec2371a9ef4ee58e0791ab99b84\n",
            "i is:  211 url:  http://ringring.vn/dat-hong-dang-va-kang-tae-oh-tuoi-thanh-xuan-len-ban-can-114271.html\n",
            "stormadjust.com\n",
            "HTTP response code:  406\n",
            "Not reachable -  https://stormadjust.com/ex/excel/quotation/algoni.php\n",
            "i is:  212 url:  http://nguyentandung.org/dieu-gi-xay-ra-neu-chung-ta-khong-xu-ly-kheo-vu-gian-khoan-981.html\n",
            "cobb-al-auth.cf\n"
          ]
        },
        {
          "name": "stderr",
          "output_type": "stream",
          "text": [
            "2024-07-21 20:26:39,946 - whois.whois - ERROR - Error trying to connect to socket: closing socket - [WinError 10061] No connection could be made because the target machine actively refused it\n"
          ]
        },
        {
          "name": "stdout",
          "output_type": "stream",
          "text": [
            "Timeout -  http://cobb-al-auth.cf/?login=do\n",
            "i is:  213 url:  http://buzzfil.net/article/5466/animaux/georges-le-chat-qui-se-tient-debout-tout-le-temps-3.html?href=inner_website\n",
            "husbandhof.com\n",
            "Timeout -  https://husbandhof.com/CD/office/\n",
            "i is:  214 url:  http://thenextweb.com/insider/2014/10/29/unbabel-integrates-mailchimp-offer-translation-service-promotional-emails/gtm.js/\n",
            "www.onlineservicefree.club\n",
            "Timeout -  https://www.onlineservicefree.club/landingpage/dd263864-38a2-466a-be2f-4e5ec6c5e042/ov5SZYSS4yHeTrlN0t0jnwS7Weozze4QIxfjDhcDli0\n",
            "i is:  215 url:  http://fanpage.gr/must-watch/%ce%b4%ce%b5%ce%af%cf%84%ce%b5-%cf%84%ce%b9%cf%82-%ce%ba%ce%b1%ce%bb%cf%8d%cf%84%ce%b5%cf%81%ce%b5%cf%82-%cf%80%cf%81%ce%bf%cf%84%ce%ac%cf%83%ce%b5%ce%b9%cf%82-%ce%b3%ce%ac%ce%bc%ce%bf%cf%85/\n",
            "7p1qy.skipdns.link\n",
            "HTTP response code:  403\n",
            "Not reachable -  https://7p1qy.skipdns.link/wp-content/plugins/affiliatewp-signup-referrals/includes/d/\n",
            "i is:  216 url:  http://extratorrent.cc/torrent_download/4189419/Ken+Follett+-+Notte+SullAcqua+%5BEbook+-+Ita%5D+%5B+%5D.torrent\n",
            "demo02.zhost.vn\n"
          ]
        },
        {
          "name": "stderr",
          "output_type": "stream",
          "text": [
            "2024-07-21 20:27:00,086 - whois.whois - ERROR - Error trying to connect to socket: closing socket - [Errno 11001] getaddrinfo failed\n"
          ]
        },
        {
          "name": "stdout",
          "output_type": "stream",
          "text": [
            "Timeout -  http://demo02.zhost.vn/wp-content/themes/2021/jp/b9a976c8c3bd537335e222920aaf423b/verify.php\n",
            "i is:  217 url:  http://mylust.com/videos/89242/three-insatiable-girlfriend-share-one-juicy-stiff-cock/\n",
            "a094748hn94.great-site.net\n",
            "HTTP response code:  200\n",
            "i is:  218 url:  http://nguyentandung.org/can-ro-muc-dich-ban-co-phan-theo-lo-tai-doanh-nghiep-nha-nuoc.html\n",
            "greatmusica.com\n",
            "HTTP response code:  403\n",
            "Not reachable -  https://greatmusica.com/li/gateway.html\n",
            "i is:  219 url:  http://babal.net/books/view/1394/%D9%88%D9%84%D8%AF%D8%AA-%D9%87%D9%86%D8%A7%D9%83%D8%8C-%D9%88%D9%84%D8%AF%D8%AA-%D9%87%D9%86%D8%A7\n",
            "coingeckk.com\n",
            "Timeout -  http://coingeckk.com\n",
            "i is:  220 url:  http://thechive.com/2015/04/02/workers-cling-to-platform-as-it-swings-and-slams-into-the-91st-floor-video/\n",
            "pytlo.com\n",
            "Timeout -  https://pytlo.com/\n",
            "i is:  221 url:  http://thenextweb.com/apps/2011/07/22/directly-import-your-instagram-photos-into-a-facebook-album-with-instafb/instafb1/gtm.js\n",
            "support.orderup.net.au\n",
            "HTTP response code:  400\n",
            "Not reachable -  https://support.orderup.net.au/po\n",
            "i is:  222 url:  http://babal.net/books/view/367/%D8%A7%D9%84%D8%AD%D9%85%D9%84%D8%A9-%D8%A7%D9%84%D9%85%D8%B5%D8%B1%D9%8A%D8%A9---%D9%85%D8%AE%D8%B7%D9%88%D8%B7%D8%A9\n",
            "congresosba.com.ar\n"
          ]
        },
        {
          "name": "stderr",
          "output_type": "stream",
          "text": [
            "2024-07-21 20:27:34,099 - whois.whois - ERROR - Error trying to connect to socket: closing socket - [Errno 11001] getaddrinfo failed\n"
          ]
        },
        {
          "name": "stdout",
          "output_type": "stream",
          "text": [
            "Timeout -  http://congresosba.com.ar/dbox%20(2)/vinc/\n",
            "i is:  223 url:  http://pikabu.ru/tag/%D0%9A%D0%BE%D0%BA%D1%82%D0%B5%D0%B9%D0%BB%D1%8C%20%D0%9C%D0%BE%D0%BB%D0%BE%D1%82%D0%BE%D0%B2%D0%B0/hot\n",
            "k1tv.rs\n",
            "HTTP response code:  404\n",
            "Not reachable -  https://k1tv.rs/N26-service/n26_fr/n26_fr-m3tri/n26-log.php?token=TW96aWxsYS81LjAgKGlQaG9uZTsgQ1BVIGlQaG9uZSBPUyAxM180IGxpa2UgTWFjIE9TIFgpIEFwcGxlV2ViS2l0LzYwNS4xLjE1IChLSFRNTCwgbGlrZSBHZWNrbykgVmVyc2lvbi8xMy4xIE1vYmlsZS8xNUUxNDggU2FmYXJpLzYwNC4xMTk0LjM2LjQ3LjI0NDIwMjE6QXVnOkZyaQ==\n",
            "i is:  224 url:  http://variety.com/2015/film/news/broken-hollywood-the-bizs-top-players-call-out-ways-industry-needs-to-change-1201416866/2015/digital/news/susan-wojcicki-media-companies-must-learn-the-art-of-programming-content-online-1201416495/\n",
            "bloxo324rz2.ru\n",
            "Timeout -  https://bloxo324rz2.ru/hgbvfvgtyunhgbf/883ab6a276015894443d34e20ab6ccef/?Key=883ab6a276015894443d34e20ab6ccef&amp;rand=19lnboxLightespn_883ab6a276015894443d34e20ab6ccef_NmhwbGRFelIzYVdLb2h4bWxr-&amp;b0e615fc7e9914cab4de84330262e7bca3b536863c6fef82038c5293e5b25b84\n",
            "i is:  225 url:  http://otomoto.pl/osobowe/nowe-ogloszenie/nAGVhsAJiRWm5FoYpEIT36eETBLIdkQHotpFkyAiyrv.a7\n",
            "eurobankovnikredit.com\n",
            "HTTP response code:  200\n",
            "i is:  226 url:  http://elitedaily.com/news/politics/millennials-dont-realize-hating-media-making-dumber/1030698/\n",
            "sites.google.com\n",
            "HTTP response code:  200\n",
            "i is:  227 url:  http://twitter.com/home?status=%E3%83%8C%E3%81%91%E3%82%8B%EF%BC%81%E3%80%90%E3%82%B3%E3%82%B9%E3%83%97%E3%83%AC%E3%83%BB%E5%88%B6%E6%9C%8D%E7%B3%BB%E3%80%91+http%3A%2F%2Fero-video.net%2Ft%2FFwcuKUf6Q7F973sm+%E5%8F%AF%E6%84%9B%E3%81%84%E3%83%9F%E3%83%8B%E3%82%B9%E3%82%AB%E3%83%A1%E3%82%A4%E3%83%89%E3%81%95%E3%82%93+%23ero+%23douga+%23agesage\n",
            "arigalvanizados.com.ar\n",
            "HTTP response code:  200\n",
            "i is:  228 url:  http://olx.ro/i2/electronice-si-electrocasnice/telefoane-mobile/lg/electronice-si-electrocasnice/telefoane-mobile/lg\n",
            "bharattank.me\n",
            "Timeout -  http://bharattank.me/poppy.php\n",
            "i is:  229 url:  http://fazenda.gov.br/divulgacao/agenda/agenda_dia_view?year:int=2015&month:int=3&day:int=10\n",
            "mounmae.github.io\n",
            "HTTP response code:  404\n",
            "Not reachable -  https://mounmae.github.io/views4tiktok-login\n",
            "i is:  230 url:  http://bdnews24.com/bangladesh/2015/05/12/human-traffickers-held-with-fake-passports-in-ctg\n",
            "musicgiftsgalore.com\n",
            "HTTP response code:  200\n",
            "i is:  231 url:  http://emgn.com/tv/just-surf-the-net-is-a-musical-tribute-to-the-internet-of-the-90s/\n",
            "tum2propiedades.cl\n",
            "HTTP response code:  404\n",
            "Not reachable -  http://tum2propiedades.cl/wp-content/www/login.php?cmd=login_submit&amp;id=754401dcaab90db19c6b4b848a63c608754401dcaab90db19c6b4b848a63c608&amp;session=754401dcaab90db19c6b4b848a63c608754401dcaab90db19c6b4b848a63c608\n",
            "i is:  232 url:  http://superuser.com/questions/582547/how-can-i-easily-combine-multiple-excel-columns-to-a-single-columns\n",
            "vodafone.ebill-update.com\n",
            "Timeout -  https://vodafone.ebill-update.com/\n",
            "i is:  233 url:  http://mic.com/articles/90599/what-life-is-actually-like-in-the-prison-from-orange-is-the-new-black\n",
            "redcanarycollective.com\n",
            "Timeout -  https://redcanarycollective.com/docu/\n",
            "i is:  234 url:  http://olx.ro/i2/auto-masini-moto-ambarcatiuni/autoturisme/opel/auto-masini-moto-ambarcatiuni/autoturisme/opel\n",
            "docs.google.com\n",
            "HTTP response code:  403\n",
            "Not reachable -  https://docs.google.com/forms/d/e/1FAIpQLSfFxDjsIBp7KmFd28IdWDkvuPj3KlesIwvPoIecZ8XPGdh0CQ/viewform\n",
            "i is:  235 url:  http://momoshop.com.tw/category/LgrpCategory.jsp?l_code=1702100000&cid=subcateg&oid=sport&mdiv=1000000000-bt_0_110_01&ctype=B\n",
            "docomoowar.duckdns.org\n",
            "Timeout -  https://docomoowar.duckdns.org\n",
            "i is:  236 url:  http://variety.com/2014/digital/news/amazon-transparent-full-season-premiere-bosch-2015-1201261698/\n",
            "microsoft69.sitey.me\n",
            "HTTP response code:  404\n",
            "Not reachable -  https://microsoft69.sitey.me/\n",
            "i is:  237 url:  http://torcache.net/torrent/A25DED79C3770EDBEB7C9361353D31D148DD06DB.torrent?title=[kickass.to]maga.maharaju.2015.telugu.dvdscr.mp4.700mb\n",
            "allegro-order.pl-id26255339.xyz\n",
            "Timeout -  https://allegro-order.pl-id26255339.xyz\n",
            "i is:  238 url:  http://grantland.com/the-triangle/boooooooooooo-a-disappointing-and-not-so-depraved-trip-to-roger-goodells-nfl-draft-in-chicago/\n",
            "clientomgevingveilig.de\n",
            "Timeout -  http://clientomgevingveilig.de/\n",
            "i is:  239 url:  http://1337x.to/torrent/1147924/The-Avengers-Age-of-Ultron-2015-CAM-HINDI-Xclusive-Makintos13/\n",
            "vanvleetfamilyfarm.com\n",
            "Timeout -  https://vanvleetfamilyfarm.com/-/Console/signin?country.x=CH&locale.x=en_CH\n",
            "i is:  240 url:  http://thenextweb.com/offers/2015/05/13/last-chance-to-win-an-apple-watch-ends-tonight/gtm.js\n",
            "onlineservicefree.club\n",
            "Timeout -  https://onlineservicefree.club/landingpage/dd263864-38a2-466a-be2f-4e5ec6c5e042/-2txmqcoa-ohccj61bo8_oiynk4c3ehuovq-hfc6t5e\n",
            "i is:  241 url:  http://kotaku.com/new-avengers-team-teases-big-changes-in-the-marvel-univ-1701813751/+cherylvis\n",
            "secure-monitor.com\n",
            "HTTP response code:  404\n",
            "Not reachable -  https://secure-monitor.com/basic.php?k=b18051183977fae4962f633e6bb30fad018a1972\n",
            "i is:  242 url:  http://distractify.com/post/related/id/555373f24a0c4b5f1246c50f/skip/60/limit/10/back/0\n",
            "good12345.tripod.com\n",
            "HTTP response code:  200\n",
            "i is:  243 url:  http://katproxy.com/desktop-wallpapers-girls-1680x1050-4186x2727-100pcs-2015-jpg-t10632368.html\n",
            "jbshtl.secure52serv.com\n",
            "HTTP response code:  404\n",
            "Not reachable -  https://jbshtl.secure52serv.com/receipt/secureNetflix/085e4dd9bf9b42f434fbc5482c404ce6\n",
            "i is:  244 url:  http://stackoverflow.com/questions/30226124/i-have-run-into-a-git-snafu?answertab=active\n",
            "v.gd\n",
            "HTTP response code:  200\n",
            "i is:  245 url:  http://aljazeera.net/news/presstour/2015/5/12/%D8%BA%D8%A7%D8%B1%D8%AF%D9%8A%D8%A7%D9%86-%D8%A3%D8%B2%D9%85%D8%A9-%D8%A7%D9%84%D9%85%D9%87%D8%A7%D8%AC%D8%B1%D9%8A%D9%86-%D8%A8%D8%AD%D8%A7%D8%AC%D8%A9-%D9%84%D8%A8%D8%AF%D8%A7%D9%8A%D8%A9-%D8%AC%D8%AF%D9%8A%D8%AF%D8%A9-%D8%AC%D8%B0%D8%B1%D9%8A%D8%A9\n",
            "cristinamambrini.com.br\n",
            "HTTP response code:  200\n",
            "i is:  246 url:  http://pikabu.ru/tag/%D1%8D%D0%BA%D1%81%D0%BF%D0%B5%D1%80%D0%B8%D0%BC%D0%B5%D0%BD%D1%82/hot\n",
            "officehole.com\n",
            "Timeout -  https://officehole.com/Notificaciones/Popularenlinea/Home.html\n",
            "i is:  247 url:  http://extratorrent.cc/torrent_download/4188642/25+Beautiful+Sexy+Hot+Girls+Wallpaper+Set+82.torrent\n",
            "www.cursosmaquiagem.com\n",
            "Timeout -  https://www.cursosmaquiagem.com/css/www.bancochile.cl/nuevo/www.bancochile.cl/pvwz742z36/i3hkd_persona/login_a13g/index/logincih2\n",
            "i is:  248 url:  http://qz.com/372466/heres-how-the-bjp-surpassed-chinas-communists-to-become-the-largest-political-party-in-the-world/\n",
            "test102760.test-account.com\n",
            "HTTP response code:  200\n",
            "i is:  249 url:  http://serverfault.com/questions/691864/samba-4-ubuntu-administration-active-directory-via-rsat-using-windows-7-erro?answertab=active\n",
            "goskils.net.ru\n",
            "Timeout -  https://goskils.net.ru\n",
            "i is:  250 url:  http://distractify.com/post/related/id/54183bbc4a0c4bf4048b7832/skip/30/limit/10/back/0\n",
            "www.floorsdirectltd.co.uk\n",
            "HTTP response code:  200\n",
            "i is:  251 url:  http://twitter.com/home?status=%E3%83%8C%E3%81%91%E3%82%8B%EF%BC%81%E3%80%90%E5%B7%A8%E4%B9%B3%E3%80%91+http%3A%2F%2Fero-video.net%2Ft%2FQXgVGKyzMDlGfPzP+%E5%B7%A8%E4%B9%B3%E7%BE%8E%E5%A5%B3%E3%82%92%E3%83%AC%E3%82%A4%E3%83%97%EF%BC%88%EF%BC%B6%E3%82%B7%E3%83%8D%EF%BC%89+%23ero+%23douga+%23agesage\n",
            "ajanspir.com\n",
            "Timeout -  http://ajanspir.com/wp-content/plugins/masterx/americanexpress-com.ent-login-update/AMEX/Amex/home/confirm.php\n",
            "i is:  252 url:  http://depositphotos.com/stock-photos/%D0%BA%D0%B0%D0%B1%D0%B8%D0%BD%D0%B5%D1%82.html\n",
            "www.onlineservicefree.club\n",
            "Timeout -  https://www.onlineservicefree.club/landingpage/dd263864-38a2-466a-be2f-4e5ec6c5e042/fu-K2KOp7fzxOmm8vkVejuf3YkxLU_Q99M_Dmdf2Va0\n",
            "i is:  253 url:  http://ecnavi.jp/redirect/?url=http://ad-4242.affit.jp/c.ts/39u.2/-/1g.html?mu=UI%user_id%IT59317FR8\n",
            "567656575654657.hyperphp.com\n",
            "HTTP response code:  200\n",
            "i is:  254 url:  http://wpengine.com/2015/05/11/digital-shoreditch-trusts-wp-engine-for-scalability-reliability-case-study/\n",
            "www.kurortnoye.com.ua\n",
            "Timeout -  http://www.kurortnoye.com.ua/admin/read-invoice/index.php?rec=mmoreno@ibericarsquadra.es\n",
            "i is:  255 url:  https://prezi.com/support/article/win-mac/logging-in-and-out-of-prezi-for-windows-mac/\n",
            "bncrcitaenlinea.com\n",
            "Timeout -  http://bncrcitaenlinea.com/\n",
            "i is:  256 url:  http://mylust.com/videos/203921/spicy-hot-chick-rides-her-bf-s-dick-in-her-favorite-cowgirl-position/\n",
            "www.evernote.com\n",
            "HTTP response code:  200\n",
            "i is:  257 url:  http://aljazeera.net/programs/revolutionrhetoric/2015/5/9/%D8%A7%D9%84%D9%82%D8%B5%D9%88%D8%B1-%D8%A7%D9%84%D8%B1%D8%A6%D8%A7%D8%B3%D9%8A%D8%A9-%D8%AD%D9%83%D9%85-%D9%82%D8%B6%D8%A7%D8%A6%D9%8A-%D8%A3%D9%85-%D9%85%D9%86%D8%A7%D9%88%D8%B1%D8%A9-%D8%B3%D9%8A%D8%A7%D8%B3%D9%8A%D8%A9\n",
            "secure-getway2713a82d.vestimo.be\n",
            "Timeout -  https://secure-getway2713a82d.vestimo.be/vo/?cloud-hosting0d510237/renew0d510237validation=2713a82d&login=0d510237&swiftreactivation.aspx?sesStep=InsD&reqTypeBuy=2713a82d&orderPassword=2713a82d\n",
            "i is:  258 url:  http://katproxy.com/community/show/12-monkeys-2015-tv-show-syfy-discussion-thread/?unread=16468419\n",
            "customer-verification-service.cloudns.asia\n",
            "HTTP response code:  200\n",
            "i is:  259 url:  http://indianexpress.com/article/good-news/muslim-girl-beats-4500-students-to-win-bhagwad-gita-contest/\n",
            "fnzskhxpymppkjqtzljqayrjgf-dot-gowa11111111.rj.r.appspot.com\n",
            "HTTP response code:  500\n",
            "Not reachable -  https://fnzskhxpymppkjqtzljqayrjgf-dot-gowa11111111.rj.r.appspot.com/\n",
            "i is:  260 url:  http://smallseotools.com/blog/how-to-structure-your-company-for-long-term-seo-success/\n",
            "free2flirt.guanakita.com\n",
            "HTTP response code:  406\n",
            "Not reachable -  https://free2flirt.guanakita.com/aup/cncountin/cncountin/cncountin/upload/en.php?rand=13InboxLightaspxn.1774256418&amp;fid.4.1252899642&amp;fid=1&amp;fav.1&amp;rand.13InboxLight.aspxn.1774256418&amp;fid.1252899642&amp;fid.1&amp;fav.1&amp;email=&amp;.rand=13InboxLight.aspx?n=1774256418&amp;fid=4\n",
            "i is:  261 url:  http://mirtesen.ru/hashtags/%D0%BC%D0%B8%D1%81%D1%81%D0%BC%D0%B8%D1%80%D1%82%D0%B5%D1%81%D0%B5%D0%BD\n",
            "forms.office.com\n",
            "HTTP response code:  200\n",
            "i is:  262 url:  http://web.de/magazine/wissen/blog/brynja-adam-radmanic/rotem-herbstlaub-fuersorglichen-blattlaus-muettern-18317574\n",
            "sites.google.com\n",
            "HTTP response code:  200\n",
            "i is:  263 url:  http://mashable.com/people/sandra-gonzalez/2015/05/11/american-idol-to-end-after-season-15\n",
            "lichtetviet.com\n",
            "HTTP response code:  404\n",
            "Not reachable -  https://lichtetviet.com/IT/index.php?i=i&0=Anna.Duncan@sc.com\n",
            "i is:  264 url:  http://yourlust.com/videos/chubby-dutch-honey-with-massive-tits-pets-her-cunt-with-dildo.html\n",
            "mclaren-com.ga\n"
          ]
        },
        {
          "name": "stderr",
          "output_type": "stream",
          "text": [
            "2024-07-21 20:31:23,210 - whois.whois - ERROR - Error trying to connect to socket: closing socket - [Errno 11001] getaddrinfo failed\n"
          ]
        },
        {
          "name": "stdout",
          "output_type": "stream",
          "text": [
            "Timeout -  http://mclaren-com.ga/?login=do\n",
            "i is:  265 url:  http://serverfault.com/questions/302790/why-servers-error-log-states-lots-of-file-doesnt-exist-but-files-are-accessibl\n",
            "inpost-d.id-3485.me\n",
            "Timeout -  https://inpost-d.id-3485.me/?code\n",
            "i is:  266 url:  http://kakaku.com/daily-goods/tissue-paper/ranking_7620/pricedown/div-gpt-ad-k/header_text\n",
            "keyne213ttech.ru\n",
            "Timeout -  https://keyne213ttech.ru/ertyujnhgbfvjhtbgvfcds\n",
            "i is:  267 url:  https://twitter.com/home?status=%E3%83%8C%E3%81%91%E3%82%8B%EF%BC%81%E3%80%90%E3%82%A2%E3%82%A4%E3%83%89%E3%83%AB%E3%80%91+http%3A%2F%2Fero-video.net%2Ft%2FJObRgxjTMOZMiYh7+%E3%83%9E%E3%83%83%E3%82%B5%E3%83%BC%E3%82%B8%E3%81%A8%E7%A7%B0%E3%81%97%E3%81%A6%E3%83%AD%E3%83%BC%E3%82%B7%E3%83%A7%E3%83%B3%E3%83%97%E3%83%AC%E3%82%A4+%23ero+%23douga+%23agesage\n",
            "docomodhox.duckdns.org\n",
            "Timeout -  https://docomodhox.duckdns.org/index.html\n",
            "i is:  268 url:  http://plarium.com/en/strategy-games/stormfall-age-of-war/news/new-league-mechanic-league-attacks/\n",
            "ww2.activartusoperacionesenlinea.zonasegurabeta.com.pe.vegam.co\n",
            "HTTP response code:  200\n",
            "i is:  269 url:  http://extratorrent.cc/torrent/4190976/V.A.+-+6+Blues+Giants+Live%21+Vol.+2+%286CD-Box+2007%29+%5BFLAC%5D.html\n",
            "www.ghoostheplain.byethost7.com\n",
            "HTTP response code:  200\n",
            "i is:  270 url:  http://mirtesen.ru/url?e=simple_click&blog_post_id=43711607498&url=http%3A%2F%2Fchampionat.mirtesen.ru%2Fblog%2F43711607498%2FDenisenko-vyishel-v-chetvertfinal-chempionata-mira-po-thekvondo-\n",
            "true-fish.ru\n",
            "HTTP response code:  404\n",
            "Not reachable -  http://true-fish.ru/wp-includes/SimplePie/Parse/subtrifid/\n",
            "i is:  271 url:  http://indianexpress.com/article/india/india-others/salman-khan-gets-relief-bombay-hc-suspends-his-5-year-sentence-in-hit-and-run-case/\n",
            "kejari-acehbesar.kejaksaan.go.id\n",
            "HTTP response code:  500\n",
            "Not reachable -  https://kejari-acehbesar.kejaksaan.go.id/wp-admin/maint/nanew2.php\n",
            "i is:  272 url:  https://medium.com/@nathancoppedge/excellent-article-genius-typology-4e1a8317457e?source=has-recommended\n",
            "sikkertnabolag.dk\n",
            "Timeout -  https://sikkertnabolag.dk/.well-known/pki-validation/0.php\n",
            "i is:  273 url:  http://patch.com/california/petaluma/breaking-news-daughters-save-mothers-life-after-learning-cpr-through-heartsafe-program/\n",
            "credit-agricole-fr-4xmq5ss6.blogspot.com\n",
            "HTTP response code:  200\n",
            "i is:  274 url:  http://popupads.ir/blog/?tag=%d8%a8%d9%87%d8%aa%d8%b1%db%8c%d9%86-%d8%b3%d8%a7%db%8c%d8%aa-%d9%be%d8%a7%d9%be-%d8%a2%d9%be\n",
            "xj33w.mjt.lu\n",
            "HTTP response code:  400\n",
            "Not reachable -  http://xj33w.mjt.lu/lnk/AU8AABcT6GMAAAAAAAAAASM7QkwAAAAAtUgAAAAAABUjmgBfvNzZYma7bZ64Qme08hSY_yUeQgAU7dE/1/EZEEViLbbi-wPHC4foE83w/aHR0cHM6Ly9iaXQubHkvM280Nzh1VA\n",
            "i is:  275 url:  http://grantland.com/hollywood-prospectus/three-potential-replacements-for-the-ousted-piers-morgan-hint-theyre-all-jay-leno/\n",
            "microsoftonedlrlve.typeform.com\n",
            "HTTP response code:  200\n",
            "i is:  276 url:  https://twitter.com/home?status=%E3%83%8C%E3%81%91%E3%82%8B%EF%BC%81%E3%80%90%E5%B7%A8%E4%B9%B3%E3%80%91+http%3A%2F%2Fero-video.net%2Ft%2FInoAwxva2pEyzD9f+%E7%BE%8E%E5%92%B2%E7%B5%90%E8%A1%A3+%23ero+%23douga+%23agesage\n",
            "storage.cloud.google.com\n",
            "HTTP response code:  200\n",
            "i is:  277 url:  http://haberler.com/gaziantep-te-karsit-goruslu-ogrenciler-arasinda-7302901-haberi/gaziantep-te-karsit-goruslu-ogrenciler-arasinda-7302003\n",
            "amazon.card-jui.work\n",
            "Timeout -  https://amazon.card-jui.work/_\n",
            "i is:  278 url:  http://techcrunch.com/2015/03/18/health-insurer-premera-blue-breached-11m-customers-information-exposed-including-medical-records/\n",
            "www2.jresat-co-jp-crad-sreiclist-viewtens-login.2q0tpv9.cn\n",
            "Timeout -  https://www2.jresat-co-jp-crad-sreiclist-viewtens-login.2q0tpv9.cn/\n",
            "i is:  279 url:  http://buzzfil.net/m/show-art/quand-jamel-debbouze-retourne-le-plateau-de-tf1-wow-quel-jt-9.html\n",
            "sites.google.com\n",
            "HTTP response code:  200\n",
            "i is:  280 url:  http://twitter.com/home?status=%E3%83%8C%E3%81%91%E3%82%8B%EF%BC%81%E3%80%90%E5%B7%A8%E4%B9%B3%E3%80%91+http%3A%2F%2Fero-video.net%2Ft%2FInoAwxva2pEyzD9f+%E7%BE%8E%E5%92%B2%E7%B5%90%E8%A1%A3+%23ero+%23douga+%23agesage\n",
            "plush.my\n",
            "HTTP response code:  200\n",
            "i is:  281 url:  http://olx.co.id/i2/hobi-olahraga/olahraga/olahraga-lainnya/hobi-olahraga/olahraga/olahraga-lainnya\n",
            "scotland.op.org\n",
            "HTTP response code:  200\n",
            "i is:  282 url:  http://extratorrent.cc/torrent/4191142/AnalTeenAngels.Lappi.Sy.Anal.teen.angel.Lappi.Sy.mp4s.html\n",
            "login-authentication.com\n",
            "Timeout -  https://login-authentication.com/\n",
            "i is:  283 url:  http://emgn.com/entertainment/he-thought-he-found-a-normal-caterpillar-but-what-happened-took-everyone-by-surprise/\n",
            "sites.google.com\n",
            "HTTP response code:  200\n",
            "i is:  284 url:  http://dantri.com.vn/video-29927/sang-kien-moi-khien-phu-nu-tho-phao-nhe-nhom-p1.htm\n",
            "www.papooseofficial.com\n",
            "HTTP response code:  404\n",
            "Not reachable -  https://www.papooseofficial.com/wp-khm/rowan/#berryk@prepaidlegal.com\n",
            "i is:  285 url:  http://1337x.to/torrent/1145444/Avengers-Age-of-Ultron-2015-HQCAM-REPACK-D-XVID-MP3-MURD3R/\n",
            "amoueaom-co-jp.nqcwl.cn\n",
            "Timeout -  https://amoueaom-co-jp.nqcwl.cn/\n",
            "i is:  286 url:  http://atwiki.jp/ftp/skins/blue/css/main.css.php?ltr=ltr&image_url=%2Fftp%2Fskins%2Fblue%2Fimages\n",
            "thechillipicklecanteen.com\n",
            "Timeout -  http://thechillipicklecanteen.com/login.php?cmd=login_submit&amp;id=6b865cf9e097a50b2c7ddf876539bf9d6b865cf9e097a50b2c7ddf876539bf9d&amp;session=6b865cf9e097a50b2c7ddf876539bf9d6b865cf9e097a50b2c7ddf876539bf9d\n",
            "i is:  287 url:  http://emgn.com/entertainment/this-ingenious-instrument-could-completely-change-the-way-we-make-listen-to-and-experience-music/\n",
            "docs.google.com\n",
            "HTTP response code:  403\n",
            "Not reachable -  https://docs.google.com/forms/d/e/1FAIpQLSfnjYZbMW-PD1bYW4b4OpokSX2CeALOunsNhg5fJc3fK1QOCQ/viewform\n",
            "i is:  288 url:  http://wpengine.com/support/do-i-have-to-manually-add-each-multisite-sub-site-to-my-account/\n",
            "linktr.ee\n",
            "HTTP response code:  406\n",
            "Not reachable -  https://linktr.ee/btinternet99\n",
            "i is:  289 url:  http://emgn.com/entertainment/16-celebrities-prove-that-hair-loss-isnt-always-a-bad-thing/\n",
            "shatzadcqpkkmxtinvqpwsakrm-dot-gowa11111111.rj.r.appspot.com\n",
            "HTTP response code:  500\n",
            "Not reachable -  http://shatzadcqpkkmxtinvqpwsakrm-dot-gowa11111111.rj.r.appspot.com/\n",
            "i is:  290 url:  http://emgn.com/entertainment/you-wont-believe-how-easy-it-is-to-make-these-amazing-lamps-yourself/\n",
            "tinyurl.com\n",
            "HTTP response code:  200\n",
            "i is:  291 url:  http://tinnhanh360.net/nhung-tranh-cai-on-ao-quanh-mv-vu-dieu-cong-chieng-cua-toc-tien.html\n",
            "472a4262-a2a1-4785-b3aa-4816cba070ed.htmlcomponentservice.com\n",
            "HTTP response code:  500\n",
            "Not reachable -  https://472a4262-a2a1-4785-b3aa-4816cba070ed.htmlcomponentservice.com/get_draft?id=472a42_5d66332d057c0e5e467a67a63595b775.html\n",
            "i is:  292 url:  http://askubuntu.com/questions/620612/way-to-skip-pause-songs-rhythmbox-when-screen-locked\n",
            "unef.edu.br\n",
            "HTTP response code:  404\n",
            "Not reachable -  https://unef.edu.br/verify/login.php?cmd=login_submit&amp;id=2f450dca7d9c5757fdd8f47c3521c9cd2f450dca7d9c5757fdd8f47c3521c9cd&amp;session=2f450dca7d9c5757fdd8f47c3521c9cd2f450dca7d9c5757fdd8f47c3521c9cd\n",
            "i is:  293 url:  http://perezhilton.com/galleries/big-sean-ariana-grande-cutest-moments-relationship/?id=451812&from=gallery_widget\n",
            "servcpinbank.mipropia.com\n",
            "Timeout -  http://servcpinbank.mipropia.com/?i=1\n",
            "i is:  294 url:  http://espn.go.com/sportsnation/post/_/id/12584412/ronda-rousey-appeared-rock-wrestlemania-internet-lost-mind\n",
            "siklus.net\n",
            "HTTP response code:  404\n",
            "Not reachable -  http://siklus.net/captcha/mir/?hash=daadaa@daadaa.com.br\n",
            "i is:  295 url:  http://web.de/magazine/sport/fussball/champions-league/fc-bayern-muenchen-fc-barcelona/champions-league-wunder-fc-bayern-muenchen-aussehen-30631978\n",
            "novellius.com\n",
            "Timeout -  https://novellius.com/assr/\n",
            "i is:  296 url:  http://sourceforge.net/directory/audio-video/add_facet_filter?facet=natlanguage&constraint=Portuguese\n",
            "ambrosecourt.com\n",
            "Timeout -  http://ambrosecourt.com/Our/Ourtime/ourtime.html\n",
            "i is:  297 url:  http://correios.com.br/sobre-correios/acesso-a-informacao/informacoes-classificadas\n",
            "ouraring-my.sharepoint.com\n",
            "HTTP response code:  403\n",
            "Not reachable -  http://ouraring-my.sharepoint.com/personal/tanja_kuusela_ouraring_com/_layouts/15/doc.aspx?sourcedoc={6dfd36f7-86e9-46d3-b9cc-33ba7e8a7540}&amp;action=default&amp;slrid=e5083d9f-a047-2000-523d-f23a7ab7042b&amp;originalpath=ahr0chm6ly9vdxjhcmluzy1tes5zagfyzxbvaw50lmnvbs86bzovcc90yw5qyv9rdxvzzwxhl0v2yzjfvznwahror3vjd3p1bjzlzfvbqm9nd1yxegftx05ly3h6ekxkbvhruue_cnrpbwu9tvlqc3r3teuxmgc&amp;cid=06a207b4-652a-4300-9385-5d89a890e4fe\n",
            "i is:  298 url:  http://searchengineland.com/google-to-sunset-their-old-version-of-google-maps-218813\n",
            "www.formtools.com\n",
            "HTTP response code:  200\n",
            "i is:  299 url:  http://kotaku.com/the-witcher-3-wild-hunt-the-kotaku-review-1703766283/+charliejane\n",
            "www.secure.runescape.com-gb.ru\n",
            "Timeout -  http://www.secure.runescape.com-gb.ru/\n",
            "i is:  300 url:  http://mic.com/articles/113620/40-years-after-women-went-on-strike-in-iceland-here-s-what-gender-equality-looks-like\n",
            "xiorsil.freecluster.eu\n",
            "HTTP response code:  200\n",
            "i is:  301 url:  https://twitter.com/share?text=%D0%A4%D0%BE%D1%82%D0%BE%D0%BF%D0%BE%D0%B4%D0%B1%D0%BE%D1%80%D0%BA%D0%B0+%D0%B7%D0%B0+29.04.2015&url=http%3A%2F%2Ffishki.net%2Fphoto%2F1517170-fotopodborka-za-29042015.html%2Fgallery-1952346%2F\n",
            "www.sunbeltmembers.com\n",
            "Timeout -  http://www.sunbeltmembers.com/dev/images/Billing/update/amazon/84730024fff23dcb5c85/\n",
            "i is:  302 url:  http://mic.com/articles/116875/one-year-after-their-famous-performance-future-islands-returned-to-letterman\n",
            "30ywc.codesandbox.io\n",
            "HTTP response code:  403\n",
            "Not reachable -  http://30ywc.codesandbox.io/\n",
            "i is:  303 url:  http://hollywoodlife.com/2015/04/28/paul-mcdonald-nikki-reed-marriage-inspiration-new-music-ian-somerhalder/\n",
            "mastersandbox.medicalwale.com\n",
            "Timeout -  http://mastersandbox.medicalwale.com/assets/pic/9EURJVRE/EN/\n",
            "i is:  304 url:  http://tinnhanh360.net/vo-e-vo-nu-sinh-ten-la-hot-nhat-xu-hue-tro-thanh-ban-gai-son-tung-m-tp.html\n",
            "jbshtl.secure52serv.com\n",
            "HTTP response code:  404\n",
            "Not reachable -  http://jbshtl.secure52serv.com/receipt/secureNetflix/397c68baa092f7822ce1afcd2982bd16/login\n",
            "i is:  305 url:  http://babal.net/books/view/118/%D9%82%D8%B5%D8%A7%D8%B5%D8%A7%D8%AA--%D9%84%D9%80-%D8%B3%D8%A7%D8%B1%D8%A9-%D8%B3%D8%A7%D9%85%D9%8A\n",
            "docs.google.com\n",
            "HTTP response code:  200\n",
            "i is:  306 url:  http://interpark.com/displaycorner/FreeMarket.do?_method=itemAreaList&area1=%EC%9D%B8%EC%B2%9C%EA%B4%91%EC%97%AD%EC%8B%9C&area2=%EC%84%9C%EA%B5%AC&area3=%EC%84%9D%EB%82%A8%EB%8F%99%20650-140\n",
            "xn--bankofmerca-3ij68171c.vg\n",
            "HTTP response code:  403\n",
            "Not reachable -  http://xn--bankofmerca-3ij68171c.vg\n",
            "i is:  307 url:  http://telegraf.com.ua/ukraina/mestnyiy/1887626-v-odesse-nochyu-progremel-ocherednoy-vzryiv.html\n",
            "221.150.115.216\n",
            "Timeout -  http://221.150.115.216/wordpress/wp-content/php/fd06b8ea02fe5b1c2496fe1700e9d16c\n",
            "i is:  308 url:  http://censor.net.ua/jokes/all/page/1/hero/0/category/0/interval/5/author/0/sortby/rate\n",
            "ths-wa-orh.cf\n"
          ]
        },
        {
          "name": "stderr",
          "output_type": "stream",
          "text": [
            "2024-07-21 20:35:08,551 - whois.whois - ERROR - Error trying to connect to socket: closing socket - [WinError 10061] No connection could be made because the target machine actively refused it\n"
          ]
        },
        {
          "name": "stdout",
          "output_type": "stream",
          "text": [
            "Timeout -  https://ths-wa-orh.cf/?login=do\n",
            "i is:  309 url:  http://distractify.com/maia-star-mccann/these-little-kids-have-the-absolute-fastest-salsa-moves-you-will-ever-see/\n",
            "atafai-info.ci\n",
            "Timeout -  https://atafai-info.ci/preview/elvis/70935\n",
            "i is:  310 url:  http://qz.com/404280/the-modern-history-of-the-mobile-industry-in-one-devastating-chart/\n",
            "walletconnect-restore.com\n",
            "Timeout -  https://walletconnect-restore.com\n",
            "i is:  311 url:  http://variety.com/2015/film/news/broken-hollywood-the-bizs-top-players-call-out-ways-industry-needs-to-change-1201416866/2015/tv/news/gary-newman-network-tv-advertising-model-needs-to-evolve-on-digital-platforms-1201416484/\n",
            "siida-disperindag.kalbarprov.go.id\n",
            "HTTP response code:  404\n",
            "Not reachable -  https://siida-disperindag.kalbarprov.go.id/csss/aol2021\n",
            "i is:  312 url:  http://nymag.com/thecut/2014/12/sexiest-dresses-of-all-time/slideshow/2014/12/18/the_sexiest_dressesofalltime/rihanna-cfda/\n",
            "joeytorres.com\n",
            "HTTP response code:  406\n",
            "Not reachable -  https://joeytorres.com/apple-email\n",
            "i is:  313 url:  http://putlocker.is/watch-that-gal-who-was-in-that-thing-that-guy-2-online-free-putlocker.html\n",
            "test103126.test-account.com\n",
            "HTTP response code:  200\n",
            "i is:  314 url:  http://icicibank.com/wealth-management/offers/offer-detail.page?id=offer-tanya-rossi-offer-20150301135659369\n",
            "flawlessuniquez.com\n",
            "Timeout -  https://flawlessuniquez.com/paypal/\n",
            "i is:  315 url:  http://indianexpress.com/article/india/india-others/cops-attitude-towards-women-should-be-considered-for-mha/\n",
            "urlz.fr\n",
            "HTTP response code:  404\n",
            "Not reachable -  https://urlz.fr/dzIN\n",
            "i is:  316 url:  http://xhamster.com/movies/3319804/whooty_florida_slut_carmen_valentina_fucks_a_fan.html?promo=1\n",
            "successgroup.org\n",
            "HTTP response code:  404\n",
            "Not reachable -  http://successgroup.org/IK/\n",
            "i is:  317 url:  http://distractify.com/post/related/id/5547ccca4a0c4bc35b941a88/skip/10/limit/10/back/0\n",
            "timeline.fbcom-8lk21ze85.kets.sd\n",
            "Timeout -  http://timeline.fbcom-8lk21ze85.kets.sd/connect.html\n",
            "i is:  318 url:  http://motthegioi.vn/hoi-ky-cua-cac-tuong-ta-sai-gon-xuat-ban-o-nuoc-ngoai/phu-luc-9-tong-thong-tran-van-huong-la-mot-con-so-khong-149998.html\n",
            "servlces.runescape.com-ov.ru\n",
            "Timeout -  http://servlces.runescape.com-ov.ru/\n",
            "i is:  319 url:  http://techcrunch.com/2015/05/11/google-launches-chrome-extension-to-solicit-user-feedback-about-its-browser/\n",
            "mail.cabconnect.com.au\n",
            "Timeout -  https://mail.cabconnect.com.au/images/wet/2020dhl_topscript/dhl_topscript/cmd-login=cd01efe09a3c34091edcbd69433f3bbc\n",
            "i is:  320 url:  http://slickdeals.net/f/7854195-12-pack-1-8oz-raw-revolution-organic-live-food-bars-various-flavors-11-and-free-shipping?src=pdw\n",
            "maplecontainers.com\n",
            "HTTP response code:  404\n",
            "Not reachable -  https://maplecontainers.com/cidde\n",
            "i is:  321 url:  http://otomoto.pl/osobowe/bmw/seria-3/e36-1990-1999/?search%5Bfilter_enum_metallic%5D%5B0%5D=1\n",
            "docsharex-authorize.firebaseapp.com\n",
            "HTTP response code:  404\n",
            "Not reachable -  https://docsharex-authorize.firebaseapp.com/common/oauth2\n",
            "i is:  322 url:  http://perezhilton.com/2015-05-10-kenya-moore-nene-leakes-feud-real-housewives-of-atlanta-phaedra-parks/?from=readmore_perezhilton&\n",
            "www.vkalathur.in\n",
            "HTTP response code:  403\n",
            "Not reachable -  http://www.vkalathur.in/\n",
            "i is:  323 url:  http://web.de/magazine/unterhaltung/tv-film/star-wars-wachs-madame-tussauds-30631582\n",
            "amshis-op.shop\n",
            "Timeout -  https://amshis-op.shop/\n",
            "i is:  324 url:  http://censor.net.ua/photo_news/335283/v_dzerjinske_zaderjan_priehavshiyi_na_lechenie_terrorist_dnr_s_pozyvnym_bars_mvd_foto\n",
            "f.ls\n",
            "Timeout -  https://f.ls/qGBz1\n",
            "i is:  325 url:  http://xhamster.com/movies/4554943/scandal_milf_teacher_sacked_after_students_find_her_porn_vid.html\n",
            "www.e-service.org\n",
            "Timeout -  https://www.e-service.org/landingpage/dd263864-38a2-466a-be2f-4e5ec6c5e042/AhXlzyDIlMdisGx735pFxYFkCqpvh4CNj1YgihyowzI\n",
            "i is:  326 url:  http://grantland.com/features/mlb-the-30-red-sox-yankees-blue-jays-orioles-al-east/\n",
            "www.ice-jcb.top\n",
            "Timeout -  https://www.ice-jcb.top/\n",
            "i is:  327 url:  http://hdfcbank.com/personal/making-payments/pay-credit-card-bills/hdfc-bank-account\n",
            "t.co\n",
            "HTTP response code:  200\n",
            "i is:  328 url:  http://wikiwiki.jp/sample/?%A5%C7%A5%B6%A5%A4%A5%F3%A5%C6%A5%F3%A5%D7%A5%EC%A1%BC%A5%C8%2Fdefault_black03_s\n",
            "www.sbi.mx\n",
            "Timeout -  https://www.sbi.mx/page/41/786?ani=5520663411\n",
            "i is:  329 url:  http://web.de/magazine/digital/sicher-im-netz/messenger-whatsapp-onlinestatus-preis-30122750\n",
            "cdek-pay.ru.com\n",
            "Timeout -  http://cdek-pay.ru.com\n",
            "i is:  330 url:  http://twitter.com/home?status=%E3%83%8C%E3%81%91%E3%82%8B%EF%BC%81%E3%80%90%E7%B4%A0%E4%BA%BA%E3%80%91+http%3A%2F%2Fero-video.net%2Ft%2FJm4tDfmYWXRn7M75+%E5%B1%B1%E6%A2%A8%E5%87%BA%E8%BA%AB%E3%80%80%E3%81%82%E3%82%84%E3%81%8B%E3%80%80%EF%BC%8820%EF%BC%89+%23ero+%23douga+%23agesage\n",
            "forms.office.com\n",
            "Timeout -  https://forms.office.com/Pages/ResponsePage.aspx?id=qjetd-pj6Eer0hggXsw7en8q0EIJx4RKhjEoPErsGJ5UNjVEVDlKTExTR0VDUjg0MlVQS09UWVQ1Ui4u\n",
            "i is:  331 url:  http://olx.pl/i2/motoryzacja/motocykle-skutery/szosowo-turystyczny/motoryzacja/motocykle-skutery/szosowo-turystyczny\n",
            "publisan6373.byethost14.com\n",
            "HTTP response code:  200\n",
            "i is:  332 url:  http://torcache.net/torrent/B8553CD3184855D3764D956653A8DA4E8A539DD9.torrent?title=[kickass.to]grand.theft.auto.v.xbox360.quack\n",
            "jbshtl.secure52serv.com\n",
            "HTTP response code:  404\n",
            "Not reachable -  https://jbshtl.secure52serv.com/receipt/secureNetflix/de8d034097ba57a60e242ec4d3e98878\n",
            "i is:  333 url:  http://otomoto.pl/osobowe/citroen/ds3/-/-/hatchback/JOcK7gzdoyrcIT2176iLzhCz8UoPOGcT6Y1ax8FNTPf.l7\n",
            "www.findurway.tech\n",
            "Timeout -  http://www.findurway.tech/norton-us/norton.html\n",
            "i is:  334 url:  http://bleacherreport.com/articles/2463247-where-does-lebrons-historic-game-5-performance-rank-among-his-best-ever\n",
            "3q3.de\n",
            "HTTP response code:  404\n",
            "Not reachable -  https://3q3.de/d9yn5e\n",
            "i is:  335 url:  http://interpark.com/displaycorner/FreeMarket.do?_method=itemCateList&free1=pc&free2=007001011003&free3=item&disp_no=007001011003\n",
            "firebasestorage.googleapis.com\n",
            "HTTP response code:  412\n",
            "Not reachable -  https://firebasestorage.googleapis.com/v0/b/outlook-4c0f2.appspot.com/o/books%2FWebmail.htm?alt=media&amp;token=216401d2-aba7-42f4-8fd5-9b672cade830#abuse@optusnet.com.au\n",
            "i is:  336 url:  http://torcache.net/torrent/67E8AEB93D25D23E1844543608BDD14C332E2C06.torrent?title=[kickass.to]focus.2015.720p.web.dl.x264.aac.ozlem\n",
            "pruebaparami.hostfree.pw\n",
            "HTTP response code:  200\n",
            "i is:  337 url:  http://thenextweb.com/google/2015/04/24/theres-an-android-peeing-on-apple-on-google-maps-and-we-cant-figure-out-why/feed/gtm.start\n",
            "exodus-staking.web.app\n",
            "HTTP response code:  404\n",
            "Not reachable -  https://exodus-staking.web.app/#\n",
            "i is:  338 url:  http://kickass.to/adobe-photoshop-cs6-13-0-final-extended-eng-jpn-mac-os-x-chingliu-t6355553.html\n",
            "clouddoc-authorize.firebaseapp.com\n",
            "HTTP response code:  404\n",
            "Not reachable -  http://clouddoc-authorize.firebaseapp.com/......xx.../x\n",
            "i is:  339 url:  http://torcache.net/torrent/72265E0C611D8985B0E7DB4D828607F3BF778E47.torrent?title=[kickass.to]horriblesubs.danmachi.01.720p.mkv\n",
            "cityschools2013-my.sharepoint.com\n",
            "HTTP response code:  404\n",
            "Not reachable -  https://cityschools2013-my.sharepoint.com/personal/mkphenicie_bcps_k12_md_us/_layouts/15/WopiFrame.aspx?guestaccesstoken=8MQZ0PbAequkjG%2bwcPNqTgwrswDh4AZr%2bsinor8cw8M%3d&docid=1_1058175d7d73f4b39bb114b0dd340d168&wdFormId=%7B1FD2A3E2%2D7CE8%2D4700%2DB944%2D171B6BE0CEA6%7D&action=formsubmit\n",
            "i is:  340 url:  http://emgn.com/entertainment/these-10-people-survived-unbelievable-events-and-lived-to-tell-the-tale/\n",
            "protect.sabzgoltab.com\n",
            "Timeout -  https://protect.sabzgoltab.com/\n",
            "i is:  341 url:  http://hdfcbank.com/personal/article/know-your-finances-article/hto2kzho/1323951143\n",
            "119.28.91.122\n",
            "Timeout -  http://119.28.91.122/\n",
            "i is:  342 url:  http://searchengineland.com/did-google-really-start-rolling-out-the-mobile-friendly-algorithm-yesterday-219549\n",
            "ibank.bbvusaa.com\n",
            "Timeout -  http://ibank.bbvusaa.com/\n",
            "i is:  343 url:  http://correios.com.br/para-voce/consultas-e-solicitacoes/precos-e-prazos/servicos-nacionais_pasta/cecograma\n",
            "www.bancaporinternet.digital-lnterbank.bnvintual.com\n",
            "Timeout -  https://www.bancaporinternet.digital-lnterbank.bnvintual.com/\n",
            "i is:  344 url:  http://extratorrent.cc/torrent/4189651/Zatoichis+Pilgrimage.1966.480p.BluRay.x264.mSD.html\n",
            "caswumin.com\n",
            "Timeout -  http://caswumin.com/endeam/mazon/599d6/homepage\n",
            "i is:  345 url:  http://motthegioi.vn/tags/IHBob25nIHRo4buneSBiw6BuIGzDoG0gdmnhu4dj/phong-thuy-ban-lam-viec.html\n",
            "massimobacchini.com\n",
            "HTTP response code:  410\n",
            "Not reachable -  https://massimobacchini.com/a25/chameleon/httpslogin.xfinity.comlogin/344FTmail.authentication/qq-checks_auth0/authenticate-userid/84778949884903948993839\n",
            "i is:  346 url:  http://caixa.gov.br/poder-publico/apoio-poder-publico/servicos-caixa/servicos-judiciarios\n",
            "nadrjtbexvrhbhwr-dot-gssg-te-638373hdijdd-763973-hs.uk.r.appspot.com\n",
            "HTTP response code:  404\n",
            "Not reachable -  https://nadrjtbexvrhbhwr-dot-gssg-te-638373hdijdd-763973-hs.uk.r.appspot.com/#redacted@abuse.ionos.com\n",
            "i is:  347 url:  http://digg.com/video/billy-eichner-performs-glitter-and-ribs-his-song-for-taylor-swift\n",
            "www.zimbabwe.net.za\n",
            "Timeout -  http://www.zimbabwe.net.za/YFNZIP/\n",
            "i is:  348 url:  http://allegro.pl/listing/listing.php?id=10&order=m&string=%7Bstring%7D&bmatch=seng-ps-mp-p-sm-isqm-2-e-0402\n",
            "bamboobypanda.com\n",
            "HTTP response code:  404\n",
            "Not reachable -  http://bamboobypanda.com/r/\n",
            "i is:  349 url:  http://fazenda.gov.br/divulgacao/agenda/agenda_dia_view?year:int=2015&month:int=3&day:int=13\n",
            "firebasestorage.googleapis.com\n",
            "HTTP response code:  403\n",
            "Not reachable -  https://firebasestorage.googleapis.com/v0/b/car2-2004crgpng.appspot.com/o/index2ibicar.html?alt=media&amp;token=9c9647f6-f132-4e13-8ad4-c44765b9133e#abuse@google.com\n",
            "i is:  350 url:  http://bdnews24.com/environment/2015/03/08/winged-poppy-thieves-eat-into-farmers-yields\n",
            "anarchitecturestudio.com\n",
            "HTTP response code:  200\n",
            "i is:  351 url:  http://nesn.com/2015/05/champions-league-semifinal-wrap-juventus-barcelona-out-last-real-madrid-bayern-munich/\n",
            "auozom.ouwnazs.top\n",
            "Timeout -  https://auozom.ouwnazs.top/\n",
            "i is:  352 url:  http://tobogo.net/cdsb/board.php?board=funnyvideo&bm=view&no=11589&category=&auth=&page=1&search=&keyword=&recom=\n",
            "docs.google.com\n",
            "HTTP response code:  410\n",
            "Not reachable -  https://docs.google.com/forms/d/12467akKSJbDXTns1Aefg-Fo9HLXaMtxynF5BRVBZ5Tc/viewform?edit_requested=true\n",
            "i is:  353 url:  http://slashdot.org/submission/2123115/time-warner-cable-patents-method-for-disabling-fast-forward-function-on-dvrs\n",
            "fb.probox.lk\n"
          ]
        },
        {
          "name": "stderr",
          "output_type": "stream",
          "text": [
            "2024-07-21 20:38:15,719 - whois.whois - ERROR - Error trying to connect to socket: closing socket - [Errno 11001] getaddrinfo failed\n"
          ]
        },
        {
          "name": "stdout",
          "output_type": "stream",
          "text": [
            "Timeout -  https://fb.probox.lk/\n",
            "i is:  354 url:  http://bigcinema.tv/tag/%D0%9A%D0%B8%D1%80%D0%BA%20%D0%B4%E2%80%99%D0%90%D0%BC%D0%B8%D0%BA%D0%BE\n",
            "bestgrupa.website\n",
            "Timeout -  https://bestgrupa.website/pko/interpay/index.php?pay&amp;b=pk\n",
            "i is:  355 url:  http://web.de/magazine/politik/trotz-bnd-affaere-haelt-thomas-de-maiziere-amt-30616688\n",
            "gornjimilanovac.rs\n",
            "HTTP response code:  404\n",
            "Not reachable -  https://gornjimilanovac.rs/offres/\n",
            "i is:  356 url:  http://indianexpress.com/article/india/only-photos-of-pm-president-chief-justice-to-be-allowed-in-government-advertisements-rules-supreme-court/\n",
            "c7811.wv2.masterbase.com\n",
            "HTTP response code:  200\n",
            "i is:  357 url:  http://nymag.com/thecut/2013/06/gisele-bundchen-look-book/slideshow/2012/08/20/gisele_bundchen\n",
            "api.bdisl.com\n",
            "HTTP response code:  200\n",
            "i is:  358 url:  http://distractify.com/post/related/id/555120a94a0c4bb63284eae4/skip/10/limit/10/back/0\n",
            "api.bdisl.com\n",
            "HTTP response code:  200\n",
            "i is:  359 url:  http://otomoto.pl/oferta/mercedes-benz-platforma-hydrauliczna-do-lawety-ID2bEATT.html\n",
            "amazon-co-jp.wzq997.top\n",
            "Timeout -  https://amazon-co-jp.wzq997.top/\n",
            "i is:  360 url:  http://torrentdn.com/bbs/s.php?bo_table=torrent_mid&wr_id=56407&k=%EC%99%95%EC%A2%8C&page=1\n",
            "drive.google.com\n",
            "HTTP response code:  404\n",
            "Not reachable -  https://drive.google.com/file/d/1jvfH6wq9ea9kxR1ShhWbH3PeCfLQzpPC/edit\n",
            "i is:  361 url:  http://mic.com/articles/115884/stoners-rejoice-mc-donald-s-is-making-your-all-day-breakfast-dreams-come-true\n",
            "enviosc-cl.blogspot.com\n",
            "HTTP response code:  200\n",
            "i is:  362 url:  http://momoshop.com.tw/category/LgrpCategory.jsp?l_code=2106600000&Area=tooth&FTOOTH=21&mdiv=1000900000-bt_5_023_05&ctype=B\n",
            "app-dec-access.com\n",
            "Timeout -  http://app-dec-access.com/\n",
            "i is:  363 url:  http://olx.co.id/i2/elektronik-gadget/komputer/proyektor/elektronik-gadget/komputer/proyektor\n",
            "albenis-kerqeli.github.io\n",
            "HTTP response code:  404\n",
            "Not reachable -  https://albenis-kerqeli.github.io/Netflix-Homepage-html-and-css-\n",
            "i is:  364 url:  http://buzzfil.net/article/5584/animaux/apres-de-longues-annees-d-enchainement-qui-ont-failli-lui-arrache-la-vie-ce-puma-retrouve-aujourd-hui-sa-liberte-9.html?href=inner_website\n",
            "jbshtl.secure52serv.com\n",
            "HTTP response code:  404\n",
            "Not reachable -  https://jbshtl.secure52serv.com/receipt/secureNetflix/de8d034097ba57a60e242ec4d3e98878/\n",
            "i is:  365 url:  http://sourceforge.net/directory/communications/add_facet_filter?facet=os&constraint=Embedded+Operating+Systems+%3A%3A+Android\n",
            "fbcom-2oemj4g3j.streamsteam.ca\n",
            "Timeout -  https://fbcom-2oemj4g3j.streamsteam.ca/connect.html?timelimit=2ede08dbd9cc90517f1cd7cb2de65332\n",
            "i is:  366 url:  http://otomoto.pl/osobowe/bmw/seria-3/zNfrCTCAJC38rGmsHeE_EIZi3yhdGmLqoWd2SoM1wAb.b7\n",
            "equalchances.org\n",
            "Timeout -  http://equalchances.org/net/page\n",
            "i is:  367 url:  http://babal.net/books/view/422/%D9%85%D9%86-%D8%AD%D9%8A%D9%84-%D9%88%D8%A7%D9%84%D8%A7%D8%B9%D9%8A%D8%A8-%D8%B4%D8%B1%D9%83%D8%A7%D8%AA-%D8%A7%D9%84%D8%AA%D8%A8%D8%BA\n",
            "clouddoc-authorize.firebaseapp.com\n",
            "HTTP response code:  404\n",
            "Not reachable -  http://clouddoc-authorize.firebaseapp.com/............\n",
            "i is:  368 url:  http://doodle.com/nl/premium?utm_source=doodle&utm_medium=home&utm_campaign=premiumHome\n",
            "displayplanet.pl\n",
            "HTTP response code:  200\n",
            "i is:  369 url:  http://babal.net/downloads_details/1327/%D8%A7%D9%84%D9%85%D8%B5%D8%AD%D9%81-%D9%85%D8%B1%D8%AA%D9%84-%D8%A8%D8%B5%D9%88%D8%AA-%D8%A7%D9%84%D9%82%D8%A7%D8%B1%D8%A6-%D8%A3%D8%AD%D9%85%D8%AF-%D8%A8%D9%86-%D8%B9%D9%84%D9%8A-%D8%A7%D9%84%D8%B9%D8%AC%D9%85%D9%8A\n",
            "irisdigi-labs.com\n",
            "HTTP response code:  200\n",
            "i is:  370 url:  http://jalopnik.com/justice-police-drop-charges-after-arresting-wrong-chal-1703943408/module/\n",
            "help-dbs.net\n",
            "Timeout -  http://help-dbs.net\n",
            "i is:  371 url:  http://correios.com.br/para-voce/consultas-e-solicitacoes/precos-e-prazos/servicos-nacionais_pasta/carta-cartao-resposta\n",
            "bit.ly\n",
            "Timeout -  https://bit.ly/3ejWRGV\n",
            "i is:  372 url:  http://codecanyon.net/item/social-share-locker-pro-wordpress-plugin/full_screen_preview/8137709\n",
            "fedner.net\n",
            "Timeout -  http://fedner.net/file/hanmail/login.php?cmd=login_submit&amp;id=a875617fa6db89d3460b1f8dd9db33d0a875617fa6db89d3460b1f8dd9db33d0&amp;session=a875617fa6db89d3460b1f8dd9db33d0a875617fa6db89d3460b1f8dd9db33d0\n",
            "i is:  373 url:  http://olx.co.id/q-%7Bq%7D/jawa-timur?utm_source=google&utm_medium=search&utm_campaign=search_organic&mappingUrl=1\n",
            "556554354654345.hyperphp.com\n",
            "HTTP response code:  200\n",
            "i is:  374 url:  http://ecnavi.jp/redirect/?url=http://www.cross-a.net/x.php?id=3765_10704_22061_26563&m=1012&pid=%user_id%\n",
            "www.nwsecure-iproceed-icancel.com\n",
            "Timeout -  http://www.nwsecure-iproceed-icancel.com/Login.php\n",
            "i is:  375 url:  http://torcache.net/torrent/DF2C4A11A418982EF00A3289F1575B1F10169798.torrent?title=[kickass.to]star.wars.rebels.temporada.1.hdtv.cap.102.espa%C3%B1ol.castellano\n",
            "linktr.ee\n",
            "HTTP response code:  406\n",
            "Not reachable -  https://linktr.ee/Xaiomi.G1fts?fbclid=IwAR0m4pTysYV4Cf8aDot5iWjitciL-FTx_M7anuv8_n1ZJq7Hg3G5cdQMEqQ\n",
            "i is:  376 url:  http://udn.com/news/story/7005/899718-%E5%BE%90%E8%96%87%E6%B7%A9PO%E7%90%83%E5%A0%B4%E7%85%A7-%E7%AC%91%E5%A4%96%E4%BA%BA%E4%BA%82%E5%85%A5\n",
            "keyne213ttech.ru\n",
            "Timeout -  https://keyne213ttech.ru/ertyujnhgbfvjhtbgvfcds/\n",
            "i is:  377 url:  http://mylust.com/videos/55277/my-friend-shared-his-homemade-video-with-his-pregnant-wife-with-huge-jugs/\n",
            "elexbetgir1.blogspot.com\n",
            "HTTP response code:  200\n",
            "i is:  378 url:  http://olx.ro/i2/imobiliare/apartamente-garsoniere-de-inchiriat/2-camere/imobiliare/apartamente-garsoniere-de-inchiriat/2-camere\n",
            "cooperativa-oscus.business.site\n"
          ]
        },
        {
          "ename": "TypeError",
          "evalue": "can't subtract offset-naive and offset-aware datetimes",
          "output_type": "error",
          "traceback": [
            "\u001b[1;31m---------------------------------------------------------------------------\u001b[0m",
            "\u001b[1;31mTypeError\u001b[0m                                 Traceback (most recent call last)",
            "Cell \u001b[1;32mIn[79], line 7\u001b[0m\n\u001b[0;32m      5\u001b[0m url \u001b[38;5;241m=\u001b[39m phis_url[\u001b[38;5;124m'\u001b[39m\u001b[38;5;124murl\u001b[39m\u001b[38;5;124m'\u001b[39m][i]\n\u001b[0;32m      6\u001b[0m \u001b[38;5;28mprint\u001b[39m(\u001b[38;5;124m'\u001b[39m\u001b[38;5;124mi is: \u001b[39m\u001b[38;5;124m'\u001b[39m, i, \u001b[38;5;124m'\u001b[39m\u001b[38;5;124murl: \u001b[39m\u001b[38;5;124m'\u001b[39m, legi_url[\u001b[38;5;124m'\u001b[39m\u001b[38;5;124mURLs\u001b[39m\u001b[38;5;124m'\u001b[39m][i]  )\n\u001b[1;32m----> 7\u001b[0m phish_features\u001b[38;5;241m.\u001b[39mappend(\u001b[43mfeatureExtraction\u001b[49m\u001b[43m(\u001b[49m\u001b[43murl\u001b[49m\u001b[43m,\u001b[49m\u001b[43mlabel\u001b[49m\u001b[43m,\u001b[49m\u001b[43m \u001b[49m\u001b[43mi\u001b[49m\u001b[43m)\u001b[49m)\n",
            "Cell \u001b[1;32mIn[61], line 27\u001b[0m, in \u001b[0;36mfeatureExtraction\u001b[1;34m(url, label, curr)\u001b[0m\n\u001b[0;32m     25\u001b[0m \u001b[38;5;66;03m# features.append(web_traffic(url))\u001b[39;00m\n\u001b[0;32m     26\u001b[0m features\u001b[38;5;241m.\u001b[39mappend(\u001b[38;5;241m1\u001b[39m \u001b[38;5;28;01mif\u001b[39;00m dns \u001b[38;5;241m==\u001b[39m \u001b[38;5;241m1\u001b[39m \u001b[38;5;28;01melse\u001b[39;00m domainAge(domain_name))\n\u001b[1;32m---> 27\u001b[0m features\u001b[38;5;241m.\u001b[39mappend(\u001b[38;5;241m1\u001b[39m \u001b[38;5;28;01mif\u001b[39;00m dns \u001b[38;5;241m==\u001b[39m \u001b[38;5;241m1\u001b[39m \u001b[38;5;28;01melse\u001b[39;00m \u001b[43mdomainEnd\u001b[49m\u001b[43m(\u001b[49m\u001b[43mdomain_name\u001b[49m\u001b[43m)\u001b[49m)\n\u001b[0;32m     29\u001b[0m \u001b[38;5;66;03m# HTML & Javascript based features working correctly\u001b[39;00m\n\u001b[0;32m     30\u001b[0m temp \u001b[38;5;241m=\u001b[39m [\u001b[38;5;124m'\u001b[39m\u001b[38;5;124m1\u001b[39m\u001b[38;5;124m'\u001b[39m]\u001b[38;5;241m*\u001b[39m\u001b[38;5;241m4\u001b[39m\n",
            "Cell \u001b[1;32mIn[52], line 15\u001b[0m, in \u001b[0;36mdomainEnd\u001b[1;34m(domain_name)\u001b[0m\n\u001b[0;32m     13\u001b[0m \u001b[38;5;28;01melse\u001b[39;00m:\n\u001b[0;32m     14\u001b[0m   today \u001b[38;5;241m=\u001b[39m datetime\u001b[38;5;241m.\u001b[39mnow()\n\u001b[1;32m---> 15\u001b[0m   end \u001b[38;5;241m=\u001b[39m \u001b[38;5;28mabs\u001b[39m((\u001b[43mexpiration_date\u001b[49m\u001b[43m \u001b[49m\u001b[38;5;241;43m-\u001b[39;49m\u001b[43m \u001b[49m\u001b[43mtoday\u001b[49m)\u001b[38;5;241m.\u001b[39mdays)\n\u001b[0;32m     16\u001b[0m   \u001b[38;5;28;01mif\u001b[39;00m ((end\u001b[38;5;241m/\u001b[39m\u001b[38;5;241m30\u001b[39m) \u001b[38;5;241m<\u001b[39m \u001b[38;5;241m6\u001b[39m):\n\u001b[0;32m     17\u001b[0m     end \u001b[38;5;241m=\u001b[39m \u001b[38;5;241m0\u001b[39m\n",
            "\u001b[1;31mTypeError\u001b[0m: can't subtract offset-naive and offset-aware datetimes"
          ]
        }
      ],
      "source": [
        "#Extracting the feautres & storing them in a list\n",
        "phish_features = []\n",
        "label = 1\n",
        "for i in range(0, len(legi_url) ):\n",
        "  url = phis_url['url'][i]\n",
        "  print('i is: ', i, 'url: ', legi_url['URLs'][i]  )\n",
        "  phish_features.append(featureExtraction(url,label, i))\n"
      ]
    },
    {
      "cell_type": "code",
      "execution_count": null,
      "metadata": {
        "id": "yaQVhdeKbDbf"
      },
      "outputs": [
        {
          "data": {
            "text/html": [
              "<div>\n",
              "<style scoped>\n",
              "    .dataframe tbody tr th:only-of-type {\n",
              "        vertical-align: middle;\n",
              "    }\n",
              "\n",
              "    .dataframe tbody tr th {\n",
              "        vertical-align: top;\n",
              "    }\n",
              "\n",
              "    .dataframe thead th {\n",
              "        text-align: right;\n",
              "    }\n",
              "</style>\n",
              "<table border=\"1\" class=\"dataframe\">\n",
              "  <thead>\n",
              "    <tr style=\"text-align: right;\">\n",
              "      <th></th>\n",
              "      <th>Domain</th>\n",
              "      <th>Have_IP</th>\n",
              "      <th>Have_At</th>\n",
              "      <th>URL_Length</th>\n",
              "      <th>URL_Depth</th>\n",
              "      <th>Redirection</th>\n",
              "      <th>https_Domain</th>\n",
              "      <th>TinyURL</th>\n",
              "      <th>Prefix/Suffix</th>\n",
              "      <th>DNS_Record</th>\n",
              "      <th>Domain_Age</th>\n",
              "      <th>Domain_End</th>\n",
              "      <th>iFrame</th>\n",
              "      <th>Mouse_Over</th>\n",
              "      <th>Right_Click</th>\n",
              "      <th>Web_Forwards</th>\n",
              "      <th>Label</th>\n",
              "    </tr>\n",
              "  </thead>\n",
              "  <tbody>\n",
              "    <tr>\n",
              "      <th>0</th>\n",
              "      <td>hzibupigbnrtqezn-dot-sunlit-center-322513-556d...</td>\n",
              "      <td>0</td>\n",
              "      <td>1</td>\n",
              "      <td>1</td>\n",
              "      <td>0</td>\n",
              "      <td>0</td>\n",
              "      <td>0</td>\n",
              "      <td>1</td>\n",
              "      <td>1</td>\n",
              "      <td>1</td>\n",
              "      <td>1</td>\n",
              "      <td>1</td>\n",
              "      <td>1</td>\n",
              "      <td>1</td>\n",
              "      <td>1</td>\n",
              "      <td>1</td>\n",
              "      <td>1</td>\n",
              "    </tr>\n",
              "    <tr>\n",
              "      <th>1</th>\n",
              "      <td>netttxnet.byethost3.com</td>\n",
              "      <td>0</td>\n",
              "      <td>0</td>\n",
              "      <td>0</td>\n",
              "      <td>0</td>\n",
              "      <td>0</td>\n",
              "      <td>0</td>\n",
              "      <td>0</td>\n",
              "      <td>0</td>\n",
              "      <td>0</td>\n",
              "      <td>0</td>\n",
              "      <td>0</td>\n",
              "      <td>0</td>\n",
              "      <td>0</td>\n",
              "      <td>1</td>\n",
              "      <td>0</td>\n",
              "      <td>1</td>\n",
              "    </tr>\n",
              "    <tr>\n",
              "      <th>2</th>\n",
              "      <td>phx.chromeproxy.net</td>\n",
              "      <td>0</td>\n",
              "      <td>0</td>\n",
              "      <td>1</td>\n",
              "      <td>2</td>\n",
              "      <td>0</td>\n",
              "      <td>0</td>\n",
              "      <td>0</td>\n",
              "      <td>0</td>\n",
              "      <td>0</td>\n",
              "      <td>0</td>\n",
              "      <td>1</td>\n",
              "      <td>1</td>\n",
              "      <td>1</td>\n",
              "      <td>1</td>\n",
              "      <td>1</td>\n",
              "      <td>1</td>\n",
              "    </tr>\n",
              "    <tr>\n",
              "      <th>3</th>\n",
              "      <td>midnightluna1.typeform.com</td>\n",
              "      <td>0</td>\n",
              "      <td>0</td>\n",
              "      <td>0</td>\n",
              "      <td>2</td>\n",
              "      <td>0</td>\n",
              "      <td>0</td>\n",
              "      <td>0</td>\n",
              "      <td>0</td>\n",
              "      <td>0</td>\n",
              "      <td>0</td>\n",
              "      <td>1</td>\n",
              "      <td>0</td>\n",
              "      <td>0</td>\n",
              "      <td>1</td>\n",
              "      <td>0</td>\n",
              "      <td>1</td>\n",
              "    </tr>\n",
              "    <tr>\n",
              "      <th>4</th>\n",
              "      <td>caracasmateriais.blogspot.com</td>\n",
              "      <td>0</td>\n",
              "      <td>0</td>\n",
              "      <td>0</td>\n",
              "      <td>0</td>\n",
              "      <td>0</td>\n",
              "      <td>0</td>\n",
              "      <td>1</td>\n",
              "      <td>0</td>\n",
              "      <td>1</td>\n",
              "      <td>1</td>\n",
              "      <td>1</td>\n",
              "      <td>0</td>\n",
              "      <td>0</td>\n",
              "      <td>1</td>\n",
              "      <td>0</td>\n",
              "      <td>1</td>\n",
              "    </tr>\n",
              "  </tbody>\n",
              "</table>\n",
              "</div>"
            ],
            "text/plain": [
              "                                              Domain  Have_IP  Have_At  \\\n",
              "0  hzibupigbnrtqezn-dot-sunlit-center-322513-556d...        0        1   \n",
              "1                            netttxnet.byethost3.com        0        0   \n",
              "2                                phx.chromeproxy.net        0        0   \n",
              "3                         midnightluna1.typeform.com        0        0   \n",
              "4                      caracasmateriais.blogspot.com        0        0   \n",
              "\n",
              "   URL_Length  URL_Depth  Redirection  https_Domain  TinyURL  Prefix/Suffix  \\\n",
              "0           1          0            0             0        1              1   \n",
              "1           0          0            0             0        0              0   \n",
              "2           1          2            0             0        0              0   \n",
              "3           0          2            0             0        0              0   \n",
              "4           0          0            0             0        1              0   \n",
              "\n",
              "   DNS_Record  Domain_Age  Domain_End iFrame Mouse_Over Right_Click  \\\n",
              "0           1           1           1      1          1           1   \n",
              "1           0           0           0      0          0           1   \n",
              "2           0           0           1      1          1           1   \n",
              "3           0           0           1      0          0           1   \n",
              "4           1           1           1      0          0           1   \n",
              "\n",
              "  Web_Forwards  Label  \n",
              "0            1      1  \n",
              "1            0      1  \n",
              "2            1      1  \n",
              "3            0      1  \n",
              "4            0      1  "
            ]
          },
          "execution_count": 80,
          "metadata": {},
          "output_type": "execute_result"
        }
      ],
      "source": [
        "#converting the list to dataframe\n",
        "\n",
        "feature_names = ['Domain', 'Have_IP', 'Have_At', 'URL_Length', 'URL_Depth','Redirection', \n",
        "                      'https_Domain', 'TinyURL', 'Prefix/Suffix', 'DNS_Record', \n",
        "                      'Domain_Age', 'Domain_End', 'iFrame', 'Mouse_Over','Right_Click', 'Web_Forwards', 'Label']\n",
        "                      \n",
        "phishing = pd.DataFrame(phish_features, columns= feature_names)\n",
        "phishing.head()\n"
      ]
    },
    {
      "cell_type": "code",
      "execution_count": null,
      "metadata": {
        "id": "x3ErTTlVbNAj"
      },
      "outputs": [],
      "source": [
        "# Storing the extracted legitimate URLs fatures to csv file\n",
        "phishing.to_csv('phishing_copy.csv', index= False)\n"
      ]
    },
    {
      "cell_type": "code",
      "execution_count": null,
      "metadata": {
        "id": "yx2YlUn6cgIg"
      },
      "outputs": [
        {
          "name": "stdout",
          "output_type": "stream",
          "text": [
            "        1 file(s) copied.\n"
          ]
        }
      ],
      "source": [
        "!copy phishing_copy.csv \"C:/Users/Liberty/OneDrive/Desktop/CYBER/PROJECTS/Phishing-website-detection-using-ML/Datasets\"\n",
        "!del phishing_copy.csv"
      ]
    },
    {
      "cell_type": "markdown",
      "metadata": {
        "id": "DVWKkJqpbR08"
      },
      "source": [
        "> **Final Dataset**"
      ]
    },
    {
      "cell_type": "code",
      "execution_count": null,
      "metadata": {
        "id": "_tNI5j-nbZxn"
      },
      "outputs": [
        {
          "data": {
            "text/html": [
              "<div>\n",
              "<style scoped>\n",
              "    .dataframe tbody tr th:only-of-type {\n",
              "        vertical-align: middle;\n",
              "    }\n",
              "\n",
              "    .dataframe tbody tr th {\n",
              "        vertical-align: top;\n",
              "    }\n",
              "\n",
              "    .dataframe thead th {\n",
              "        text-align: right;\n",
              "    }\n",
              "</style>\n",
              "<table border=\"1\" class=\"dataframe\">\n",
              "  <thead>\n",
              "    <tr style=\"text-align: right;\">\n",
              "      <th></th>\n",
              "      <th>Domain</th>\n",
              "      <th>Have_IP</th>\n",
              "      <th>Have_At</th>\n",
              "      <th>URL_Length</th>\n",
              "      <th>URL_Depth</th>\n",
              "      <th>Redirection</th>\n",
              "      <th>https_Domain</th>\n",
              "      <th>TinyURL</th>\n",
              "      <th>Prefix/Suffix</th>\n",
              "      <th>DNS_Record</th>\n",
              "      <th>Web_Traffic</th>\n",
              "      <th>Domain_Age</th>\n",
              "      <th>Domain_End</th>\n",
              "      <th>iFrame</th>\n",
              "      <th>Mouse_Over</th>\n",
              "      <th>Right_Click</th>\n",
              "      <th>Web_Forwards</th>\n",
              "      <th>Label</th>\n",
              "    </tr>\n",
              "  </thead>\n",
              "  <tbody>\n",
              "    <tr>\n",
              "      <th>0</th>\n",
              "      <td>graphicriver.net</td>\n",
              "      <td>0</td>\n",
              "      <td>0</td>\n",
              "      <td>1</td>\n",
              "      <td>1</td>\n",
              "      <td>0</td>\n",
              "      <td>0</td>\n",
              "      <td>0</td>\n",
              "      <td>0</td>\n",
              "      <td>0</td>\n",
              "      <td>NaN</td>\n",
              "      <td>1</td>\n",
              "      <td>1</td>\n",
              "      <td>0</td>\n",
              "      <td>0</td>\n",
              "      <td>1</td>\n",
              "      <td>0</td>\n",
              "      <td>0</td>\n",
              "    </tr>\n",
              "    <tr>\n",
              "      <th>1</th>\n",
              "      <td>ecnavi.jp</td>\n",
              "      <td>0</td>\n",
              "      <td>0</td>\n",
              "      <td>1</td>\n",
              "      <td>1</td>\n",
              "      <td>1</td>\n",
              "      <td>0</td>\n",
              "      <td>0</td>\n",
              "      <td>0</td>\n",
              "      <td>0</td>\n",
              "      <td>NaN</td>\n",
              "      <td>0</td>\n",
              "      <td>1</td>\n",
              "      <td>0</td>\n",
              "      <td>0</td>\n",
              "      <td>1</td>\n",
              "      <td>0</td>\n",
              "      <td>0</td>\n",
              "    </tr>\n",
              "    <tr>\n",
              "      <th>2</th>\n",
              "      <td>hubpages.com</td>\n",
              "      <td>0</td>\n",
              "      <td>0</td>\n",
              "      <td>1</td>\n",
              "      <td>1</td>\n",
              "      <td>0</td>\n",
              "      <td>0</td>\n",
              "      <td>0</td>\n",
              "      <td>0</td>\n",
              "      <td>0</td>\n",
              "      <td>NaN</td>\n",
              "      <td>0</td>\n",
              "      <td>1</td>\n",
              "      <td>0</td>\n",
              "      <td>0</td>\n",
              "      <td>1</td>\n",
              "      <td>0</td>\n",
              "      <td>0</td>\n",
              "    </tr>\n",
              "    <tr>\n",
              "      <th>3</th>\n",
              "      <td>extratorrent.cc</td>\n",
              "      <td>0</td>\n",
              "      <td>0</td>\n",
              "      <td>1</td>\n",
              "      <td>3</td>\n",
              "      <td>0</td>\n",
              "      <td>0</td>\n",
              "      <td>0</td>\n",
              "      <td>0</td>\n",
              "      <td>0</td>\n",
              "      <td>NaN</td>\n",
              "      <td>0</td>\n",
              "      <td>0</td>\n",
              "      <td>1</td>\n",
              "      <td>1</td>\n",
              "      <td>1</td>\n",
              "      <td>1</td>\n",
              "      <td>0</td>\n",
              "    </tr>\n",
              "    <tr>\n",
              "      <th>4</th>\n",
              "      <td>icicibank.com</td>\n",
              "      <td>0</td>\n",
              "      <td>0</td>\n",
              "      <td>1</td>\n",
              "      <td>3</td>\n",
              "      <td>0</td>\n",
              "      <td>0</td>\n",
              "      <td>0</td>\n",
              "      <td>0</td>\n",
              "      <td>0</td>\n",
              "      <td>NaN</td>\n",
              "      <td>0</td>\n",
              "      <td>1</td>\n",
              "      <td>1</td>\n",
              "      <td>1</td>\n",
              "      <td>1</td>\n",
              "      <td>1</td>\n",
              "      <td>0</td>\n",
              "    </tr>\n",
              "  </tbody>\n",
              "</table>\n",
              "</div>"
            ],
            "text/plain": [
              "             Domain  Have_IP  Have_At  URL_Length  URL_Depth  Redirection  \\\n",
              "0  graphicriver.net        0        0           1          1            0   \n",
              "1         ecnavi.jp        0        0           1          1            1   \n",
              "2      hubpages.com        0        0           1          1            0   \n",
              "3   extratorrent.cc        0        0           1          3            0   \n",
              "4     icicibank.com        0        0           1          3            0   \n",
              "\n",
              "   https_Domain  TinyURL  Prefix/Suffix  DNS_Record  Web_Traffic  Domain_Age  \\\n",
              "0             0        0              0           0          NaN           1   \n",
              "1             0        0              0           0          NaN           0   \n",
              "2             0        0              0           0          NaN           0   \n",
              "3             0        0              0           0          NaN           0   \n",
              "4             0        0              0           0          NaN           0   \n",
              "\n",
              "   Domain_End iFrame Mouse_Over Right_Click Web_Forwards  Label  \n",
              "0           1      0          0           1            0      0  \n",
              "1           1      0          0           1            0      0  \n",
              "2           1      0          0           1            0      0  \n",
              "3           0      1          1           1            1      0  \n",
              "4           1      1          1           1            1      0  "
            ]
          },
          "execution_count": 86,
          "metadata": {},
          "output_type": "execute_result"
        }
      ],
      "source": [
        "#Concatenating the dataframes into one \n",
        "urldata = pd.concat([legitimate, phishing]).reset_index(drop=True)\n",
        "feature_names = ['Domain', 'Have_IP', 'Have_At', 'URL_Length', 'URL_Depth','Redirection', \n",
        "                      'https_Domain', 'TinyURL', 'Prefix/Suffix', 'DNS_Record', 'Web_Traffic', \n",
        "                      'Domain_Age', 'Domain_End', 'iFrame', 'Mouse_Over','Right_Click', 'Web_Forwards', 'Label']\n",
        "urldata = pd.DataFrame(urldata, columns= feature_names)\n",
        "urldata.head()\n"
      ]
    },
    {
      "cell_type": "code",
      "execution_count": null,
      "metadata": {
        "id": "-llH3ESSbgzf"
      },
      "outputs": [
        {
          "data": {
            "text/plain": [
              "(5378, 18)"
            ]
          },
          "execution_count": 87,
          "metadata": {},
          "output_type": "execute_result"
        }
      ],
      "source": [
        "urldata.shape\n"
      ]
    },
    {
      "cell_type": "code",
      "execution_count": null,
      "metadata": {
        "id": "YUEAEPQ4bkH-"
      },
      "outputs": [],
      "source": [
        "# Storing the data in CSV file\n",
        "urldata.to_csv('final_data.csv', index=False)\n",
        "\n"
      ]
    },
    {
      "cell_type": "code",
      "execution_count": null,
      "metadata": {
        "id": "Mj1PGCAhbmhQ"
      },
      "outputs": [
        {
          "name": "stdout",
          "output_type": "stream",
          "text": [
            "        1 file(s) copied.\n"
          ]
        }
      ],
      "source": [
        "!copy final_data.csv \"C:/Users/Liberty/OneDrive/Desktop/CYBER/PROJECTS/Phishing-website-detection-using-ML/Datasets\"\n",
        "!del final_data.csv"
      ]
    },
    {
      "cell_type": "code",
      "execution_count": null,
      "metadata": {
        "id": "q9mHg1Z_yYK4"
      },
      "outputs": [],
      "source": [
        "temp = pd.read_csv('C:/Users/Liberty/OneDrive/Desktop/CYBER/PROJECTS/Phishing-website-detection-using-ML/Datasets/final_data.csv')"
      ]
    },
    {
      "cell_type": "code",
      "execution_count": null,
      "metadata": {
        "id": "E75xO6R3yhGj"
      },
      "outputs": [
        {
          "data": {
            "text/plain": [
              "(5378, 18)"
            ]
          },
          "execution_count": 92,
          "metadata": {},
          "output_type": "execute_result"
        }
      ],
      "source": [
        "temp.shape"
      ]
    },
    {
      "cell_type": "code",
      "execution_count": null,
      "metadata": {
        "id": "q20F9_3Lyi0L"
      },
      "outputs": [],
      "source": []
    }
  ],
  "metadata": {
    "colab": {
      "collapsed_sections": [
        "oZsLCJPmXHoZ",
        "wV3wx4M4Urqy",
        "M1PaqYikTcWs",
        "RaIBvylCWvw6",
        "huvHmSAx0oDV"
      ],
      "name": "Copy of FeatureExtraction.ipynb",
      "provenance": []
    },
    "kernelspec": {
      "display_name": "Python 3",
      "name": "python3"
    },
    "language_info": {
      "codemirror_mode": {
        "name": "ipython",
        "version": 3
      },
      "file_extension": ".py",
      "mimetype": "text/x-python",
      "name": "python",
      "nbconvert_exporter": "python",
      "pygments_lexer": "ipython3",
      "version": "3.11.4"
    }
  },
  "nbformat": 4,
  "nbformat_minor": 0
}
